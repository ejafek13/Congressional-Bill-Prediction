{
 "cells": [
  {
   "cell_type": "code",
   "execution_count": 1,
   "metadata": {
    "ExecuteTime": {
     "end_time": "2020-03-11T01:29:48.109323Z",
     "start_time": "2020-03-11T01:29:46.050262Z"
    }
   },
   "outputs": [],
   "source": [
    "import pandas as pd \n",
    "import numpy as np \n",
    "from sklearn.utils import resample\n",
    "from sklearn.model_selection import train_test_split\n",
    "\n",
    "from sklearn.ensemble import RandomForestClassifier, AdaBoostClassifier\n",
    "from sklearn.linear_model import LogisticRegression\n",
    "import tqdm\n",
    "import pprint as pp\n",
    "\n",
    "from sklearn.metrics import confusion_matrix, classification_report\n",
    "\n",
    "import matplotlib.pyplot as plt\n",
    "import seaborn as sns\n",
    "\n",
    "from sklearn.model_selection import GridSearchCV\n",
    "from sklearn.feature_selection import RFECV"
   ]
  },
  {
   "cell_type": "code",
   "execution_count": 2,
   "metadata": {
    "ExecuteTime": {
     "end_time": "2020-03-11T01:29:50.238982Z",
     "start_time": "2020-03-11T01:29:48.112244Z"
    }
   },
   "outputs": [],
   "source": [
    "df = pd.read_csv(\"./Data/final_dummies_add.csv\")"
   ]
  },
  {
   "cell_type": "code",
   "execution_count": 12,
   "metadata": {
    "ExecuteTime": {
     "end_time": "2020-03-11T01:33:23.067304Z",
     "start_time": "2020-03-11T01:33:23.063284Z"
    }
   },
   "outputs": [
    {
     "data": {
      "text/plain": [
       "Index(['bill_id', 'title', 'sponsor_title', 'sponsor_name', 'sponsor_state',\n",
       "       'introduced_date', 'cosponsors', 'cosponsors_by_party', 'committees',\n",
       "       'summary',\n",
       "       ...\n",
       "       'clean_committees_Rules and Administration', 'clean_committees_Science',\n",
       "       'clean_committees_Science and Technology',\n",
       "       'clean_committees_Science, Space, and Technology',\n",
       "       'clean_committees_Small Business',\n",
       "       'clean_committees_Small Business and Entrepreneurship',\n",
       "       'clean_committees_Standards of Official Conduct',\n",
       "       'clean_committees_Transportation and Infrastructure',\n",
       "       'clean_committees_Ways and Means', 'law_Law'],\n",
       "      dtype='object', length=123)"
      ]
     },
     "execution_count": 12,
     "metadata": {},
     "output_type": "execute_result"
    }
   ],
   "source": [
    "df.columns"
   ]
  },
  {
   "cell_type": "code",
   "execution_count": 4,
   "metadata": {
    "ExecuteTime": {
     "end_time": "2020-03-11T01:29:50.472837Z",
     "start_time": "2020-03-11T01:29:50.249371Z"
    }
   },
   "outputs": [],
   "source": [
    "x = df.select_dtypes([int, float, bool]).drop(\"law_Law\", axis = 1)\n",
    "y = df.law_Law\n",
    "\n",
    "x_train, x_test, y_train, y_test = train_test_split(x, y)"
   ]
  },
  {
   "cell_type": "code",
   "execution_count": 27,
   "metadata": {
    "ExecuteTime": {
     "end_time": "2020-03-11T01:38:10.549778Z",
     "start_time": "2020-03-11T01:38:10.495622Z"
    }
   },
   "outputs": [],
   "source": [
    "train = x_train.join(y_train)"
   ]
  },
  {
   "cell_type": "code",
   "execution_count": 60,
   "metadata": {
    "ExecuteTime": {
     "end_time": "2020-03-11T01:47:08.566514Z",
     "start_time": "2020-03-11T01:47:08.520911Z"
    }
   },
   "outputs": [],
   "source": [
    "sample = resample(train[train['law_Law'] == 1], replace = True, n_samples = 50_000, random_state = 13)"
   ]
  },
  {
   "cell_type": "code",
   "execution_count": 61,
   "metadata": {
    "ExecuteTime": {
     "end_time": "2020-03-11T01:47:15.713150Z",
     "start_time": "2020-03-11T01:47:15.551068Z"
    }
   },
   "outputs": [],
   "source": [
    "train_samples = pd.concat([train, sample])"
   ]
  },
  {
   "cell_type": "code",
   "execution_count": 62,
   "metadata": {
    "ExecuteTime": {
     "end_time": "2020-03-11T01:47:15.726641Z",
     "start_time": "2020-03-11T01:47:15.715528Z"
    }
   },
   "outputs": [
    {
     "data": {
      "text/plain": [
       "0    0.606378\n",
       "1    0.393622\n",
       "Name: law_Law, dtype: float64"
      ]
     },
     "execution_count": 62,
     "metadata": {},
     "output_type": "execute_result"
    }
   ],
   "source": [
    "train_samples['law_Law'].value_counts(normalize = True)"
   ]
  },
  {
   "cell_type": "code",
   "execution_count": 63,
   "metadata": {
    "ExecuteTime": {
     "end_time": "2020-03-11T01:47:15.783720Z",
     "start_time": "2020-03-11T01:47:15.730429Z"
    }
   },
   "outputs": [],
   "source": [
    "x_train = train.drop(\"law_Law\", axis = 1)\n",
    "y_train = train.law_Law"
   ]
  },
  {
   "cell_type": "markdown",
   "metadata": {},
   "source": [
    "# Feature Selection"
   ]
  },
  {
   "cell_type": "code",
   "execution_count": 64,
   "metadata": {
    "ExecuteTime": {
     "end_time": "2020-03-11T01:47:15.789732Z",
     "start_time": "2020-03-11T01:47:15.786589Z"
    }
   },
   "outputs": [],
   "source": [
    "rfe = RFECV(lr, step = 1, cv = 5, n_jobs = 4)"
   ]
  },
  {
   "cell_type": "code",
   "execution_count": 65,
   "metadata": {
    "ExecuteTime": {
     "end_time": "2020-03-11T01:48:44.731744Z",
     "start_time": "2020-03-11T01:47:15.792364Z"
    }
   },
   "outputs": [
    {
     "name": "stderr",
     "output_type": "stream",
     "text": [
      "/opt/anaconda3/lib/python3.7/site-packages/sklearn/linear_model/logistic.py:432: FutureWarning: Default solver will be changed to 'lbfgs' in 0.22. Specify a solver to silence this warning.\n",
      "  FutureWarning)\n",
      "/opt/anaconda3/lib/python3.7/site-packages/sklearn/linear_model/logistic.py:432: FutureWarning: Default solver will be changed to 'lbfgs' in 0.22. Specify a solver to silence this warning.\n",
      "  FutureWarning)\n",
      "/opt/anaconda3/lib/python3.7/site-packages/sklearn/linear_model/logistic.py:432: FutureWarning: Default solver will be changed to 'lbfgs' in 0.22. Specify a solver to silence this warning.\n",
      "  FutureWarning)\n",
      "/opt/anaconda3/lib/python3.7/site-packages/sklearn/linear_model/logistic.py:432: FutureWarning: Default solver will be changed to 'lbfgs' in 0.22. Specify a solver to silence this warning.\n",
      "  FutureWarning)\n"
     ]
    },
    {
     "data": {
      "text/plain": [
       "RFECV(cv=5,\n",
       "      estimator=LogisticRegression(C=1.0, class_weight=None, dual=False,\n",
       "                                   fit_intercept=True, intercept_scaling=1,\n",
       "                                   l1_ratio=None, max_iter=100,\n",
       "                                   multi_class='warn', n_jobs=None,\n",
       "                                   penalty='l2', random_state=None,\n",
       "                                   solver='warn', tol=0.0001, verbose=0,\n",
       "                                   warm_start=False),\n",
       "      min_features_to_select=1, n_jobs=4, scoring=None, step=1, verbose=0)"
      ]
     },
     "execution_count": 65,
     "metadata": {},
     "output_type": "execute_result"
    }
   ],
   "source": [
    "rfe.fit(x_train, y_train)"
   ]
  },
  {
   "cell_type": "code",
   "execution_count": 66,
   "metadata": {
    "ExecuteTime": {
     "end_time": "2020-03-11T01:48:44.739005Z",
     "start_time": "2020-03-11T01:48:44.733953Z"
    }
   },
   "outputs": [
    {
     "data": {
      "text/plain": [
       "array([ True,  True,  True,  True,  True,  True, False,  True,  True,\n",
       "        True,  True,  True,  True,  True,  True,  True,  True,  True,\n",
       "        True,  True,  True,  True,  True,  True,  True,  True,  True,\n",
       "        True,  True,  True,  True,  True,  True,  True,  True,  True,\n",
       "        True,  True,  True,  True,  True,  True,  True,  True,  True,\n",
       "        True,  True,  True,  True,  True,  True,  True,  True,  True,\n",
       "        True,  True,  True,  True,  True,  True,  True,  True,  True,\n",
       "        True, False,  True,  True,  True,  True,  True,  True,  True,\n",
       "        True,  True,  True,  True,  True,  True,  True,  True,  True,\n",
       "        True,  True,  True,  True,  True,  True,  True,  True,  True,\n",
       "        True,  True,  True,  True,  True,  True,  True,  True,  True,\n",
       "        True,  True,  True,  True,  True])"
      ]
     },
     "execution_count": 66,
     "metadata": {},
     "output_type": "execute_result"
    }
   ],
   "source": [
    "rfe.support_"
   ]
  },
  {
   "cell_type": "code",
   "execution_count": 67,
   "metadata": {
    "ExecuteTime": {
     "end_time": "2020-03-11T01:48:44.745211Z",
     "start_time": "2020-03-11T01:48:44.741196Z"
    }
   },
   "outputs": [
    {
     "data": {
      "text/plain": [
       "array([1, 1, 1, 1, 1, 1, 3, 1, 1, 1, 1, 1, 1, 1, 1, 1, 1, 1, 1, 1, 1, 1,\n",
       "       1, 1, 1, 1, 1, 1, 1, 1, 1, 1, 1, 1, 1, 1, 1, 1, 1, 1, 1, 1, 1, 1,\n",
       "       1, 1, 1, 1, 1, 1, 1, 1, 1, 1, 1, 1, 1, 1, 1, 1, 1, 1, 1, 1, 2, 1,\n",
       "       1, 1, 1, 1, 1, 1, 1, 1, 1, 1, 1, 1, 1, 1, 1, 1, 1, 1, 1, 1, 1, 1,\n",
       "       1, 1, 1, 1, 1, 1, 1, 1, 1, 1, 1, 1, 1, 1, 1, 1])"
      ]
     },
     "execution_count": 67,
     "metadata": {},
     "output_type": "execute_result"
    }
   ],
   "source": [
    "rfe.ranking_"
   ]
  },
  {
   "cell_type": "code",
   "execution_count": 68,
   "metadata": {
    "ExecuteTime": {
     "end_time": "2020-03-11T01:48:44.751387Z",
     "start_time": "2020-03-11T01:48:44.748812Z"
    }
   },
   "outputs": [],
   "source": [
    "arr = rfe.support_\n",
    "arr = np.where(arr)[0]"
   ]
  },
  {
   "cell_type": "code",
   "execution_count": 69,
   "metadata": {
    "ExecuteTime": {
     "end_time": "2020-03-11T01:48:44.801004Z",
     "start_time": "2020-03-11T01:48:44.754763Z"
    }
   },
   "outputs": [],
   "source": [
    "x_train_good = x_train.iloc[:, arr]"
   ]
  },
  {
   "cell_type": "code",
   "execution_count": 70,
   "metadata": {
    "ExecuteTime": {
     "end_time": "2020-03-11T01:48:44.823043Z",
     "start_time": "2020-03-11T01:48:44.803191Z"
    }
   },
   "outputs": [],
   "source": [
    "x_test_good = x_test.iloc[:, arr]"
   ]
  },
  {
   "cell_type": "markdown",
   "metadata": {
    "ExecuteTime": {
     "end_time": "2020-03-05T22:26:20.470612Z",
     "start_time": "2020-03-05T22:26:20.468307Z"
    }
   },
   "source": [
    "# Logistic Regression"
   ]
  },
  {
   "cell_type": "code",
   "execution_count": 71,
   "metadata": {
    "ExecuteTime": {
     "end_time": "2020-03-11T01:48:46.596255Z",
     "start_time": "2020-03-11T01:48:44.825182Z"
    }
   },
   "outputs": [
    {
     "name": "stderr",
     "output_type": "stream",
     "text": [
      "/opt/anaconda3/lib/python3.7/site-packages/sklearn/linear_model/logistic.py:432: FutureWarning: Default solver will be changed to 'lbfgs' in 0.22. Specify a solver to silence this warning.\n",
      "  FutureWarning)\n"
     ]
    },
    {
     "name": "stdout",
     "output_type": "stream",
     "text": [
      "0.9664711111111111\n"
     ]
    },
    {
     "data": {
      "text/plain": [
       "0.9643377777777777"
      ]
     },
     "execution_count": 71,
     "metadata": {},
     "output_type": "execute_result"
    }
   ],
   "source": [
    "lr = LogisticRegression(penalty=\"l2\")\n",
    "\n",
    "lr.fit(x_train_good, y_train)\n",
    "\n",
    "print(lr.score(x_train_good, y_train))\n",
    "\n",
    "lr.score(x_test_good, y_test)"
   ]
  },
  {
   "cell_type": "code",
   "execution_count": 72,
   "metadata": {
    "ExecuteTime": {
     "end_time": "2020-03-11T01:48:46.719449Z",
     "start_time": "2020-03-11T01:48:46.598558Z"
    }
   },
   "outputs": [],
   "source": [
    "preds = lr.predict(x_test_good)"
   ]
  },
  {
   "cell_type": "code",
   "execution_count": 73,
   "metadata": {
    "ExecuteTime": {
     "end_time": "2020-03-11T01:48:46.723225Z",
     "start_time": "2020-03-11T01:48:46.721103Z"
    }
   },
   "outputs": [],
   "source": [
    "#high precision -- low false positives\n",
    "#high recall -- low false negatives"
   ]
  },
  {
   "cell_type": "code",
   "execution_count": 74,
   "metadata": {
    "ExecuteTime": {
     "end_time": "2020-03-11T01:48:46.755396Z",
     "start_time": "2020-03-11T01:48:46.725468Z"
    }
   },
   "outputs": [
    {
     "name": "stdout",
     "output_type": "stream",
     "text": [
      "('              precision    recall  f1-score   support\\n'\n",
      " '\\n'\n",
      " '           0       0.97      1.00      0.98     27111\\n'\n",
      " '           1       0.56      0.05      0.09      1014\\n'\n",
      " '\\n'\n",
      " '    accuracy                           0.96     28125\\n'\n",
      " '   macro avg       0.77      0.52      0.53     28125\\n'\n",
      " 'weighted avg       0.95      0.96      0.95     28125\\n')\n"
     ]
    }
   ],
   "source": [
    "clm = classification_report(y_test, preds)\n",
    "pp.pprint(clm)"
   ]
  },
  {
   "cell_type": "code",
   "execution_count": 75,
   "metadata": {
    "ExecuteTime": {
     "end_time": "2020-03-11T01:48:46.781023Z",
     "start_time": "2020-03-11T01:48:46.757986Z"
    }
   },
   "outputs": [
    {
     "data": {
      "text/plain": [
       "array([[27074,    37],\n",
       "       [  966,    48]])"
      ]
     },
     "execution_count": 75,
     "metadata": {},
     "output_type": "execute_result"
    }
   ],
   "source": [
    "cm = confusion_matrix(y_test, preds)\n",
    "cm"
   ]
  },
  {
   "cell_type": "markdown",
   "metadata": {},
   "source": [
    "# Random Forest Model"
   ]
  },
  {
   "cell_type": "code",
   "execution_count": 76,
   "metadata": {
    "ExecuteTime": {
     "end_time": "2020-03-11T01:48:49.315570Z",
     "start_time": "2020-03-11T01:48:46.782854Z"
    }
   },
   "outputs": [
    {
     "name": "stderr",
     "output_type": "stream",
     "text": [
      "/opt/anaconda3/lib/python3.7/site-packages/sklearn/ensemble/forest.py:245: FutureWarning: The default value of n_estimators will change from 10 in version 0.20 to 100 in 0.22.\n",
      "  \"10 in version 0.20 to 100 in 0.22.\", FutureWarning)\n"
     ]
    },
    {
     "name": "stdout",
     "output_type": "stream",
     "text": [
      "0.9916918518518518\n"
     ]
    },
    {
     "data": {
      "text/plain": [
       "0.9632711111111111"
      ]
     },
     "execution_count": 76,
     "metadata": {},
     "output_type": "execute_result"
    }
   ],
   "source": [
    "rf = RandomForestClassifier()\n",
    "\n",
    "rf.fit(x_train_good, y_train)\n",
    "print(rf.score(x_train_good, y_train))\n",
    "\n",
    "rf.score(x_test_good, y_test)"
   ]
  },
  {
   "cell_type": "code",
   "execution_count": 77,
   "metadata": {
    "ExecuteTime": {
     "end_time": "2020-03-11T01:48:49.515766Z",
     "start_time": "2020-03-11T01:48:49.317746Z"
    }
   },
   "outputs": [
    {
     "name": "stdout",
     "output_type": "stream",
     "text": [
      "('              precision    recall  f1-score   support\\n'\n",
      " '\\n'\n",
      " '           0       0.97      0.99      0.98     27111\\n'\n",
      " '           1       0.48      0.20      0.28      1014\\n'\n",
      " '\\n'\n",
      " '    accuracy                           0.96     28125\\n'\n",
      " '   macro avg       0.72      0.60      0.63     28125\\n'\n",
      " 'weighted avg       0.95      0.96      0.96     28125\\n')\n"
     ]
    }
   ],
   "source": [
    "preds = rf.predict(x_test_good)\n",
    "\n",
    "clm = classification_report(y_test, preds)\n",
    "pp.pprint(clm)"
   ]
  },
  {
   "cell_type": "code",
   "execution_count": 78,
   "metadata": {
    "ExecuteTime": {
     "end_time": "2020-03-11T01:48:49.664234Z",
     "start_time": "2020-03-11T01:48:49.517270Z"
    }
   },
   "outputs": [
    {
     "ename": "ValueError",
     "evalue": "Number of features of the model must match the input. Model n_features is 102 and input n_features is 104 ",
     "output_type": "error",
     "traceback": [
      "\u001b[0;31m---------------------------------------------------------------------------\u001b[0m",
      "\u001b[0;31mValueError\u001b[0m                                Traceback (most recent call last)",
      "\u001b[0;32m<ipython-input-78-74afbc17b4e7>\u001b[0m in \u001b[0;36m<module>\u001b[0;34m\u001b[0m\n\u001b[0;32m----> 1\u001b[0;31m \u001b[0mpreds\u001b[0m \u001b[0;34m=\u001b[0m \u001b[0mrf\u001b[0m\u001b[0;34m.\u001b[0m\u001b[0mpredict\u001b[0m\u001b[0;34m(\u001b[0m\u001b[0mx_test\u001b[0m\u001b[0;34m)\u001b[0m\u001b[0;34m\u001b[0m\u001b[0;34m\u001b[0m\u001b[0m\n\u001b[0m\u001b[1;32m      2\u001b[0m \u001b[0;34m\u001b[0m\u001b[0m\n\u001b[1;32m      3\u001b[0m \u001b[0mclm\u001b[0m \u001b[0;34m=\u001b[0m \u001b[0mclassification_report\u001b[0m\u001b[0;34m(\u001b[0m\u001b[0my_test\u001b[0m\u001b[0;34m,\u001b[0m \u001b[0mpreds\u001b[0m\u001b[0;34m)\u001b[0m\u001b[0;34m\u001b[0m\u001b[0;34m\u001b[0m\u001b[0m\n\u001b[1;32m      4\u001b[0m \u001b[0mpp\u001b[0m\u001b[0;34m.\u001b[0m\u001b[0mpprint\u001b[0m\u001b[0;34m(\u001b[0m\u001b[0mclm\u001b[0m\u001b[0;34m)\u001b[0m\u001b[0;34m\u001b[0m\u001b[0;34m\u001b[0m\u001b[0m\n",
      "\u001b[0;32m/opt/anaconda3/lib/python3.7/site-packages/sklearn/ensemble/forest.py\u001b[0m in \u001b[0;36mpredict\u001b[0;34m(self, X)\u001b[0m\n\u001b[1;32m    543\u001b[0m             \u001b[0mThe\u001b[0m \u001b[0mpredicted\u001b[0m \u001b[0mclasses\u001b[0m\u001b[0;34m.\u001b[0m\u001b[0;34m\u001b[0m\u001b[0;34m\u001b[0m\u001b[0m\n\u001b[1;32m    544\u001b[0m         \"\"\"\n\u001b[0;32m--> 545\u001b[0;31m         \u001b[0mproba\u001b[0m \u001b[0;34m=\u001b[0m \u001b[0mself\u001b[0m\u001b[0;34m.\u001b[0m\u001b[0mpredict_proba\u001b[0m\u001b[0;34m(\u001b[0m\u001b[0mX\u001b[0m\u001b[0;34m)\u001b[0m\u001b[0;34m\u001b[0m\u001b[0;34m\u001b[0m\u001b[0m\n\u001b[0m\u001b[1;32m    546\u001b[0m \u001b[0;34m\u001b[0m\u001b[0m\n\u001b[1;32m    547\u001b[0m         \u001b[0;32mif\u001b[0m \u001b[0mself\u001b[0m\u001b[0;34m.\u001b[0m\u001b[0mn_outputs_\u001b[0m \u001b[0;34m==\u001b[0m \u001b[0;36m1\u001b[0m\u001b[0;34m:\u001b[0m\u001b[0;34m\u001b[0m\u001b[0;34m\u001b[0m\u001b[0m\n",
      "\u001b[0;32m/opt/anaconda3/lib/python3.7/site-packages/sklearn/ensemble/forest.py\u001b[0m in \u001b[0;36mpredict_proba\u001b[0;34m(self, X)\u001b[0m\n\u001b[1;32m    586\u001b[0m         \u001b[0mcheck_is_fitted\u001b[0m\u001b[0;34m(\u001b[0m\u001b[0mself\u001b[0m\u001b[0;34m,\u001b[0m \u001b[0;34m'estimators_'\u001b[0m\u001b[0;34m)\u001b[0m\u001b[0;34m\u001b[0m\u001b[0;34m\u001b[0m\u001b[0m\n\u001b[1;32m    587\u001b[0m         \u001b[0;31m# Check data\u001b[0m\u001b[0;34m\u001b[0m\u001b[0;34m\u001b[0m\u001b[0;34m\u001b[0m\u001b[0m\n\u001b[0;32m--> 588\u001b[0;31m         \u001b[0mX\u001b[0m \u001b[0;34m=\u001b[0m \u001b[0mself\u001b[0m\u001b[0;34m.\u001b[0m\u001b[0m_validate_X_predict\u001b[0m\u001b[0;34m(\u001b[0m\u001b[0mX\u001b[0m\u001b[0;34m)\u001b[0m\u001b[0;34m\u001b[0m\u001b[0;34m\u001b[0m\u001b[0m\n\u001b[0m\u001b[1;32m    589\u001b[0m \u001b[0;34m\u001b[0m\u001b[0m\n\u001b[1;32m    590\u001b[0m         \u001b[0;31m# Assign chunk of trees to jobs\u001b[0m\u001b[0;34m\u001b[0m\u001b[0;34m\u001b[0m\u001b[0;34m\u001b[0m\u001b[0m\n",
      "\u001b[0;32m/opt/anaconda3/lib/python3.7/site-packages/sklearn/ensemble/forest.py\u001b[0m in \u001b[0;36m_validate_X_predict\u001b[0;34m(self, X)\u001b[0m\n\u001b[1;32m    357\u001b[0m                                  \"call `fit` before exploiting the model.\")\n\u001b[1;32m    358\u001b[0m \u001b[0;34m\u001b[0m\u001b[0m\n\u001b[0;32m--> 359\u001b[0;31m         \u001b[0;32mreturn\u001b[0m \u001b[0mself\u001b[0m\u001b[0;34m.\u001b[0m\u001b[0mestimators_\u001b[0m\u001b[0;34m[\u001b[0m\u001b[0;36m0\u001b[0m\u001b[0;34m]\u001b[0m\u001b[0;34m.\u001b[0m\u001b[0m_validate_X_predict\u001b[0m\u001b[0;34m(\u001b[0m\u001b[0mX\u001b[0m\u001b[0;34m,\u001b[0m \u001b[0mcheck_input\u001b[0m\u001b[0;34m=\u001b[0m\u001b[0;32mTrue\u001b[0m\u001b[0;34m)\u001b[0m\u001b[0;34m\u001b[0m\u001b[0;34m\u001b[0m\u001b[0m\n\u001b[0m\u001b[1;32m    360\u001b[0m \u001b[0;34m\u001b[0m\u001b[0m\n\u001b[1;32m    361\u001b[0m     \u001b[0;34m@\u001b[0m\u001b[0mproperty\u001b[0m\u001b[0;34m\u001b[0m\u001b[0;34m\u001b[0m\u001b[0m\n",
      "\u001b[0;32m/opt/anaconda3/lib/python3.7/site-packages/sklearn/tree/tree.py\u001b[0m in \u001b[0;36m_validate_X_predict\u001b[0;34m(self, X, check_input)\u001b[0m\n\u001b[1;32m    400\u001b[0m                              \u001b[0;34m\"match the input. Model n_features is %s and \"\u001b[0m\u001b[0;34m\u001b[0m\u001b[0;34m\u001b[0m\u001b[0m\n\u001b[1;32m    401\u001b[0m                              \u001b[0;34m\"input n_features is %s \"\u001b[0m\u001b[0;34m\u001b[0m\u001b[0;34m\u001b[0m\u001b[0m\n\u001b[0;32m--> 402\u001b[0;31m                              % (self.n_features_, n_features))\n\u001b[0m\u001b[1;32m    403\u001b[0m \u001b[0;34m\u001b[0m\u001b[0m\n\u001b[1;32m    404\u001b[0m         \u001b[0;32mreturn\u001b[0m \u001b[0mX\u001b[0m\u001b[0;34m\u001b[0m\u001b[0;34m\u001b[0m\u001b[0m\n",
      "\u001b[0;31mValueError\u001b[0m: Number of features of the model must match the input. Model n_features is 102 and input n_features is 104 "
     ]
    }
   ],
   "source": [
    "preds = rf.predict(x_test)\n",
    "\n",
    "clm = classification_report(y_test, preds)\n",
    "pp.pprint(clm)"
   ]
  },
  {
   "cell_type": "code",
   "execution_count": null,
   "metadata": {
    "ExecuteTime": {
     "end_time": "2020-03-11T01:48:49.667534Z",
     "start_time": "2020-03-11T01:47:15.576Z"
    }
   },
   "outputs": [],
   "source": [
    "params = "
   ]
  },
  {
   "cell_type": "code",
   "execution_count": null,
   "metadata": {
    "ExecuteTime": {
     "end_time": "2020-03-11T01:48:49.668519Z",
     "start_time": "2020-03-11T01:47:15.578Z"
    }
   },
   "outputs": [],
   "source": [
    "predict_probas = rf.predict_proba"
   ]
  },
  {
   "cell_type": "code",
   "execution_count": null,
   "metadata": {
    "ExecuteTime": {
     "end_time": "2020-03-11T01:48:49.669727Z",
     "start_time": "2020-03-11T01:47:15.579Z"
    }
   },
   "outputs": [],
   "source": [
    "cm = confusion_matrix(y_test, preds)\n",
    "cm"
   ]
  },
  {
   "cell_type": "code",
   "execution_count": null,
   "metadata": {
    "ExecuteTime": {
     "end_time": "2020-03-11T01:48:49.670814Z",
     "start_time": "2020-03-11T01:47:15.580Z"
    }
   },
   "outputs": [],
   "source": [
    "plt.xticks(rotation = 45)\n",
    "sns.countplot(y_test, color = \"crimson\", alpha = .5)\n",
    "sns.countplot(preds, color = \"slateblue\", alpha = .5);\n",
    "#the model is overpredicting referred to committee. Especially bad at referred to full chamber"
   ]
  },
  {
   "cell_type": "code",
   "execution_count": null,
   "metadata": {
    "ExecuteTime": {
     "end_time": "2020-03-11T01:48:49.672191Z",
     "start_time": "2020-03-11T01:47:15.582Z"
    }
   },
   "outputs": [],
   "source": [
    "probas = rf.predict_proba(x_test)"
   ]
  },
  {
   "cell_type": "code",
   "execution_count": null,
   "metadata": {
    "ExecuteTime": {
     "end_time": "2020-03-11T01:48:49.673198Z",
     "start_time": "2020-03-11T01:47:15.583Z"
    }
   },
   "outputs": [],
   "source": [
    "plt.hist(probas);"
   ]
  },
  {
   "cell_type": "code",
   "execution_count": null,
   "metadata": {
    "ExecuteTime": {
     "end_time": "2020-03-11T01:48:49.674203Z",
     "start_time": "2020-03-11T01:47:15.584Z"
    }
   },
   "outputs": [],
   "source": [
    "probas"
   ]
  },
  {
   "cell_type": "code",
   "execution_count": null,
   "metadata": {
    "ExecuteTime": {
     "end_time": "2020-03-11T01:48:49.675264Z",
     "start_time": "2020-03-11T01:47:15.586Z"
    }
   },
   "outputs": [],
   "source": [
    "probas_df = pd.DataFrame(probas)"
   ]
  },
  {
   "cell_type": "code",
   "execution_count": null,
   "metadata": {
    "ExecuteTime": {
     "end_time": "2020-03-11T01:48:49.676297Z",
     "start_time": "2020-03-11T01:47:15.587Z"
    }
   },
   "outputs": [],
   "source": [
    "probas_df"
   ]
  },
  {
   "cell_type": "code",
   "execution_count": null,
   "metadata": {
    "ExecuteTime": {
     "end_time": "2020-03-11T01:48:49.677302Z",
     "start_time": "2020-03-11T01:47:15.589Z"
    }
   },
   "outputs": [],
   "source": [
    "probas_df[probas_df[0] < .9]"
   ]
  },
  {
   "cell_type": "markdown",
   "metadata": {
    "ExecuteTime": {
     "end_time": "2020-03-10T03:26:15.560315Z",
     "start_time": "2020-03-10T03:26:15.557817Z"
    }
   },
   "source": [
    "# precision recall curve"
   ]
  },
  {
   "cell_type": "code",
   "execution_count": null,
   "metadata": {
    "ExecuteTime": {
     "end_time": "2020-03-11T01:48:49.678322Z",
     "start_time": "2020-03-11T01:47:15.591Z"
    }
   },
   "outputs": [],
   "source": [
    "thresh = np.arange(0, 1.05, .05)"
   ]
  },
  {
   "cell_type": "code",
   "execution_count": null,
   "metadata": {
    "ExecuteTime": {
     "end_time": "2020-03-11T01:48:49.679429Z",
     "start_time": "2020-03-11T01:47:15.593Z"
    }
   },
   "outputs": [],
   "source": [
    "precisions = []\n",
    "recalls = []\n",
    "\n",
    "mu = np.mean(y_test)\n",
    "bogus = np.random.uniform(0, 1, size=probas.shape[0])\n",
    "\n",
    "for t in thresh:\n",
    "    predict_pos = probas[:,1]>=t\n",
    "    #predict_pos = bogus >= t\n",
    "    trues = ((predict_pos == 1) & (y_test == 1)).sum()\n",
    "    falses = ((predict_pos == 1) & (y_test == 0)).sum()\n",
    "    false_neg = ((predict_pos == 0) & (y_test == 1)).sum()\n",
    "    precision = trues/(trues + falses)\n",
    "    precisions.append(precision)\n",
    "    recall = trues / (trues + false_neg)\n",
    "    recalls.append(recall)\n",
    "    \n",
    "    print(f\"{t} -- precision: {precision}, recall:{recall}\")"
   ]
  },
  {
   "cell_type": "code",
   "execution_count": null,
   "metadata": {
    "ExecuteTime": {
     "end_time": "2020-03-11T01:48:49.680604Z",
     "start_time": "2020-03-11T01:47:15.594Z"
    }
   },
   "outputs": [],
   "source": [
    "plt.plot([0, 1], [1, 0])\n",
    "plt.plot(recalls, precisions);"
   ]
  },
  {
   "cell_type": "code",
   "execution_count": null,
   "metadata": {
    "ExecuteTime": {
     "end_time": "2020-03-11T01:48:49.681847Z",
     "start_time": "2020-03-11T01:47:15.595Z"
    }
   },
   "outputs": [],
   "source": [
    "arr = probas_df[(probas_df[0] < .9) & (probas_df[0] > 0)].index"
   ]
  },
  {
   "cell_type": "code",
   "execution_count": null,
   "metadata": {
    "ExecuteTime": {
     "end_time": "2020-03-11T01:48:49.683077Z",
     "start_time": "2020-03-11T01:47:15.596Z"
    }
   },
   "outputs": [],
   "source": [
    "#looking at uncertain ones"
   ]
  },
  {
   "cell_type": "code",
   "execution_count": null,
   "metadata": {
    "ExecuteTime": {
     "end_time": "2020-03-11T01:48:49.684319Z",
     "start_time": "2020-03-11T01:47:15.598Z"
    }
   },
   "outputs": [],
   "source": [
    "x_test.iloc[arr]"
   ]
  },
  {
   "cell_type": "markdown",
   "metadata": {},
   "source": [
    "# Adaboost model"
   ]
  },
  {
   "cell_type": "code",
   "execution_count": 79,
   "metadata": {
    "ExecuteTime": {
     "end_time": "2020-03-11T01:52:57.241889Z",
     "start_time": "2020-03-11T01:52:19.014712Z"
    }
   },
   "outputs": [
    {
     "name": "stdout",
     "output_type": "stream",
     "text": [
      "0.9650133333333333\n"
     ]
    },
    {
     "data": {
      "text/plain": [
       "0.9632355555555555"
      ]
     },
     "execution_count": 79,
     "metadata": {},
     "output_type": "execute_result"
    }
   ],
   "source": [
    "ada = AdaBoostClassifier()\n",
    "\n",
    "ada.fit(x_train, y_train)\n",
    "\n",
    "print(ada.score(x_train, y_train))\n",
    "\n",
    "ada.score(x_test, y_test)"
   ]
  },
  {
   "cell_type": "code",
   "execution_count": 80,
   "metadata": {
    "ExecuteTime": {
     "end_time": "2020-03-11T01:53:00.797062Z",
     "start_time": "2020-03-11T01:52:57.243616Z"
    }
   },
   "outputs": [],
   "source": [
    "preds = ada.predict(x_test)"
   ]
  },
  {
   "cell_type": "code",
   "execution_count": 81,
   "metadata": {
    "ExecuteTime": {
     "end_time": "2020-03-11T01:53:00.825043Z",
     "start_time": "2020-03-11T01:53:00.799440Z"
    }
   },
   "outputs": [
    {
     "name": "stdout",
     "output_type": "stream",
     "text": [
      "('              precision    recall  f1-score   support\\n'\n",
      " '\\n'\n",
      " '           0       0.97      1.00      0.98     27111\\n'\n",
      " '           1       0.43      0.06      0.11      1014\\n'\n",
      " '\\n'\n",
      " '    accuracy                           0.96     28125\\n'\n",
      " '   macro avg       0.70      0.53      0.55     28125\\n'\n",
      " 'weighted avg       0.95      0.96      0.95     28125\\n')\n"
     ]
    }
   ],
   "source": [
    "clm = classification_report(y_test, preds)\n",
    "pp.pprint(clm)"
   ]
  },
  {
   "cell_type": "code",
   "execution_count": null,
   "metadata": {},
   "outputs": [],
   "source": []
  }
 ],
 "metadata": {
  "kernelspec": {
   "display_name": "Python 3",
   "language": "python",
   "name": "python3"
  },
  "language_info": {
   "codemirror_mode": {
    "name": "ipython",
    "version": 3
   },
   "file_extension": ".py",
   "mimetype": "text/x-python",
   "name": "python",
   "nbconvert_exporter": "python",
   "pygments_lexer": "ipython3",
   "version": "3.7.4"
  }
 },
 "nbformat": 4,
 "nbformat_minor": 2
}
