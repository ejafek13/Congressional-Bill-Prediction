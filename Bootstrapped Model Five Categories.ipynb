{
 "cells": [
  {
   "cell_type": "code",
   "execution_count": 1,
   "metadata": {
    "ExecuteTime": {
     "end_time": "2020-03-11T18:12:24.479498Z",
     "start_time": "2020-03-11T18:12:22.992402Z"
    }
   },
   "outputs": [],
   "source": [
    "import pandas as pd \n",
    "import numpy as np \n",
    "from sklearn.utils import resample\n",
    "from sklearn.model_selection import train_test_split\n",
    "\n",
    "from sklearn.ensemble import RandomForestClassifier, AdaBoostClassifier\n",
    "from sklearn.linear_model import LogisticRegression\n",
    "import tqdm\n",
    "import pprint as pp\n",
    "\n",
    "from sklearn.metrics import confusion_matrix, classification_report\n",
    "\n",
    "import matplotlib.pyplot as plt\n",
    "import seaborn as sns"
   ]
  },
  {
   "cell_type": "code",
   "execution_count": 2,
   "metadata": {
    "ExecuteTime": {
     "end_time": "2020-03-11T18:12:26.307216Z",
     "start_time": "2020-03-11T18:12:24.482091Z"
    }
   },
   "outputs": [],
   "source": [
    "df = pd.read_csv(\"./Data/final_dummies_add.csv\")"
   ]
  },
  {
   "cell_type": "code",
   "execution_count": 3,
   "metadata": {
    "ExecuteTime": {
     "end_time": "2020-03-11T18:12:26.319112Z",
     "start_time": "2020-03-11T18:12:26.310212Z"
    }
   },
   "outputs": [
    {
     "data": {
      "text/plain": [
       "0    74951\n",
       "1    37549\n",
       "Name: coms_match, dtype: int64"
      ]
     },
     "execution_count": 3,
     "metadata": {},
     "output_type": "execute_result"
    }
   ],
   "source": [
    "df['coms_match'].value_counts()"
   ]
  },
  {
   "cell_type": "code",
   "execution_count": 4,
   "metadata": {
    "ExecuteTime": {
     "end_time": "2020-03-11T18:12:26.327648Z",
     "start_time": "2020-03-11T18:12:26.322080Z"
    }
   },
   "outputs": [
    {
     "data": {
      "text/plain": [
       "Index(['bill_id', 'title', 'sponsor_title', 'sponsor_name', 'sponsor_state',\n",
       "       'introduced_date', 'cosponsors', 'cosponsors_by_party', 'committees',\n",
       "       'summary', 'latest_major_action_date', 'congress', 'final_status_5',\n",
       "       'final_status_3', 'final_status_coms', 'division', 'new_sponsor_match',\n",
       "       'sponsor_party_rank', 'sponsor_senior_party_member', 'coms_match'],\n",
       "      dtype='object')"
      ]
     },
     "execution_count": 4,
     "metadata": {},
     "output_type": "execute_result"
    }
   ],
   "source": [
    "df.columns[:20]"
   ]
  },
  {
   "cell_type": "code",
   "execution_count": 25,
   "metadata": {
    "ExecuteTime": {
     "end_time": "2020-03-11T18:13:44.885415Z",
     "start_time": "2020-03-11T18:13:44.657424Z"
    }
   },
   "outputs": [],
   "source": [
    "x = df.select_dtypes([int, float, bool]).drop(\"law_Law\", axis = 1)\n",
    "y = df.final_status_5\n",
    "\n",
    "x_train, x_test, y_train, y_test = train_test_split(x, y)"
   ]
  },
  {
   "cell_type": "code",
   "execution_count": 26,
   "metadata": {
    "ExecuteTime": {
     "end_time": "2020-03-11T18:13:48.167928Z",
     "start_time": "2020-03-11T18:13:48.076847Z"
    }
   },
   "outputs": [
    {
     "data": {
      "text/html": [
       "<div>\n",
       "<style scoped>\n",
       "    .dataframe tbody tr th:only-of-type {\n",
       "        vertical-align: middle;\n",
       "    }\n",
       "\n",
       "    .dataframe tbody tr th {\n",
       "        vertical-align: top;\n",
       "    }\n",
       "\n",
       "    .dataframe thead th {\n",
       "        text-align: right;\n",
       "    }\n",
       "</style>\n",
       "<table border=\"1\" class=\"dataframe\">\n",
       "  <thead>\n",
       "    <tr style=\"text-align: right;\">\n",
       "      <th></th>\n",
       "      <th>cosponsors</th>\n",
       "      <th>congress</th>\n",
       "      <th>sponsor_party_rank</th>\n",
       "      <th>sponsor_senior_party_member</th>\n",
       "      <th>coms_match</th>\n",
       "      <th>bipartisan</th>\n",
       "      <th>summary_length</th>\n",
       "      <th>sponsor_majority</th>\n",
       "      <th>united_congress</th>\n",
       "      <th>sponsor_pres_party_match</th>\n",
       "      <th>...</th>\n",
       "      <th>clean_committees_Rules and Administration</th>\n",
       "      <th>clean_committees_Science</th>\n",
       "      <th>clean_committees_Science and Technology</th>\n",
       "      <th>clean_committees_Science, Space, and Technology</th>\n",
       "      <th>clean_committees_Small Business</th>\n",
       "      <th>clean_committees_Small Business and Entrepreneurship</th>\n",
       "      <th>clean_committees_Standards of Official Conduct</th>\n",
       "      <th>clean_committees_Transportation and Infrastructure</th>\n",
       "      <th>clean_committees_Ways and Means</th>\n",
       "      <th>final_status_5</th>\n",
       "    </tr>\n",
       "  </thead>\n",
       "  <tbody>\n",
       "    <tr>\n",
       "      <th>47255</th>\n",
       "      <td>0</td>\n",
       "      <td>105</td>\n",
       "      <td>1</td>\n",
       "      <td>21</td>\n",
       "      <td>1</td>\n",
       "      <td>False</td>\n",
       "      <td>282</td>\n",
       "      <td>0</td>\n",
       "      <td>1</td>\n",
       "      <td>1</td>\n",
       "      <td>...</td>\n",
       "      <td>0</td>\n",
       "      <td>0</td>\n",
       "      <td>0</td>\n",
       "      <td>0</td>\n",
       "      <td>0</td>\n",
       "      <td>0</td>\n",
       "      <td>0</td>\n",
       "      <td>0</td>\n",
       "      <td>0</td>\n",
       "      <td>Referred to committee/subcommittee</td>\n",
       "    </tr>\n",
       "    <tr>\n",
       "      <th>88829</th>\n",
       "      <td>43</td>\n",
       "      <td>110</td>\n",
       "      <td>7</td>\n",
       "      <td>0</td>\n",
       "      <td>0</td>\n",
       "      <td>True</td>\n",
       "      <td>1259</td>\n",
       "      <td>1</td>\n",
       "      <td>1</td>\n",
       "      <td>0</td>\n",
       "      <td>...</td>\n",
       "      <td>0</td>\n",
       "      <td>0</td>\n",
       "      <td>0</td>\n",
       "      <td>0</td>\n",
       "      <td>0</td>\n",
       "      <td>0</td>\n",
       "      <td>0</td>\n",
       "      <td>0</td>\n",
       "      <td>0</td>\n",
       "      <td>Referred to committee/subcommittee</td>\n",
       "    </tr>\n",
       "    <tr>\n",
       "      <th>33895</th>\n",
       "      <td>335</td>\n",
       "      <td>114</td>\n",
       "      <td>12</td>\n",
       "      <td>0</td>\n",
       "      <td>0</td>\n",
       "      <td>True</td>\n",
       "      <td>261</td>\n",
       "      <td>1</td>\n",
       "      <td>1</td>\n",
       "      <td>0</td>\n",
       "      <td>...</td>\n",
       "      <td>0</td>\n",
       "      <td>0</td>\n",
       "      <td>0</td>\n",
       "      <td>0</td>\n",
       "      <td>0</td>\n",
       "      <td>0</td>\n",
       "      <td>0</td>\n",
       "      <td>0</td>\n",
       "      <td>0</td>\n",
       "      <td>Referred to committee/subcommittee</td>\n",
       "    </tr>\n",
       "    <tr>\n",
       "      <th>93618</th>\n",
       "      <td>9</td>\n",
       "      <td>111</td>\n",
       "      <td>23</td>\n",
       "      <td>0</td>\n",
       "      <td>0</td>\n",
       "      <td>True</td>\n",
       "      <td>910</td>\n",
       "      <td>1</td>\n",
       "      <td>1</td>\n",
       "      <td>0</td>\n",
       "      <td>...</td>\n",
       "      <td>0</td>\n",
       "      <td>0</td>\n",
       "      <td>0</td>\n",
       "      <td>0</td>\n",
       "      <td>0</td>\n",
       "      <td>0</td>\n",
       "      <td>0</td>\n",
       "      <td>0</td>\n",
       "      <td>0</td>\n",
       "      <td>Referred to committee/subcommittee</td>\n",
       "    </tr>\n",
       "    <tr>\n",
       "      <th>93345</th>\n",
       "      <td>37</td>\n",
       "      <td>111</td>\n",
       "      <td>14</td>\n",
       "      <td>0</td>\n",
       "      <td>0</td>\n",
       "      <td>True</td>\n",
       "      <td>1898</td>\n",
       "      <td>1</td>\n",
       "      <td>1</td>\n",
       "      <td>0</td>\n",
       "      <td>...</td>\n",
       "      <td>0</td>\n",
       "      <td>0</td>\n",
       "      <td>0</td>\n",
       "      <td>0</td>\n",
       "      <td>0</td>\n",
       "      <td>0</td>\n",
       "      <td>0</td>\n",
       "      <td>0</td>\n",
       "      <td>0</td>\n",
       "      <td>Referred to committee/subcommittee</td>\n",
       "    </tr>\n",
       "    <tr>\n",
       "      <th>...</th>\n",
       "      <td>...</td>\n",
       "      <td>...</td>\n",
       "      <td>...</td>\n",
       "      <td>...</td>\n",
       "      <td>...</td>\n",
       "      <td>...</td>\n",
       "      <td>...</td>\n",
       "      <td>...</td>\n",
       "      <td>...</td>\n",
       "      <td>...</td>\n",
       "      <td>...</td>\n",
       "      <td>...</td>\n",
       "      <td>...</td>\n",
       "      <td>...</td>\n",
       "      <td>...</td>\n",
       "      <td>...</td>\n",
       "      <td>...</td>\n",
       "      <td>...</td>\n",
       "      <td>...</td>\n",
       "      <td>...</td>\n",
       "      <td>...</td>\n",
       "    </tr>\n",
       "    <tr>\n",
       "      <th>80239</th>\n",
       "      <td>21</td>\n",
       "      <td>110</td>\n",
       "      <td>3</td>\n",
       "      <td>3</td>\n",
       "      <td>1</td>\n",
       "      <td>True</td>\n",
       "      <td>168</td>\n",
       "      <td>1</td>\n",
       "      <td>1</td>\n",
       "      <td>0</td>\n",
       "      <td>...</td>\n",
       "      <td>0</td>\n",
       "      <td>0</td>\n",
       "      <td>0</td>\n",
       "      <td>0</td>\n",
       "      <td>0</td>\n",
       "      <td>0</td>\n",
       "      <td>0</td>\n",
       "      <td>0</td>\n",
       "      <td>0</td>\n",
       "      <td>Referred to committee/subcommittee</td>\n",
       "    </tr>\n",
       "    <tr>\n",
       "      <th>101863</th>\n",
       "      <td>1</td>\n",
       "      <td>111</td>\n",
       "      <td>11</td>\n",
       "      <td>0</td>\n",
       "      <td>0</td>\n",
       "      <td>False</td>\n",
       "      <td>512</td>\n",
       "      <td>1</td>\n",
       "      <td>1</td>\n",
       "      <td>0</td>\n",
       "      <td>...</td>\n",
       "      <td>0</td>\n",
       "      <td>0</td>\n",
       "      <td>0</td>\n",
       "      <td>0</td>\n",
       "      <td>0</td>\n",
       "      <td>0</td>\n",
       "      <td>0</td>\n",
       "      <td>0</td>\n",
       "      <td>0</td>\n",
       "      <td>Referred to committee/subcommittee</td>\n",
       "    </tr>\n",
       "    <tr>\n",
       "      <th>105743</th>\n",
       "      <td>31</td>\n",
       "      <td>106</td>\n",
       "      <td>1</td>\n",
       "      <td>5</td>\n",
       "      <td>0</td>\n",
       "      <td>False</td>\n",
       "      <td>0</td>\n",
       "      <td>0</td>\n",
       "      <td>1</td>\n",
       "      <td>1</td>\n",
       "      <td>...</td>\n",
       "      <td>0</td>\n",
       "      <td>0</td>\n",
       "      <td>0</td>\n",
       "      <td>0</td>\n",
       "      <td>0</td>\n",
       "      <td>0</td>\n",
       "      <td>0</td>\n",
       "      <td>0</td>\n",
       "      <td>0</td>\n",
       "      <td>Referred to committee/subcommittee</td>\n",
       "    </tr>\n",
       "    <tr>\n",
       "      <th>38017</th>\n",
       "      <td>158</td>\n",
       "      <td>114</td>\n",
       "      <td>18</td>\n",
       "      <td>0</td>\n",
       "      <td>1</td>\n",
       "      <td>True</td>\n",
       "      <td>533</td>\n",
       "      <td>1</td>\n",
       "      <td>1</td>\n",
       "      <td>0</td>\n",
       "      <td>...</td>\n",
       "      <td>0</td>\n",
       "      <td>0</td>\n",
       "      <td>0</td>\n",
       "      <td>0</td>\n",
       "      <td>0</td>\n",
       "      <td>0</td>\n",
       "      <td>0</td>\n",
       "      <td>0</td>\n",
       "      <td>1</td>\n",
       "      <td>Passed one chamber</td>\n",
       "    </tr>\n",
       "    <tr>\n",
       "      <th>56203</th>\n",
       "      <td>46</td>\n",
       "      <td>113</td>\n",
       "      <td>13</td>\n",
       "      <td>0</td>\n",
       "      <td>0</td>\n",
       "      <td>True</td>\n",
       "      <td>836</td>\n",
       "      <td>1</td>\n",
       "      <td>0</td>\n",
       "      <td>0</td>\n",
       "      <td>...</td>\n",
       "      <td>0</td>\n",
       "      <td>0</td>\n",
       "      <td>0</td>\n",
       "      <td>0</td>\n",
       "      <td>1</td>\n",
       "      <td>0</td>\n",
       "      <td>0</td>\n",
       "      <td>0</td>\n",
       "      <td>0</td>\n",
       "      <td>Referred to committee/subcommittee</td>\n",
       "    </tr>\n",
       "  </tbody>\n",
       "</table>\n",
       "<p>84375 rows × 105 columns</p>\n",
       "</div>"
      ],
      "text/plain": [
       "        cosponsors  congress  sponsor_party_rank  sponsor_senior_party_member  \\\n",
       "47255            0       105                   1                           21   \n",
       "88829           43       110                   7                            0   \n",
       "33895          335       114                  12                            0   \n",
       "93618            9       111                  23                            0   \n",
       "93345           37       111                  14                            0   \n",
       "...            ...       ...                 ...                          ...   \n",
       "80239           21       110                   3                            3   \n",
       "101863           1       111                  11                            0   \n",
       "105743          31       106                   1                            5   \n",
       "38017          158       114                  18                            0   \n",
       "56203           46       113                  13                            0   \n",
       "\n",
       "        coms_match  bipartisan  summary_length  sponsor_majority  \\\n",
       "47255            1       False             282                 0   \n",
       "88829            0        True            1259                 1   \n",
       "33895            0        True             261                 1   \n",
       "93618            0        True             910                 1   \n",
       "93345            0        True            1898                 1   \n",
       "...            ...         ...             ...               ...   \n",
       "80239            1        True             168                 1   \n",
       "101863           0       False             512                 1   \n",
       "105743           0       False               0                 0   \n",
       "38017            1        True             533                 1   \n",
       "56203            0        True             836                 1   \n",
       "\n",
       "        united_congress  sponsor_pres_party_match  ...  \\\n",
       "47255                 1                         1  ...   \n",
       "88829                 1                         0  ...   \n",
       "33895                 1                         0  ...   \n",
       "93618                 1                         0  ...   \n",
       "93345                 1                         0  ...   \n",
       "...                 ...                       ...  ...   \n",
       "80239                 1                         0  ...   \n",
       "101863                1                         0  ...   \n",
       "105743                1                         1  ...   \n",
       "38017                 1                         0  ...   \n",
       "56203                 0                         0  ...   \n",
       "\n",
       "        clean_committees_Rules and Administration  clean_committees_Science  \\\n",
       "47255                                           0                         0   \n",
       "88829                                           0                         0   \n",
       "33895                                           0                         0   \n",
       "93618                                           0                         0   \n",
       "93345                                           0                         0   \n",
       "...                                           ...                       ...   \n",
       "80239                                           0                         0   \n",
       "101863                                          0                         0   \n",
       "105743                                          0                         0   \n",
       "38017                                           0                         0   \n",
       "56203                                           0                         0   \n",
       "\n",
       "        clean_committees_Science and Technology  \\\n",
       "47255                                         0   \n",
       "88829                                         0   \n",
       "33895                                         0   \n",
       "93618                                         0   \n",
       "93345                                         0   \n",
       "...                                         ...   \n",
       "80239                                         0   \n",
       "101863                                        0   \n",
       "105743                                        0   \n",
       "38017                                         0   \n",
       "56203                                         0   \n",
       "\n",
       "        clean_committees_Science, Space, and Technology  \\\n",
       "47255                                                 0   \n",
       "88829                                                 0   \n",
       "33895                                                 0   \n",
       "93618                                                 0   \n",
       "93345                                                 0   \n",
       "...                                                 ...   \n",
       "80239                                                 0   \n",
       "101863                                                0   \n",
       "105743                                                0   \n",
       "38017                                                 0   \n",
       "56203                                                 0   \n",
       "\n",
       "        clean_committees_Small Business  \\\n",
       "47255                                 0   \n",
       "88829                                 0   \n",
       "33895                                 0   \n",
       "93618                                 0   \n",
       "93345                                 0   \n",
       "...                                 ...   \n",
       "80239                                 0   \n",
       "101863                                0   \n",
       "105743                                0   \n",
       "38017                                 0   \n",
       "56203                                 1   \n",
       "\n",
       "        clean_committees_Small Business and Entrepreneurship  \\\n",
       "47255                                                   0      \n",
       "88829                                                   0      \n",
       "33895                                                   0      \n",
       "93618                                                   0      \n",
       "93345                                                   0      \n",
       "...                                                   ...      \n",
       "80239                                                   0      \n",
       "101863                                                  0      \n",
       "105743                                                  0      \n",
       "38017                                                   0      \n",
       "56203                                                   0      \n",
       "\n",
       "        clean_committees_Standards of Official Conduct  \\\n",
       "47255                                                0   \n",
       "88829                                                0   \n",
       "33895                                                0   \n",
       "93618                                                0   \n",
       "93345                                                0   \n",
       "...                                                ...   \n",
       "80239                                                0   \n",
       "101863                                               0   \n",
       "105743                                               0   \n",
       "38017                                                0   \n",
       "56203                                                0   \n",
       "\n",
       "        clean_committees_Transportation and Infrastructure  \\\n",
       "47255                                                   0    \n",
       "88829                                                   0    \n",
       "33895                                                   0    \n",
       "93618                                                   0    \n",
       "93345                                                   0    \n",
       "...                                                   ...    \n",
       "80239                                                   0    \n",
       "101863                                                  0    \n",
       "105743                                                  0    \n",
       "38017                                                   0    \n",
       "56203                                                   0    \n",
       "\n",
       "        clean_committees_Ways and Means                      final_status_5  \n",
       "47255                                 0  Referred to committee/subcommittee  \n",
       "88829                                 0  Referred to committee/subcommittee  \n",
       "33895                                 0  Referred to committee/subcommittee  \n",
       "93618                                 0  Referred to committee/subcommittee  \n",
       "93345                                 0  Referred to committee/subcommittee  \n",
       "...                                 ...                                 ...  \n",
       "80239                                 0  Referred to committee/subcommittee  \n",
       "101863                                0  Referred to committee/subcommittee  \n",
       "105743                                0  Referred to committee/subcommittee  \n",
       "38017                                 1                  Passed one chamber  \n",
       "56203                                 0  Referred to committee/subcommittee  \n",
       "\n",
       "[84375 rows x 105 columns]"
      ]
     },
     "execution_count": 26,
     "metadata": {},
     "output_type": "execute_result"
    }
   ],
   "source": [
    "train = x_train.join(y_train)\n",
    "train"
   ]
  },
  {
   "cell_type": "code",
   "execution_count": 27,
   "metadata": {
    "ExecuteTime": {
     "end_time": "2020-03-11T18:13:48.187090Z",
     "start_time": "2020-03-11T18:13:48.170866Z"
    }
   },
   "outputs": [
    {
     "data": {
      "text/plain": [
       "Referred to committee/subcommittee    0.824320\n",
       "Passed one chamber                    0.056344\n",
       "Referred to full chamber              0.054447\n",
       "Law!                                  0.034761\n",
       "Action in committee                   0.030127\n",
       "Name: final_status_5, dtype: float64"
      ]
     },
     "execution_count": 27,
     "metadata": {},
     "output_type": "execute_result"
    }
   ],
   "source": [
    "train.final_status_5.value_counts(normalize = True)"
   ]
  },
  {
   "cell_type": "code",
   "execution_count": 28,
   "metadata": {
    "ExecuteTime": {
     "end_time": "2020-03-11T18:13:48.194473Z",
     "start_time": "2020-03-11T18:13:48.191163Z"
    }
   },
   "outputs": [],
   "source": [
    "statuses = [\"Passed one chamber\", \"Referred to full chamber\", \"Action in committee\", \"Law!\"]"
   ]
  },
  {
   "cell_type": "code",
   "execution_count": 29,
   "metadata": {
    "ExecuteTime": {
     "end_time": "2020-03-11T18:13:48.405042Z",
     "start_time": "2020-03-11T18:13:48.197606Z"
    }
   },
   "outputs": [],
   "source": [
    "bootstrapped = []\n",
    "for status in statuses:\n",
    "    sample = resample(train[train['final_status_5'] == status], replace = True, n_samples = 50_000, random_state = 13)\n",
    "    bootstrapped.append(sample)"
   ]
  },
  {
   "cell_type": "code",
   "execution_count": 30,
   "metadata": {
    "ExecuteTime": {
     "end_time": "2020-03-11T18:13:48.738117Z",
     "start_time": "2020-03-11T18:13:48.406974Z"
    },
    "scrolled": true
   },
   "outputs": [
    {
     "data": {
      "text/html": [
       "<div>\n",
       "<style scoped>\n",
       "    .dataframe tbody tr th:only-of-type {\n",
       "        vertical-align: middle;\n",
       "    }\n",
       "\n",
       "    .dataframe tbody tr th {\n",
       "        vertical-align: top;\n",
       "    }\n",
       "\n",
       "    .dataframe thead th {\n",
       "        text-align: right;\n",
       "    }\n",
       "</style>\n",
       "<table border=\"1\" class=\"dataframe\">\n",
       "  <thead>\n",
       "    <tr style=\"text-align: right;\">\n",
       "      <th></th>\n",
       "      <th>cosponsors</th>\n",
       "      <th>congress</th>\n",
       "      <th>sponsor_party_rank</th>\n",
       "      <th>sponsor_senior_party_member</th>\n",
       "      <th>coms_match</th>\n",
       "      <th>bipartisan</th>\n",
       "      <th>summary_length</th>\n",
       "      <th>sponsor_majority</th>\n",
       "      <th>united_congress</th>\n",
       "      <th>sponsor_pres_party_match</th>\n",
       "      <th>...</th>\n",
       "      <th>clean_committees_Rules and Administration</th>\n",
       "      <th>clean_committees_Science</th>\n",
       "      <th>clean_committees_Science and Technology</th>\n",
       "      <th>clean_committees_Science, Space, and Technology</th>\n",
       "      <th>clean_committees_Small Business</th>\n",
       "      <th>clean_committees_Small Business and Entrepreneurship</th>\n",
       "      <th>clean_committees_Standards of Official Conduct</th>\n",
       "      <th>clean_committees_Transportation and Infrastructure</th>\n",
       "      <th>clean_committees_Ways and Means</th>\n",
       "      <th>final_status_5</th>\n",
       "    </tr>\n",
       "  </thead>\n",
       "  <tbody>\n",
       "    <tr>\n",
       "      <th>69061</th>\n",
       "      <td>1</td>\n",
       "      <td>112</td>\n",
       "      <td>3</td>\n",
       "      <td>0</td>\n",
       "      <td>0</td>\n",
       "      <td>False</td>\n",
       "      <td>216</td>\n",
       "      <td>0</td>\n",
       "      <td>0</td>\n",
       "      <td>1</td>\n",
       "      <td>...</td>\n",
       "      <td>0</td>\n",
       "      <td>0</td>\n",
       "      <td>0</td>\n",
       "      <td>0</td>\n",
       "      <td>0</td>\n",
       "      <td>0</td>\n",
       "      <td>0</td>\n",
       "      <td>0</td>\n",
       "      <td>0</td>\n",
       "      <td>Passed one chamber</td>\n",
       "    </tr>\n",
       "    <tr>\n",
       "      <th>48134</th>\n",
       "      <td>57</td>\n",
       "      <td>105</td>\n",
       "      <td>1</td>\n",
       "      <td>5</td>\n",
       "      <td>0</td>\n",
       "      <td>False</td>\n",
       "      <td>506</td>\n",
       "      <td>1</td>\n",
       "      <td>1</td>\n",
       "      <td>0</td>\n",
       "      <td>...</td>\n",
       "      <td>0</td>\n",
       "      <td>0</td>\n",
       "      <td>0</td>\n",
       "      <td>0</td>\n",
       "      <td>0</td>\n",
       "      <td>0</td>\n",
       "      <td>0</td>\n",
       "      <td>0</td>\n",
       "      <td>0</td>\n",
       "      <td>Passed one chamber</td>\n",
       "    </tr>\n",
       "    <tr>\n",
       "      <th>74011</th>\n",
       "      <td>0</td>\n",
       "      <td>108</td>\n",
       "      <td>2</td>\n",
       "      <td>5</td>\n",
       "      <td>1</td>\n",
       "      <td>False</td>\n",
       "      <td>283</td>\n",
       "      <td>1</td>\n",
       "      <td>1</td>\n",
       "      <td>1</td>\n",
       "      <td>...</td>\n",
       "      <td>0</td>\n",
       "      <td>0</td>\n",
       "      <td>0</td>\n",
       "      <td>0</td>\n",
       "      <td>0</td>\n",
       "      <td>0</td>\n",
       "      <td>0</td>\n",
       "      <td>0</td>\n",
       "      <td>0</td>\n",
       "      <td>Passed one chamber</td>\n",
       "    </tr>\n",
       "    <tr>\n",
       "      <th>6891</th>\n",
       "      <td>3</td>\n",
       "      <td>115</td>\n",
       "      <td>15</td>\n",
       "      <td>0</td>\n",
       "      <td>1</td>\n",
       "      <td>True</td>\n",
       "      <td>644</td>\n",
       "      <td>1</td>\n",
       "      <td>1</td>\n",
       "      <td>0</td>\n",
       "      <td>...</td>\n",
       "      <td>0</td>\n",
       "      <td>0</td>\n",
       "      <td>0</td>\n",
       "      <td>0</td>\n",
       "      <td>0</td>\n",
       "      <td>0</td>\n",
       "      <td>0</td>\n",
       "      <td>0</td>\n",
       "      <td>1</td>\n",
       "      <td>Passed one chamber</td>\n",
       "    </tr>\n",
       "    <tr>\n",
       "      <th>45440</th>\n",
       "      <td>1</td>\n",
       "      <td>105</td>\n",
       "      <td>3</td>\n",
       "      <td>0</td>\n",
       "      <td>1</td>\n",
       "      <td>False</td>\n",
       "      <td>9964</td>\n",
       "      <td>1</td>\n",
       "      <td>1</td>\n",
       "      <td>0</td>\n",
       "      <td>...</td>\n",
       "      <td>0</td>\n",
       "      <td>0</td>\n",
       "      <td>0</td>\n",
       "      <td>0</td>\n",
       "      <td>0</td>\n",
       "      <td>0</td>\n",
       "      <td>0</td>\n",
       "      <td>0</td>\n",
       "      <td>0</td>\n",
       "      <td>Passed one chamber</td>\n",
       "    </tr>\n",
       "    <tr>\n",
       "      <th>...</th>\n",
       "      <td>...</td>\n",
       "      <td>...</td>\n",
       "      <td>...</td>\n",
       "      <td>...</td>\n",
       "      <td>...</td>\n",
       "      <td>...</td>\n",
       "      <td>...</td>\n",
       "      <td>...</td>\n",
       "      <td>...</td>\n",
       "      <td>...</td>\n",
       "      <td>...</td>\n",
       "      <td>...</td>\n",
       "      <td>...</td>\n",
       "      <td>...</td>\n",
       "      <td>...</td>\n",
       "      <td>...</td>\n",
       "      <td>...</td>\n",
       "      <td>...</td>\n",
       "      <td>...</td>\n",
       "      <td>...</td>\n",
       "      <td>...</td>\n",
       "    </tr>\n",
       "    <tr>\n",
       "      <th>102717</th>\n",
       "      <td>1</td>\n",
       "      <td>106</td>\n",
       "      <td>6</td>\n",
       "      <td>0</td>\n",
       "      <td>0</td>\n",
       "      <td>False</td>\n",
       "      <td>0</td>\n",
       "      <td>1</td>\n",
       "      <td>1</td>\n",
       "      <td>0</td>\n",
       "      <td>...</td>\n",
       "      <td>0</td>\n",
       "      <td>0</td>\n",
       "      <td>0</td>\n",
       "      <td>0</td>\n",
       "      <td>0</td>\n",
       "      <td>0</td>\n",
       "      <td>0</td>\n",
       "      <td>0</td>\n",
       "      <td>0</td>\n",
       "      <td>Law!</td>\n",
       "    </tr>\n",
       "    <tr>\n",
       "      <th>41250</th>\n",
       "      <td>71</td>\n",
       "      <td>114</td>\n",
       "      <td>7</td>\n",
       "      <td>0</td>\n",
       "      <td>0</td>\n",
       "      <td>True</td>\n",
       "      <td>1466</td>\n",
       "      <td>0</td>\n",
       "      <td>1</td>\n",
       "      <td>1</td>\n",
       "      <td>...</td>\n",
       "      <td>0</td>\n",
       "      <td>0</td>\n",
       "      <td>0</td>\n",
       "      <td>0</td>\n",
       "      <td>0</td>\n",
       "      <td>0</td>\n",
       "      <td>0</td>\n",
       "      <td>0</td>\n",
       "      <td>0</td>\n",
       "      <td>Law!</td>\n",
       "    </tr>\n",
       "    <tr>\n",
       "      <th>79210</th>\n",
       "      <td>33</td>\n",
       "      <td>110</td>\n",
       "      <td>18</td>\n",
       "      <td>0</td>\n",
       "      <td>0</td>\n",
       "      <td>True</td>\n",
       "      <td>160</td>\n",
       "      <td>0</td>\n",
       "      <td>1</td>\n",
       "      <td>1</td>\n",
       "      <td>...</td>\n",
       "      <td>0</td>\n",
       "      <td>0</td>\n",
       "      <td>0</td>\n",
       "      <td>0</td>\n",
       "      <td>0</td>\n",
       "      <td>0</td>\n",
       "      <td>0</td>\n",
       "      <td>0</td>\n",
       "      <td>0</td>\n",
       "      <td>Law!</td>\n",
       "    </tr>\n",
       "    <tr>\n",
       "      <th>83247</th>\n",
       "      <td>1</td>\n",
       "      <td>110</td>\n",
       "      <td>2</td>\n",
       "      <td>8</td>\n",
       "      <td>0</td>\n",
       "      <td>False</td>\n",
       "      <td>170</td>\n",
       "      <td>1</td>\n",
       "      <td>1</td>\n",
       "      <td>0</td>\n",
       "      <td>...</td>\n",
       "      <td>0</td>\n",
       "      <td>0</td>\n",
       "      <td>0</td>\n",
       "      <td>0</td>\n",
       "      <td>0</td>\n",
       "      <td>0</td>\n",
       "      <td>0</td>\n",
       "      <td>0</td>\n",
       "      <td>0</td>\n",
       "      <td>Law!</td>\n",
       "    </tr>\n",
       "    <tr>\n",
       "      <th>91062</th>\n",
       "      <td>31</td>\n",
       "      <td>111</td>\n",
       "      <td>11</td>\n",
       "      <td>0</td>\n",
       "      <td>0</td>\n",
       "      <td>True</td>\n",
       "      <td>148</td>\n",
       "      <td>1</td>\n",
       "      <td>1</td>\n",
       "      <td>0</td>\n",
       "      <td>...</td>\n",
       "      <td>0</td>\n",
       "      <td>0</td>\n",
       "      <td>0</td>\n",
       "      <td>0</td>\n",
       "      <td>0</td>\n",
       "      <td>0</td>\n",
       "      <td>0</td>\n",
       "      <td>0</td>\n",
       "      <td>0</td>\n",
       "      <td>Law!</td>\n",
       "    </tr>\n",
       "  </tbody>\n",
       "</table>\n",
       "<p>200000 rows × 105 columns</p>\n",
       "</div>"
      ],
      "text/plain": [
       "        cosponsors  congress  sponsor_party_rank  sponsor_senior_party_member  \\\n",
       "69061            1       112                   3                            0   \n",
       "48134           57       105                   1                            5   \n",
       "74011            0       108                   2                            5   \n",
       "6891             3       115                  15                            0   \n",
       "45440            1       105                   3                            0   \n",
       "...            ...       ...                 ...                          ...   \n",
       "102717           1       106                   6                            0   \n",
       "41250           71       114                   7                            0   \n",
       "79210           33       110                  18                            0   \n",
       "83247            1       110                   2                            8   \n",
       "91062           31       111                  11                            0   \n",
       "\n",
       "        coms_match  bipartisan  summary_length  sponsor_majority  \\\n",
       "69061            0       False             216                 0   \n",
       "48134            0       False             506                 1   \n",
       "74011            1       False             283                 1   \n",
       "6891             1        True             644                 1   \n",
       "45440            1       False            9964                 1   \n",
       "...            ...         ...             ...               ...   \n",
       "102717           0       False               0                 1   \n",
       "41250            0        True            1466                 0   \n",
       "79210            0        True             160                 0   \n",
       "83247            0       False             170                 1   \n",
       "91062            0        True             148                 1   \n",
       "\n",
       "        united_congress  sponsor_pres_party_match  ...  \\\n",
       "69061                 0                         1  ...   \n",
       "48134                 1                         0  ...   \n",
       "74011                 1                         1  ...   \n",
       "6891                  1                         0  ...   \n",
       "45440                 1                         0  ...   \n",
       "...                 ...                       ...  ...   \n",
       "102717                1                         0  ...   \n",
       "41250                 1                         1  ...   \n",
       "79210                 1                         1  ...   \n",
       "83247                 1                         0  ...   \n",
       "91062                 1                         0  ...   \n",
       "\n",
       "        clean_committees_Rules and Administration  clean_committees_Science  \\\n",
       "69061                                           0                         0   \n",
       "48134                                           0                         0   \n",
       "74011                                           0                         0   \n",
       "6891                                            0                         0   \n",
       "45440                                           0                         0   \n",
       "...                                           ...                       ...   \n",
       "102717                                          0                         0   \n",
       "41250                                           0                         0   \n",
       "79210                                           0                         0   \n",
       "83247                                           0                         0   \n",
       "91062                                           0                         0   \n",
       "\n",
       "        clean_committees_Science and Technology  \\\n",
       "69061                                         0   \n",
       "48134                                         0   \n",
       "74011                                         0   \n",
       "6891                                          0   \n",
       "45440                                         0   \n",
       "...                                         ...   \n",
       "102717                                        0   \n",
       "41250                                         0   \n",
       "79210                                         0   \n",
       "83247                                         0   \n",
       "91062                                         0   \n",
       "\n",
       "        clean_committees_Science, Space, and Technology  \\\n",
       "69061                                                 0   \n",
       "48134                                                 0   \n",
       "74011                                                 0   \n",
       "6891                                                  0   \n",
       "45440                                                 0   \n",
       "...                                                 ...   \n",
       "102717                                                0   \n",
       "41250                                                 0   \n",
       "79210                                                 0   \n",
       "83247                                                 0   \n",
       "91062                                                 0   \n",
       "\n",
       "        clean_committees_Small Business  \\\n",
       "69061                                 0   \n",
       "48134                                 0   \n",
       "74011                                 0   \n",
       "6891                                  0   \n",
       "45440                                 0   \n",
       "...                                 ...   \n",
       "102717                                0   \n",
       "41250                                 0   \n",
       "79210                                 0   \n",
       "83247                                 0   \n",
       "91062                                 0   \n",
       "\n",
       "        clean_committees_Small Business and Entrepreneurship  \\\n",
       "69061                                                   0      \n",
       "48134                                                   0      \n",
       "74011                                                   0      \n",
       "6891                                                    0      \n",
       "45440                                                   0      \n",
       "...                                                   ...      \n",
       "102717                                                  0      \n",
       "41250                                                   0      \n",
       "79210                                                   0      \n",
       "83247                                                   0      \n",
       "91062                                                   0      \n",
       "\n",
       "        clean_committees_Standards of Official Conduct  \\\n",
       "69061                                                0   \n",
       "48134                                                0   \n",
       "74011                                                0   \n",
       "6891                                                 0   \n",
       "45440                                                0   \n",
       "...                                                ...   \n",
       "102717                                               0   \n",
       "41250                                                0   \n",
       "79210                                                0   \n",
       "83247                                                0   \n",
       "91062                                                0   \n",
       "\n",
       "        clean_committees_Transportation and Infrastructure  \\\n",
       "69061                                                   0    \n",
       "48134                                                   0    \n",
       "74011                                                   0    \n",
       "6891                                                    0    \n",
       "45440                                                   0    \n",
       "...                                                   ...    \n",
       "102717                                                  0    \n",
       "41250                                                   0    \n",
       "79210                                                   0    \n",
       "83247                                                   0    \n",
       "91062                                                   0    \n",
       "\n",
       "        clean_committees_Ways and Means      final_status_5  \n",
       "69061                                 0  Passed one chamber  \n",
       "48134                                 0  Passed one chamber  \n",
       "74011                                 0  Passed one chamber  \n",
       "6891                                  1  Passed one chamber  \n",
       "45440                                 0  Passed one chamber  \n",
       "...                                 ...                 ...  \n",
       "102717                                0                Law!  \n",
       "41250                                 0                Law!  \n",
       "79210                                 0                Law!  \n",
       "83247                                 0                Law!  \n",
       "91062                                 0                Law!  \n",
       "\n",
       "[200000 rows x 105 columns]"
      ]
     },
     "execution_count": 30,
     "metadata": {},
     "output_type": "execute_result"
    }
   ],
   "source": [
    "bootstrapped = pd.concat(bootstrapped)\n",
    "bootstrapped"
   ]
  },
  {
   "cell_type": "code",
   "execution_count": 31,
   "metadata": {
    "ExecuteTime": {
     "end_time": "2020-03-11T18:13:49.226834Z",
     "start_time": "2020-03-11T18:13:48.740050Z"
    }
   },
   "outputs": [],
   "source": [
    "train_samples = pd.concat([train, bootstrapped])"
   ]
  },
  {
   "cell_type": "code",
   "execution_count": 32,
   "metadata": {
    "ExecuteTime": {
     "end_time": "2020-03-11T18:13:49.262251Z",
     "start_time": "2020-03-11T18:13:49.229030Z"
    }
   },
   "outputs": [
    {
     "data": {
      "text/plain": [
       "Referred to committee/subcommittee    0.244578\n",
       "Passed one chamber                    0.192542\n",
       "Referred to full chamber              0.191979\n",
       "Law!                                  0.186138\n",
       "Action in committee                   0.184763\n",
       "Name: final_status_5, dtype: float64"
      ]
     },
     "execution_count": 32,
     "metadata": {},
     "output_type": "execute_result"
    }
   ],
   "source": [
    "train_samples['final_status_5'].value_counts(normalize = True)"
   ]
  },
  {
   "cell_type": "code",
   "execution_count": 33,
   "metadata": {
    "ExecuteTime": {
     "end_time": "2020-03-11T18:13:49.293448Z",
     "start_time": "2020-03-11T18:13:49.265305Z"
    }
   },
   "outputs": [],
   "source": [
    "x_train = train.drop(\"final_status_5\", axis = 1)\n",
    "y_train = train.final_status_5"
   ]
  },
  {
   "cell_type": "markdown",
   "metadata": {
    "ExecuteTime": {
     "end_time": "2020-03-05T22:26:20.470612Z",
     "start_time": "2020-03-05T22:26:20.468307Z"
    }
   },
   "source": [
    "# Logistic Regression"
   ]
  },
  {
   "cell_type": "code",
   "execution_count": 34,
   "metadata": {
    "ExecuteTime": {
     "end_time": "2020-03-11T18:13:57.853964Z",
     "start_time": "2020-03-11T18:13:49.296678Z"
    }
   },
   "outputs": [
    {
     "name": "stderr",
     "output_type": "stream",
     "text": [
      "/opt/anaconda3/lib/python3.7/site-packages/sklearn/linear_model/logistic.py:432: FutureWarning: Default solver will be changed to 'lbfgs' in 0.22. Specify a solver to silence this warning.\n",
      "  FutureWarning)\n",
      "/opt/anaconda3/lib/python3.7/site-packages/sklearn/linear_model/logistic.py:469: FutureWarning: Default multi_class will be changed to 'auto' in 0.22. Specify the multi_class option to silence this warning.\n",
      "  \"this warning.\", FutureWarning)\n"
     ]
    },
    {
     "name": "stdout",
     "output_type": "stream",
     "text": [
      "0.8344888888888888\n"
     ]
    },
    {
     "data": {
      "text/plain": [
       "0.8342755555555555"
      ]
     },
     "execution_count": 34,
     "metadata": {},
     "output_type": "execute_result"
    }
   ],
   "source": [
    "lr = LogisticRegression()\n",
    "\n",
    "lr.fit(x_train, y_train)\n",
    "\n",
    "print(lr.score(x_train, y_train))\n",
    "\n",
    "lr.score(x_test, y_test)"
   ]
  },
  {
   "cell_type": "code",
   "execution_count": 35,
   "metadata": {
    "ExecuteTime": {
     "end_time": "2020-03-11T18:13:57.975152Z",
     "start_time": "2020-03-11T18:13:57.855922Z"
    }
   },
   "outputs": [],
   "source": [
    "preds = lr.predict(x_test)"
   ]
  },
  {
   "cell_type": "code",
   "execution_count": 36,
   "metadata": {
    "ExecuteTime": {
     "end_time": "2020-03-11T18:13:58.747101Z",
     "start_time": "2020-03-11T18:13:57.977207Z"
    }
   },
   "outputs": [
    {
     "name": "stdout",
     "output_type": "stream",
     "text": [
      "('                                    precision    recall  f1-score   support\\n'\n",
      " '\\n'\n",
      " '               Action in committee       0.22      0.04      0.06       793\\n'\n",
      " '                              Law!       0.46      0.09      0.15       974\\n'\n",
      " '                Passed one chamber       0.60      0.17      0.26      1664\\n'\n",
      " 'Referred to committee/subcommittee       0.85      0.98      0.91     23195\\n'\n",
      " '          Referred to full chamber       0.44      0.16      0.23      1499\\n'\n",
      " '\\n'\n",
      " '                          accuracy                           0.83     28125\\n'\n",
      " '                         macro avg       0.51      0.29      0.32     28125\\n'\n",
      " '                      weighted avg       0.78      0.83      0.79     '\n",
      " '28125\\n')\n"
     ]
    }
   ],
   "source": [
    "clm = classification_report(y_test, preds)\n",
    "pp.pprint(clm)"
   ]
  },
  {
   "cell_type": "code",
   "execution_count": 37,
   "metadata": {
    "ExecuteTime": {
     "end_time": "2020-03-11T18:13:58.861255Z",
     "start_time": "2020-03-11T18:13:58.750036Z"
    }
   },
   "outputs": [
    {
     "data": {
      "text/plain": [
       "array([[   30,     5,     1,   732,    25],\n",
       "       [    4,    84,    56,   809,    21],\n",
       "       [   11,    60,   280,  1235,    78],\n",
       "       [   50,    27,   103, 22833,   182],\n",
       "       [   39,     8,    23,  1192,   237]])"
      ]
     },
     "execution_count": 37,
     "metadata": {},
     "output_type": "execute_result"
    }
   ],
   "source": [
    "cm = confusion_matrix(y_test, preds)\n",
    "cm"
   ]
  },
  {
   "cell_type": "markdown",
   "metadata": {},
   "source": [
    "# Random Forest Model"
   ]
  },
  {
   "cell_type": "code",
   "execution_count": 38,
   "metadata": {
    "ExecuteTime": {
     "end_time": "2020-03-11T18:14:02.438748Z",
     "start_time": "2020-03-11T18:13:58.862816Z"
    }
   },
   "outputs": [
    {
     "name": "stderr",
     "output_type": "stream",
     "text": [
      "/opt/anaconda3/lib/python3.7/site-packages/sklearn/ensemble/forest.py:245: FutureWarning: The default value of n_estimators will change from 10 in version 0.20 to 100 in 0.22.\n",
      "  \"10 in version 0.20 to 100 in 0.22.\", FutureWarning)\n"
     ]
    },
    {
     "name": "stdout",
     "output_type": "stream",
     "text": [
      "0.9872118518518519\n"
     ]
    },
    {
     "data": {
      "text/plain": [
       "0.8513777777777778"
      ]
     },
     "execution_count": 38,
     "metadata": {},
     "output_type": "execute_result"
    }
   ],
   "source": [
    "rf = RandomForestClassifier()\n",
    "\n",
    "rf.fit(x_train, y_train)\n",
    "print(rf.score(x_train, y_train))\n",
    "\n",
    "rf.score(x_test, y_test)"
   ]
  },
  {
   "cell_type": "code",
   "execution_count": 39,
   "metadata": {
    "ExecuteTime": {
     "end_time": "2020-03-11T18:14:03.476034Z",
     "start_time": "2020-03-11T18:14:02.440968Z"
    }
   },
   "outputs": [
    {
     "name": "stdout",
     "output_type": "stream",
     "text": [
      "('                                    precision    recall  f1-score   support\\n'\n",
      " '\\n'\n",
      " '               Action in committee       0.36      0.22      0.28       793\\n'\n",
      " '                              Law!       0.44      0.29      0.35       974\\n'\n",
      " '                Passed one chamber       0.61      0.46      0.52      1664\\n'\n",
      " 'Referred to committee/subcommittee       0.89      0.96      0.93     23195\\n'\n",
      " '          Referred to full chamber       0.53      0.30      0.38      1499\\n'\n",
      " '\\n'\n",
      " '                          accuracy                           0.85     28125\\n'\n",
      " '                         macro avg       0.57      0.44      0.49     28125\\n'\n",
      " '                      weighted avg       0.83      0.85      0.84     '\n",
      " '28125\\n')\n"
     ]
    }
   ],
   "source": [
    "preds = rf.predict(x_test)\n",
    "\n",
    "clm = classification_report(y_test, preds)\n",
    "pp.pprint(clm)"
   ]
  },
  {
   "cell_type": "code",
   "execution_count": 40,
   "metadata": {
    "ExecuteTime": {
     "end_time": "2020-03-11T18:14:03.581993Z",
     "start_time": "2020-03-11T18:14:03.478042Z"
    }
   },
   "outputs": [
    {
     "data": {
      "text/plain": [
       "array([[  176,    17,    15,   543,    42],\n",
       "       [   12,   281,   159,   495,    27],\n",
       "       [   14,   159,   758,   697,    36],\n",
       "       [  223,   139,   251, 22283,   299],\n",
       "       [   59,    45,    53,   895,   447]])"
      ]
     },
     "execution_count": 40,
     "metadata": {},
     "output_type": "execute_result"
    }
   ],
   "source": [
    "cm = confusion_matrix(y_test, preds)\n",
    "cm"
   ]
  },
  {
   "cell_type": "code",
   "execution_count": 41,
   "metadata": {
    "ExecuteTime": {
     "end_time": "2020-03-11T18:14:03.829546Z",
     "start_time": "2020-03-11T18:14:03.583785Z"
    }
   },
   "outputs": [
    {
     "data": {
      "image/png": "[encoded data removed]",
      "text/plain": [
       "<Figure size 432x288 with 1 Axes>"
      ]
     },
     "metadata": {
      "needs_background": "light"
     },
     "output_type": "display_data"
    }
   ],
   "source": [
    "plt.xticks(rotation = 45)\n",
    "sns.countplot(y_test, color = \"crimson\", alpha = .5)\n",
    "sns.countplot(preds, color = \"slateblue\", alpha = .5);\n",
    "#the model is overpredicting referred to committee. Especially bad at referred to full chamber"
   ]
  },
  {
   "cell_type": "markdown",
   "metadata": {},
   "source": [
    "# Adaboost model"
   ]
  },
  {
   "cell_type": "code",
   "execution_count": 42,
   "metadata": {
    "ExecuteTime": {
     "end_time": "2020-03-11T18:14:48.641755Z",
     "start_time": "2020-03-11T18:14:03.831120Z"
    }
   },
   "outputs": [
    {
     "name": "stdout",
     "output_type": "stream",
     "text": [
      "0.8313125925925926\n"
     ]
    },
    {
     "data": {
      "text/plain": [
       "0.8301866666666666"
      ]
     },
     "execution_count": 42,
     "metadata": {},
     "output_type": "execute_result"
    }
   ],
   "source": [
    "ada = AdaBoostClassifier()\n",
    "\n",
    "ada.fit(x_train, y_train)\n",
    "\n",
    "print(ada.score(x_train, y_train))\n",
    "\n",
    "ada.score(x_test, y_test)"
   ]
  },
  {
   "cell_type": "code",
   "execution_count": 43,
   "metadata": {
    "ExecuteTime": {
     "end_time": "2020-03-11T18:14:52.068345Z",
     "start_time": "2020-03-11T18:14:48.644321Z"
    }
   },
   "outputs": [],
   "source": [
    "preds = ada.predict(x_test)"
   ]
  },
  {
   "cell_type": "code",
   "execution_count": 44,
   "metadata": {
    "ExecuteTime": {
     "end_time": "2020-03-11T18:14:52.794502Z",
     "start_time": "2020-03-11T18:14:52.070929Z"
    }
   },
   "outputs": [
    {
     "name": "stdout",
     "output_type": "stream",
     "text": [
      "('                                    precision    recall  f1-score   support\\n'\n",
      " '\\n'\n",
      " '               Action in committee       0.14      0.01      0.02       793\\n'\n",
      " '                              Law!       0.37      0.05      0.08       974\\n'\n",
      " '                Passed one chamber       0.47      0.17      0.25      1664\\n'\n",
      " 'Referred to committee/subcommittee       0.85      0.99      0.91     23195\\n'\n",
      " '          Referred to full chamber       0.37      0.10      0.16      1499\\n'\n",
      " '\\n'\n",
      " '                          accuracy                           0.83     28125\\n'\n",
      " '                         macro avg       0.44      0.26      0.28     28125\\n'\n",
      " '                      weighted avg       0.76      0.83      0.78     '\n",
      " '28125\\n')\n"
     ]
    }
   ],
   "source": [
    "clm = classification_report(y_test, preds)\n",
    "pp.pprint(clm)"
   ]
  },
  {
   "cell_type": "code",
   "execution_count": null,
   "metadata": {},
   "outputs": [],
   "source": []
  }
 ],
 "metadata": {
  "kernelspec": {
   "display_name": "Python 3",
   "language": "python",
   "name": "python3"
  },
  "language_info": {
   "codemirror_mode": {
    "name": "ipython",
    "version": 3
   },
   "file_extension": ".py",
   "mimetype": "text/x-python",
   "name": "python",
   "nbconvert_exporter": "python",
   "pygments_lexer": "ipython3",
   "version": "3.7.4"
  }
 },
 "nbformat": 4,
 "nbformat_minor": 2
}
