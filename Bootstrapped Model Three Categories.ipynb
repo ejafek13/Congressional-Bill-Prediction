{
 "cells": [
  {
   "cell_type": "code",
   "execution_count": 1,
   "metadata": {
    "ExecuteTime": {
     "end_time": "2020-03-11T17:47:40.800512Z",
     "start_time": "2020-03-11T17:47:39.654353Z"
    }
   },
   "outputs": [],
   "source": [
    "import pandas as pd \n",
    "import numpy as np \n",
    "from sklearn.utils import resample\n",
    "from sklearn.model_selection import train_test_split, GridSearchCV\n",
    "from sklearn.feature_selection import RFECV\n",
    "\n",
    "from sklearn.ensemble import RandomForestClassifier, AdaBoostClassifier\n",
    "from sklearn.linear_model import LogisticRegression\n",
    "import tqdm\n",
    "import pprint as pp\n",
    "\n",
    "from sklearn.metrics import confusion_matrix, classification_report\n",
    "\n",
    "import matplotlib.pyplot as plt\n",
    "import seaborn as sns"
   ]
  },
  {
   "cell_type": "code",
   "execution_count": 2,
   "metadata": {
    "ExecuteTime": {
     "end_time": "2020-03-11T17:47:42.998992Z",
     "start_time": "2020-03-11T17:47:40.802254Z"
    }
   },
   "outputs": [],
   "source": [
    "df = pd.read_csv(\"./Data/final_dummies_add.csv\")"
   ]
  },
  {
   "cell_type": "code",
   "execution_count": 3,
   "metadata": {
    "ExecuteTime": {
     "end_time": "2020-03-11T17:47:43.008760Z",
     "start_time": "2020-03-11T17:47:43.001346Z"
    }
   },
   "outputs": [
    {
     "data": {
      "text/plain": [
       "Index(['bill_id', 'title', 'sponsor_title', 'sponsor_name', 'sponsor_state',\n",
       "       'introduced_date', 'cosponsors', 'cosponsors_by_party', 'committees',\n",
       "       'summary', 'latest_major_action_date', 'congress', 'final_status_5',\n",
       "       'final_status_3', 'final_status_coms', 'division', 'new_sponsor_match',\n",
       "       'sponsor_party_rank', 'sponsor_senior_party_member', 'coms_match'],\n",
       "      dtype='object')"
      ]
     },
     "execution_count": 3,
     "metadata": {},
     "output_type": "execute_result"
    }
   ],
   "source": [
    "df.columns[:20]"
   ]
  },
  {
   "cell_type": "code",
   "execution_count": 4,
   "metadata": {
    "ExecuteTime": {
     "end_time": "2020-03-11T17:47:43.018264Z",
     "start_time": "2020-03-11T17:47:43.012337Z"
    }
   },
   "outputs": [
    {
     "data": {
      "text/plain": [
       "Index(['bill_id', 'title', 'sponsor_title', 'sponsor_name', 'sponsor_state',\n",
       "       'introduced_date', 'cosponsors', 'cosponsors_by_party', 'committees',\n",
       "       'summary',\n",
       "       ...\n",
       "       'clean_committees_Rules and Administration', 'clean_committees_Science',\n",
       "       'clean_committees_Science and Technology',\n",
       "       'clean_committees_Science, Space, and Technology',\n",
       "       'clean_committees_Small Business',\n",
       "       'clean_committees_Small Business and Entrepreneurship',\n",
       "       'clean_committees_Standards of Official Conduct',\n",
       "       'clean_committees_Transportation and Infrastructure',\n",
       "       'clean_committees_Ways and Means', 'law_Law'],\n",
       "      dtype='object', length=123)"
      ]
     },
     "execution_count": 4,
     "metadata": {},
     "output_type": "execute_result"
    }
   ],
   "source": [
    "df.columns"
   ]
  },
  {
   "cell_type": "code",
   "execution_count": 5,
   "metadata": {
    "ExecuteTime": {
     "end_time": "2020-03-11T17:47:43.254071Z",
     "start_time": "2020-03-11T17:47:43.020707Z"
    }
   },
   "outputs": [],
   "source": [
    "x = df.select_dtypes([int, float, bool]).drop(\"law_Law\", axis = 1)\n",
    "y = df.final_status_3\n",
    "\n",
    "x_train, x_test, y_train, y_test = train_test_split(x, y)"
   ]
  },
  {
   "cell_type": "code",
   "execution_count": 6,
   "metadata": {
    "ExecuteTime": {
     "end_time": "2020-03-11T17:47:43.362826Z",
     "start_time": "2020-03-11T17:47:43.256287Z"
    },
    "scrolled": true
   },
   "outputs": [
    {
     "data": {
      "text/html": [
       "<div>\n",
       "<style scoped>\n",
       "    .dataframe tbody tr th:only-of-type {\n",
       "        vertical-align: middle;\n",
       "    }\n",
       "\n",
       "    .dataframe tbody tr th {\n",
       "        vertical-align: top;\n",
       "    }\n",
       "\n",
       "    .dataframe thead th {\n",
       "        text-align: right;\n",
       "    }\n",
       "</style>\n",
       "<table border=\"1\" class=\"dataframe\">\n",
       "  <thead>\n",
       "    <tr style=\"text-align: right;\">\n",
       "      <th></th>\n",
       "      <th>cosponsors</th>\n",
       "      <th>congress</th>\n",
       "      <th>sponsor_party_rank</th>\n",
       "      <th>sponsor_senior_party_member</th>\n",
       "      <th>coms_match</th>\n",
       "      <th>bipartisan</th>\n",
       "      <th>summary_length</th>\n",
       "      <th>sponsor_majority</th>\n",
       "      <th>united_congress</th>\n",
       "      <th>sponsor_pres_party_match</th>\n",
       "      <th>...</th>\n",
       "      <th>clean_committees_Rules and Administration</th>\n",
       "      <th>clean_committees_Science</th>\n",
       "      <th>clean_committees_Science and Technology</th>\n",
       "      <th>clean_committees_Science, Space, and Technology</th>\n",
       "      <th>clean_committees_Small Business</th>\n",
       "      <th>clean_committees_Small Business and Entrepreneurship</th>\n",
       "      <th>clean_committees_Standards of Official Conduct</th>\n",
       "      <th>clean_committees_Transportation and Infrastructure</th>\n",
       "      <th>clean_committees_Ways and Means</th>\n",
       "      <th>final_status_3</th>\n",
       "    </tr>\n",
       "  </thead>\n",
       "  <tbody>\n",
       "    <tr>\n",
       "      <th>15104</th>\n",
       "      <td>3</td>\n",
       "      <td>107</td>\n",
       "      <td>4</td>\n",
       "      <td>0</td>\n",
       "      <td>0</td>\n",
       "      <td>False</td>\n",
       "      <td>505</td>\n",
       "      <td>1</td>\n",
       "      <td>0</td>\n",
       "      <td>0</td>\n",
       "      <td>...</td>\n",
       "      <td>0</td>\n",
       "      <td>0</td>\n",
       "      <td>0</td>\n",
       "      <td>0</td>\n",
       "      <td>0</td>\n",
       "      <td>0</td>\n",
       "      <td>0</td>\n",
       "      <td>0</td>\n",
       "      <td>0</td>\n",
       "      <td>Referred to committee/subcommittee</td>\n",
       "    </tr>\n",
       "    <tr>\n",
       "      <th>66088</th>\n",
       "      <td>1</td>\n",
       "      <td>112</td>\n",
       "      <td>2</td>\n",
       "      <td>0</td>\n",
       "      <td>0</td>\n",
       "      <td>False</td>\n",
       "      <td>125</td>\n",
       "      <td>1</td>\n",
       "      <td>0</td>\n",
       "      <td>0</td>\n",
       "      <td>...</td>\n",
       "      <td>0</td>\n",
       "      <td>0</td>\n",
       "      <td>0</td>\n",
       "      <td>0</td>\n",
       "      <td>0</td>\n",
       "      <td>0</td>\n",
       "      <td>0</td>\n",
       "      <td>0</td>\n",
       "      <td>1</td>\n",
       "      <td>Referred to committee/subcommittee</td>\n",
       "    </tr>\n",
       "    <tr>\n",
       "      <th>106677</th>\n",
       "      <td>1</td>\n",
       "      <td>106</td>\n",
       "      <td>10</td>\n",
       "      <td>0</td>\n",
       "      <td>1</td>\n",
       "      <td>False</td>\n",
       "      <td>0</td>\n",
       "      <td>0</td>\n",
       "      <td>1</td>\n",
       "      <td>1</td>\n",
       "      <td>...</td>\n",
       "      <td>0</td>\n",
       "      <td>0</td>\n",
       "      <td>0</td>\n",
       "      <td>0</td>\n",
       "      <td>0</td>\n",
       "      <td>0</td>\n",
       "      <td>0</td>\n",
       "      <td>0</td>\n",
       "      <td>0</td>\n",
       "      <td>Referred to committee/subcommittee</td>\n",
       "    </tr>\n",
       "    <tr>\n",
       "      <th>52850</th>\n",
       "      <td>2</td>\n",
       "      <td>113</td>\n",
       "      <td>7</td>\n",
       "      <td>0</td>\n",
       "      <td>1</td>\n",
       "      <td>False</td>\n",
       "      <td>857</td>\n",
       "      <td>1</td>\n",
       "      <td>0</td>\n",
       "      <td>0</td>\n",
       "      <td>...</td>\n",
       "      <td>0</td>\n",
       "      <td>0</td>\n",
       "      <td>0</td>\n",
       "      <td>0</td>\n",
       "      <td>0</td>\n",
       "      <td>0</td>\n",
       "      <td>0</td>\n",
       "      <td>0</td>\n",
       "      <td>0</td>\n",
       "      <td>Referred to committee/subcommittee</td>\n",
       "    </tr>\n",
       "    <tr>\n",
       "      <th>101412</th>\n",
       "      <td>2</td>\n",
       "      <td>111</td>\n",
       "      <td>26</td>\n",
       "      <td>0</td>\n",
       "      <td>0</td>\n",
       "      <td>True</td>\n",
       "      <td>172</td>\n",
       "      <td>1</td>\n",
       "      <td>1</td>\n",
       "      <td>0</td>\n",
       "      <td>...</td>\n",
       "      <td>0</td>\n",
       "      <td>0</td>\n",
       "      <td>0</td>\n",
       "      <td>0</td>\n",
       "      <td>0</td>\n",
       "      <td>0</td>\n",
       "      <td>0</td>\n",
       "      <td>1</td>\n",
       "      <td>0</td>\n",
       "      <td>Referred to committee/subcommittee</td>\n",
       "    </tr>\n",
       "    <tr>\n",
       "      <th>...</th>\n",
       "      <td>...</td>\n",
       "      <td>...</td>\n",
       "      <td>...</td>\n",
       "      <td>...</td>\n",
       "      <td>...</td>\n",
       "      <td>...</td>\n",
       "      <td>...</td>\n",
       "      <td>...</td>\n",
       "      <td>...</td>\n",
       "      <td>...</td>\n",
       "      <td>...</td>\n",
       "      <td>...</td>\n",
       "      <td>...</td>\n",
       "      <td>...</td>\n",
       "      <td>...</td>\n",
       "      <td>...</td>\n",
       "      <td>...</td>\n",
       "      <td>...</td>\n",
       "      <td>...</td>\n",
       "      <td>...</td>\n",
       "      <td>...</td>\n",
       "    </tr>\n",
       "    <tr>\n",
       "      <th>27793</th>\n",
       "      <td>30</td>\n",
       "      <td>109</td>\n",
       "      <td>5</td>\n",
       "      <td>0</td>\n",
       "      <td>1</td>\n",
       "      <td>True</td>\n",
       "      <td>9967</td>\n",
       "      <td>1</td>\n",
       "      <td>1</td>\n",
       "      <td>1</td>\n",
       "      <td>...</td>\n",
       "      <td>0</td>\n",
       "      <td>0</td>\n",
       "      <td>0</td>\n",
       "      <td>0</td>\n",
       "      <td>0</td>\n",
       "      <td>0</td>\n",
       "      <td>0</td>\n",
       "      <td>0</td>\n",
       "      <td>0</td>\n",
       "      <td>Progress made</td>\n",
       "    </tr>\n",
       "    <tr>\n",
       "      <th>103074</th>\n",
       "      <td>46</td>\n",
       "      <td>106</td>\n",
       "      <td>8</td>\n",
       "      <td>0</td>\n",
       "      <td>0</td>\n",
       "      <td>True</td>\n",
       "      <td>238</td>\n",
       "      <td>1</td>\n",
       "      <td>1</td>\n",
       "      <td>0</td>\n",
       "      <td>...</td>\n",
       "      <td>0</td>\n",
       "      <td>0</td>\n",
       "      <td>0</td>\n",
       "      <td>0</td>\n",
       "      <td>0</td>\n",
       "      <td>0</td>\n",
       "      <td>0</td>\n",
       "      <td>0</td>\n",
       "      <td>1</td>\n",
       "      <td>Referred to committee/subcommittee</td>\n",
       "    </tr>\n",
       "    <tr>\n",
       "      <th>103009</th>\n",
       "      <td>13</td>\n",
       "      <td>106</td>\n",
       "      <td>15</td>\n",
       "      <td>0</td>\n",
       "      <td>0</td>\n",
       "      <td>True</td>\n",
       "      <td>0</td>\n",
       "      <td>0</td>\n",
       "      <td>1</td>\n",
       "      <td>1</td>\n",
       "      <td>...</td>\n",
       "      <td>0</td>\n",
       "      <td>0</td>\n",
       "      <td>0</td>\n",
       "      <td>0</td>\n",
       "      <td>0</td>\n",
       "      <td>0</td>\n",
       "      <td>0</td>\n",
       "      <td>0</td>\n",
       "      <td>0</td>\n",
       "      <td>Referred to committee/subcommittee</td>\n",
       "    </tr>\n",
       "    <tr>\n",
       "      <th>41593</th>\n",
       "      <td>2</td>\n",
       "      <td>105</td>\n",
       "      <td>18</td>\n",
       "      <td>0</td>\n",
       "      <td>0</td>\n",
       "      <td>False</td>\n",
       "      <td>477</td>\n",
       "      <td>1</td>\n",
       "      <td>1</td>\n",
       "      <td>0</td>\n",
       "      <td>...</td>\n",
       "      <td>0</td>\n",
       "      <td>0</td>\n",
       "      <td>0</td>\n",
       "      <td>0</td>\n",
       "      <td>0</td>\n",
       "      <td>0</td>\n",
       "      <td>0</td>\n",
       "      <td>0</td>\n",
       "      <td>0</td>\n",
       "      <td>Referred to committee/subcommittee</td>\n",
       "    </tr>\n",
       "    <tr>\n",
       "      <th>72813</th>\n",
       "      <td>50</td>\n",
       "      <td>108</td>\n",
       "      <td>7</td>\n",
       "      <td>0</td>\n",
       "      <td>0</td>\n",
       "      <td>False</td>\n",
       "      <td>387</td>\n",
       "      <td>0</td>\n",
       "      <td>1</td>\n",
       "      <td>0</td>\n",
       "      <td>...</td>\n",
       "      <td>0</td>\n",
       "      <td>0</td>\n",
       "      <td>0</td>\n",
       "      <td>0</td>\n",
       "      <td>0</td>\n",
       "      <td>0</td>\n",
       "      <td>0</td>\n",
       "      <td>0</td>\n",
       "      <td>0</td>\n",
       "      <td>Referred to committee/subcommittee</td>\n",
       "    </tr>\n",
       "  </tbody>\n",
       "</table>\n",
       "<p>84375 rows × 105 columns</p>\n",
       "</div>"
      ],
      "text/plain": [
       "        cosponsors  congress  sponsor_party_rank  sponsor_senior_party_member  \\\n",
       "15104            3       107                   4                            0   \n",
       "66088            1       112                   2                            0   \n",
       "106677           1       106                  10                            0   \n",
       "52850            2       113                   7                            0   \n",
       "101412           2       111                  26                            0   \n",
       "...            ...       ...                 ...                          ...   \n",
       "27793           30       109                   5                            0   \n",
       "103074          46       106                   8                            0   \n",
       "103009          13       106                  15                            0   \n",
       "41593            2       105                  18                            0   \n",
       "72813           50       108                   7                            0   \n",
       "\n",
       "        coms_match  bipartisan  summary_length  sponsor_majority  \\\n",
       "15104            0       False             505                 1   \n",
       "66088            0       False             125                 1   \n",
       "106677           1       False               0                 0   \n",
       "52850            1       False             857                 1   \n",
       "101412           0        True             172                 1   \n",
       "...            ...         ...             ...               ...   \n",
       "27793            1        True            9967                 1   \n",
       "103074           0        True             238                 1   \n",
       "103009           0        True               0                 0   \n",
       "41593            0       False             477                 1   \n",
       "72813            0       False             387                 0   \n",
       "\n",
       "        united_congress  sponsor_pres_party_match  ...  \\\n",
       "15104                 0                         0  ...   \n",
       "66088                 0                         0  ...   \n",
       "106677                1                         1  ...   \n",
       "52850                 0                         0  ...   \n",
       "101412                1                         0  ...   \n",
       "...                 ...                       ...  ...   \n",
       "27793                 1                         1  ...   \n",
       "103074                1                         0  ...   \n",
       "103009                1                         1  ...   \n",
       "41593                 1                         0  ...   \n",
       "72813                 1                         0  ...   \n",
       "\n",
       "        clean_committees_Rules and Administration  clean_committees_Science  \\\n",
       "15104                                           0                         0   \n",
       "66088                                           0                         0   \n",
       "106677                                          0                         0   \n",
       "52850                                           0                         0   \n",
       "101412                                          0                         0   \n",
       "...                                           ...                       ...   \n",
       "27793                                           0                         0   \n",
       "103074                                          0                         0   \n",
       "103009                                          0                         0   \n",
       "41593                                           0                         0   \n",
       "72813                                           0                         0   \n",
       "\n",
       "        clean_committees_Science and Technology  \\\n",
       "15104                                         0   \n",
       "66088                                         0   \n",
       "106677                                        0   \n",
       "52850                                         0   \n",
       "101412                                        0   \n",
       "...                                         ...   \n",
       "27793                                         0   \n",
       "103074                                        0   \n",
       "103009                                        0   \n",
       "41593                                         0   \n",
       "72813                                         0   \n",
       "\n",
       "        clean_committees_Science, Space, and Technology  \\\n",
       "15104                                                 0   \n",
       "66088                                                 0   \n",
       "106677                                                0   \n",
       "52850                                                 0   \n",
       "101412                                                0   \n",
       "...                                                 ...   \n",
       "27793                                                 0   \n",
       "103074                                                0   \n",
       "103009                                                0   \n",
       "41593                                                 0   \n",
       "72813                                                 0   \n",
       "\n",
       "        clean_committees_Small Business  \\\n",
       "15104                                 0   \n",
       "66088                                 0   \n",
       "106677                                0   \n",
       "52850                                 0   \n",
       "101412                                0   \n",
       "...                                 ...   \n",
       "27793                                 0   \n",
       "103074                                0   \n",
       "103009                                0   \n",
       "41593                                 0   \n",
       "72813                                 0   \n",
       "\n",
       "        clean_committees_Small Business and Entrepreneurship  \\\n",
       "15104                                                   0      \n",
       "66088                                                   0      \n",
       "106677                                                  0      \n",
       "52850                                                   0      \n",
       "101412                                                  0      \n",
       "...                                                   ...      \n",
       "27793                                                   0      \n",
       "103074                                                  0      \n",
       "103009                                                  0      \n",
       "41593                                                   0      \n",
       "72813                                                   0      \n",
       "\n",
       "        clean_committees_Standards of Official Conduct  \\\n",
       "15104                                                0   \n",
       "66088                                                0   \n",
       "106677                                               0   \n",
       "52850                                                0   \n",
       "101412                                               0   \n",
       "...                                                ...   \n",
       "27793                                                0   \n",
       "103074                                               0   \n",
       "103009                                               0   \n",
       "41593                                                0   \n",
       "72813                                                0   \n",
       "\n",
       "        clean_committees_Transportation and Infrastructure  \\\n",
       "15104                                                   0    \n",
       "66088                                                   0    \n",
       "106677                                                  0    \n",
       "52850                                                   0    \n",
       "101412                                                  1    \n",
       "...                                                   ...    \n",
       "27793                                                   0    \n",
       "103074                                                  0    \n",
       "103009                                                  0    \n",
       "41593                                                   0    \n",
       "72813                                                   0    \n",
       "\n",
       "        clean_committees_Ways and Means                      final_status_3  \n",
       "15104                                 0  Referred to committee/subcommittee  \n",
       "66088                                 1  Referred to committee/subcommittee  \n",
       "106677                                0  Referred to committee/subcommittee  \n",
       "52850                                 0  Referred to committee/subcommittee  \n",
       "101412                                0  Referred to committee/subcommittee  \n",
       "...                                 ...                                 ...  \n",
       "27793                                 0                       Progress made  \n",
       "103074                                1  Referred to committee/subcommittee  \n",
       "103009                                0  Referred to committee/subcommittee  \n",
       "41593                                 0  Referred to committee/subcommittee  \n",
       "72813                                 0  Referred to committee/subcommittee  \n",
       "\n",
       "[84375 rows x 105 columns]"
      ]
     },
     "execution_count": 6,
     "metadata": {},
     "output_type": "execute_result"
    }
   ],
   "source": [
    "train = x_train.join(y_train)\n",
    "train"
   ]
  },
  {
   "cell_type": "code",
   "execution_count": 7,
   "metadata": {
    "ExecuteTime": {
     "end_time": "2020-03-11T17:47:43.497202Z",
     "start_time": "2020-03-11T17:47:43.364710Z"
    }
   },
   "outputs": [
    {
     "data": {
      "text/plain": [
       "Referred to committee/subcommittee    0.824498\n",
       "Progress made                         0.140575\n",
       "Law                                   0.034927\n",
       "Name: final_status_3, dtype: float64"
      ]
     },
     "execution_count": 7,
     "metadata": {},
     "output_type": "execute_result"
    }
   ],
   "source": [
    "train.final_status_3.value_counts(normalize = True)"
   ]
  },
  {
   "cell_type": "code",
   "execution_count": 8,
   "metadata": {
    "ExecuteTime": {
     "end_time": "2020-03-11T17:47:43.503638Z",
     "start_time": "2020-03-11T17:47:43.501230Z"
    }
   },
   "outputs": [],
   "source": [
    "statuses = [\"Progress made\", \"Law\"]"
   ]
  },
  {
   "cell_type": "code",
   "execution_count": 9,
   "metadata": {
    "ExecuteTime": {
     "end_time": "2020-03-11T17:47:43.659556Z",
     "start_time": "2020-03-11T17:47:43.506475Z"
    }
   },
   "outputs": [],
   "source": [
    "bootstrapped = []\n",
    "for status in statuses:\n",
    "    sample = resample(train[train['final_status_3'] == status], replace = True, n_samples = 50_000, random_state = 13)\n",
    "    bootstrapped.append(sample)"
   ]
  },
  {
   "cell_type": "code",
   "execution_count": 10,
   "metadata": {
    "ExecuteTime": {
     "end_time": "2020-03-11T17:47:43.820301Z",
     "start_time": "2020-03-11T17:47:43.661333Z"
    },
    "scrolled": true
   },
   "outputs": [
    {
     "data": {
      "text/html": [
       "<div>\n",
       "<style scoped>\n",
       "    .dataframe tbody tr th:only-of-type {\n",
       "        vertical-align: middle;\n",
       "    }\n",
       "\n",
       "    .dataframe tbody tr th {\n",
       "        vertical-align: top;\n",
       "    }\n",
       "\n",
       "    .dataframe thead th {\n",
       "        text-align: right;\n",
       "    }\n",
       "</style>\n",
       "<table border=\"1\" class=\"dataframe\">\n",
       "  <thead>\n",
       "    <tr style=\"text-align: right;\">\n",
       "      <th></th>\n",
       "      <th>cosponsors</th>\n",
       "      <th>congress</th>\n",
       "      <th>sponsor_party_rank</th>\n",
       "      <th>sponsor_senior_party_member</th>\n",
       "      <th>coms_match</th>\n",
       "      <th>bipartisan</th>\n",
       "      <th>summary_length</th>\n",
       "      <th>sponsor_majority</th>\n",
       "      <th>united_congress</th>\n",
       "      <th>sponsor_pres_party_match</th>\n",
       "      <th>...</th>\n",
       "      <th>clean_committees_Rules and Administration</th>\n",
       "      <th>clean_committees_Science</th>\n",
       "      <th>clean_committees_Science and Technology</th>\n",
       "      <th>clean_committees_Science, Space, and Technology</th>\n",
       "      <th>clean_committees_Small Business</th>\n",
       "      <th>clean_committees_Small Business and Entrepreneurship</th>\n",
       "      <th>clean_committees_Standards of Official Conduct</th>\n",
       "      <th>clean_committees_Transportation and Infrastructure</th>\n",
       "      <th>clean_committees_Ways and Means</th>\n",
       "      <th>final_status_3</th>\n",
       "    </tr>\n",
       "  </thead>\n",
       "  <tbody>\n",
       "    <tr>\n",
       "      <th>74380</th>\n",
       "      <td>132</td>\n",
       "      <td>108</td>\n",
       "      <td>7</td>\n",
       "      <td>0</td>\n",
       "      <td>0</td>\n",
       "      <td>True</td>\n",
       "      <td>1497</td>\n",
       "      <td>0</td>\n",
       "      <td>1</td>\n",
       "      <td>0</td>\n",
       "      <td>...</td>\n",
       "      <td>0</td>\n",
       "      <td>0</td>\n",
       "      <td>0</td>\n",
       "      <td>0</td>\n",
       "      <td>0</td>\n",
       "      <td>0</td>\n",
       "      <td>0</td>\n",
       "      <td>0</td>\n",
       "      <td>0</td>\n",
       "      <td>Progress made</td>\n",
       "    </tr>\n",
       "    <tr>\n",
       "      <th>41059</th>\n",
       "      <td>3</td>\n",
       "      <td>114</td>\n",
       "      <td>11</td>\n",
       "      <td>0</td>\n",
       "      <td>1</td>\n",
       "      <td>True</td>\n",
       "      <td>430</td>\n",
       "      <td>1</td>\n",
       "      <td>1</td>\n",
       "      <td>0</td>\n",
       "      <td>...</td>\n",
       "      <td>0</td>\n",
       "      <td>0</td>\n",
       "      <td>0</td>\n",
       "      <td>0</td>\n",
       "      <td>0</td>\n",
       "      <td>0</td>\n",
       "      <td>0</td>\n",
       "      <td>0</td>\n",
       "      <td>0</td>\n",
       "      <td>Progress made</td>\n",
       "    </tr>\n",
       "    <tr>\n",
       "      <th>79138</th>\n",
       "      <td>5</td>\n",
       "      <td>110</td>\n",
       "      <td>11</td>\n",
       "      <td>0</td>\n",
       "      <td>0</td>\n",
       "      <td>False</td>\n",
       "      <td>2075</td>\n",
       "      <td>1</td>\n",
       "      <td>1</td>\n",
       "      <td>0</td>\n",
       "      <td>...</td>\n",
       "      <td>0</td>\n",
       "      <td>0</td>\n",
       "      <td>0</td>\n",
       "      <td>0</td>\n",
       "      <td>0</td>\n",
       "      <td>0</td>\n",
       "      <td>0</td>\n",
       "      <td>0</td>\n",
       "      <td>0</td>\n",
       "      <td>Progress made</td>\n",
       "    </tr>\n",
       "    <tr>\n",
       "      <th>34547</th>\n",
       "      <td>2</td>\n",
       "      <td>114</td>\n",
       "      <td>8</td>\n",
       "      <td>0</td>\n",
       "      <td>1</td>\n",
       "      <td>True</td>\n",
       "      <td>1142</td>\n",
       "      <td>1</td>\n",
       "      <td>1</td>\n",
       "      <td>0</td>\n",
       "      <td>...</td>\n",
       "      <td>0</td>\n",
       "      <td>0</td>\n",
       "      <td>0</td>\n",
       "      <td>0</td>\n",
       "      <td>0</td>\n",
       "      <td>0</td>\n",
       "      <td>0</td>\n",
       "      <td>0</td>\n",
       "      <td>0</td>\n",
       "      <td>Progress made</td>\n",
       "    </tr>\n",
       "    <tr>\n",
       "      <th>67131</th>\n",
       "      <td>0</td>\n",
       "      <td>112</td>\n",
       "      <td>2</td>\n",
       "      <td>0</td>\n",
       "      <td>0</td>\n",
       "      <td>False</td>\n",
       "      <td>518</td>\n",
       "      <td>1</td>\n",
       "      <td>0</td>\n",
       "      <td>0</td>\n",
       "      <td>...</td>\n",
       "      <td>0</td>\n",
       "      <td>0</td>\n",
       "      <td>0</td>\n",
       "      <td>0</td>\n",
       "      <td>0</td>\n",
       "      <td>0</td>\n",
       "      <td>0</td>\n",
       "      <td>0</td>\n",
       "      <td>0</td>\n",
       "      <td>Progress made</td>\n",
       "    </tr>\n",
       "    <tr>\n",
       "      <th>...</th>\n",
       "      <td>...</td>\n",
       "      <td>...</td>\n",
       "      <td>...</td>\n",
       "      <td>...</td>\n",
       "      <td>...</td>\n",
       "      <td>...</td>\n",
       "      <td>...</td>\n",
       "      <td>...</td>\n",
       "      <td>...</td>\n",
       "      <td>...</td>\n",
       "      <td>...</td>\n",
       "      <td>...</td>\n",
       "      <td>...</td>\n",
       "      <td>...</td>\n",
       "      <td>...</td>\n",
       "      <td>...</td>\n",
       "      <td>...</td>\n",
       "      <td>...</td>\n",
       "      <td>...</td>\n",
       "      <td>...</td>\n",
       "      <td>...</td>\n",
       "    </tr>\n",
       "    <tr>\n",
       "      <th>80308</th>\n",
       "      <td>29</td>\n",
       "      <td>110</td>\n",
       "      <td>7</td>\n",
       "      <td>0</td>\n",
       "      <td>0</td>\n",
       "      <td>True</td>\n",
       "      <td>157</td>\n",
       "      <td>1</td>\n",
       "      <td>1</td>\n",
       "      <td>0</td>\n",
       "      <td>...</td>\n",
       "      <td>0</td>\n",
       "      <td>0</td>\n",
       "      <td>0</td>\n",
       "      <td>0</td>\n",
       "      <td>0</td>\n",
       "      <td>0</td>\n",
       "      <td>0</td>\n",
       "      <td>0</td>\n",
       "      <td>0</td>\n",
       "      <td>Law</td>\n",
       "    </tr>\n",
       "    <tr>\n",
       "      <th>58106</th>\n",
       "      <td>1</td>\n",
       "      <td>113</td>\n",
       "      <td>5</td>\n",
       "      <td>0</td>\n",
       "      <td>0</td>\n",
       "      <td>False</td>\n",
       "      <td>610</td>\n",
       "      <td>1</td>\n",
       "      <td>0</td>\n",
       "      <td>0</td>\n",
       "      <td>...</td>\n",
       "      <td>0</td>\n",
       "      <td>0</td>\n",
       "      <td>0</td>\n",
       "      <td>0</td>\n",
       "      <td>0</td>\n",
       "      <td>0</td>\n",
       "      <td>0</td>\n",
       "      <td>0</td>\n",
       "      <td>0</td>\n",
       "      <td>Law</td>\n",
       "    </tr>\n",
       "    <tr>\n",
       "      <th>25309</th>\n",
       "      <td>0</td>\n",
       "      <td>109</td>\n",
       "      <td>2</td>\n",
       "      <td>5</td>\n",
       "      <td>1</td>\n",
       "      <td>False</td>\n",
       "      <td>407</td>\n",
       "      <td>1</td>\n",
       "      <td>1</td>\n",
       "      <td>1</td>\n",
       "      <td>...</td>\n",
       "      <td>0</td>\n",
       "      <td>0</td>\n",
       "      <td>0</td>\n",
       "      <td>0</td>\n",
       "      <td>0</td>\n",
       "      <td>0</td>\n",
       "      <td>0</td>\n",
       "      <td>0</td>\n",
       "      <td>0</td>\n",
       "      <td>Law</td>\n",
       "    </tr>\n",
       "    <tr>\n",
       "      <th>68313</th>\n",
       "      <td>8</td>\n",
       "      <td>112</td>\n",
       "      <td>6</td>\n",
       "      <td>0</td>\n",
       "      <td>0</td>\n",
       "      <td>True</td>\n",
       "      <td>180</td>\n",
       "      <td>1</td>\n",
       "      <td>0</td>\n",
       "      <td>0</td>\n",
       "      <td>...</td>\n",
       "      <td>0</td>\n",
       "      <td>0</td>\n",
       "      <td>0</td>\n",
       "      <td>0</td>\n",
       "      <td>0</td>\n",
       "      <td>0</td>\n",
       "      <td>0</td>\n",
       "      <td>0</td>\n",
       "      <td>0</td>\n",
       "      <td>Law</td>\n",
       "    </tr>\n",
       "    <tr>\n",
       "      <th>99640</th>\n",
       "      <td>6</td>\n",
       "      <td>111</td>\n",
       "      <td>11</td>\n",
       "      <td>0</td>\n",
       "      <td>0</td>\n",
       "      <td>False</td>\n",
       "      <td>386</td>\n",
       "      <td>1</td>\n",
       "      <td>1</td>\n",
       "      <td>0</td>\n",
       "      <td>...</td>\n",
       "      <td>0</td>\n",
       "      <td>0</td>\n",
       "      <td>0</td>\n",
       "      <td>0</td>\n",
       "      <td>0</td>\n",
       "      <td>0</td>\n",
       "      <td>0</td>\n",
       "      <td>0</td>\n",
       "      <td>0</td>\n",
       "      <td>Law</td>\n",
       "    </tr>\n",
       "  </tbody>\n",
       "</table>\n",
       "<p>100000 rows × 105 columns</p>\n",
       "</div>"
      ],
      "text/plain": [
       "       cosponsors  congress  sponsor_party_rank  sponsor_senior_party_member  \\\n",
       "74380         132       108                   7                            0   \n",
       "41059           3       114                  11                            0   \n",
       "79138           5       110                  11                            0   \n",
       "34547           2       114                   8                            0   \n",
       "67131           0       112                   2                            0   \n",
       "...           ...       ...                 ...                          ...   \n",
       "80308          29       110                   7                            0   \n",
       "58106           1       113                   5                            0   \n",
       "25309           0       109                   2                            5   \n",
       "68313           8       112                   6                            0   \n",
       "99640           6       111                  11                            0   \n",
       "\n",
       "       coms_match  bipartisan  summary_length  sponsor_majority  \\\n",
       "74380           0        True            1497                 0   \n",
       "41059           1        True             430                 1   \n",
       "79138           0       False            2075                 1   \n",
       "34547           1        True            1142                 1   \n",
       "67131           0       False             518                 1   \n",
       "...           ...         ...             ...               ...   \n",
       "80308           0        True             157                 1   \n",
       "58106           0       False             610                 1   \n",
       "25309           1       False             407                 1   \n",
       "68313           0        True             180                 1   \n",
       "99640           0       False             386                 1   \n",
       "\n",
       "       united_congress  sponsor_pres_party_match  ...  \\\n",
       "74380                1                         0  ...   \n",
       "41059                1                         0  ...   \n",
       "79138                1                         0  ...   \n",
       "34547                1                         0  ...   \n",
       "67131                0                         0  ...   \n",
       "...                ...                       ...  ...   \n",
       "80308                1                         0  ...   \n",
       "58106                0                         0  ...   \n",
       "25309                1                         1  ...   \n",
       "68313                0                         0  ...   \n",
       "99640                1                         0  ...   \n",
       "\n",
       "       clean_committees_Rules and Administration  clean_committees_Science  \\\n",
       "74380                                          0                         0   \n",
       "41059                                          0                         0   \n",
       "79138                                          0                         0   \n",
       "34547                                          0                         0   \n",
       "67131                                          0                         0   \n",
       "...                                          ...                       ...   \n",
       "80308                                          0                         0   \n",
       "58106                                          0                         0   \n",
       "25309                                          0                         0   \n",
       "68313                                          0                         0   \n",
       "99640                                          0                         0   \n",
       "\n",
       "       clean_committees_Science and Technology  \\\n",
       "74380                                        0   \n",
       "41059                                        0   \n",
       "79138                                        0   \n",
       "34547                                        0   \n",
       "67131                                        0   \n",
       "...                                        ...   \n",
       "80308                                        0   \n",
       "58106                                        0   \n",
       "25309                                        0   \n",
       "68313                                        0   \n",
       "99640                                        0   \n",
       "\n",
       "       clean_committees_Science, Space, and Technology  \\\n",
       "74380                                                0   \n",
       "41059                                                0   \n",
       "79138                                                0   \n",
       "34547                                                0   \n",
       "67131                                                0   \n",
       "...                                                ...   \n",
       "80308                                                0   \n",
       "58106                                                0   \n",
       "25309                                                0   \n",
       "68313                                                0   \n",
       "99640                                                0   \n",
       "\n",
       "       clean_committees_Small Business  \\\n",
       "74380                                0   \n",
       "41059                                0   \n",
       "79138                                0   \n",
       "34547                                0   \n",
       "67131                                0   \n",
       "...                                ...   \n",
       "80308                                0   \n",
       "58106                                0   \n",
       "25309                                0   \n",
       "68313                                0   \n",
       "99640                                0   \n",
       "\n",
       "       clean_committees_Small Business and Entrepreneurship  \\\n",
       "74380                                                  0      \n",
       "41059                                                  0      \n",
       "79138                                                  0      \n",
       "34547                                                  0      \n",
       "67131                                                  0      \n",
       "...                                                  ...      \n",
       "80308                                                  0      \n",
       "58106                                                  0      \n",
       "25309                                                  0      \n",
       "68313                                                  0      \n",
       "99640                                                  0      \n",
       "\n",
       "       clean_committees_Standards of Official Conduct  \\\n",
       "74380                                               0   \n",
       "41059                                               0   \n",
       "79138                                               0   \n",
       "34547                                               0   \n",
       "67131                                               0   \n",
       "...                                               ...   \n",
       "80308                                               0   \n",
       "58106                                               0   \n",
       "25309                                               0   \n",
       "68313                                               0   \n",
       "99640                                               0   \n",
       "\n",
       "       clean_committees_Transportation and Infrastructure  \\\n",
       "74380                                                  0    \n",
       "41059                                                  0    \n",
       "79138                                                  0    \n",
       "34547                                                  0    \n",
       "67131                                                  0    \n",
       "...                                                  ...    \n",
       "80308                                                  0    \n",
       "58106                                                  0    \n",
       "25309                                                  0    \n",
       "68313                                                  0    \n",
       "99640                                                  0    \n",
       "\n",
       "       clean_committees_Ways and Means  final_status_3  \n",
       "74380                                0   Progress made  \n",
       "41059                                0   Progress made  \n",
       "79138                                0   Progress made  \n",
       "34547                                0   Progress made  \n",
       "67131                                0   Progress made  \n",
       "...                                ...             ...  \n",
       "80308                                0             Law  \n",
       "58106                                0             Law  \n",
       "25309                                0             Law  \n",
       "68313                                0             Law  \n",
       "99640                                0             Law  \n",
       "\n",
       "[100000 rows x 105 columns]"
      ]
     },
     "execution_count": 10,
     "metadata": {},
     "output_type": "execute_result"
    }
   ],
   "source": [
    "bootstrapped = pd.concat(bootstrapped)\n",
    "bootstrapped"
   ]
  },
  {
   "cell_type": "code",
   "execution_count": 11,
   "metadata": {
    "ExecuteTime": {
     "end_time": "2020-03-11T17:47:44.066701Z",
     "start_time": "2020-03-11T17:47:43.822571Z"
    }
   },
   "outputs": [],
   "source": [
    "train_samples = pd.concat([train, bootstrapped])"
   ]
  },
  {
   "cell_type": "code",
   "execution_count": 12,
   "metadata": {
    "ExecuteTime": {
     "end_time": "2020-03-11T17:47:44.093748Z",
     "start_time": "2020-03-11T17:47:44.068654Z"
    }
   },
   "outputs": [
    {
     "data": {
      "text/plain": [
       "Referred to committee/subcommittee    0.377313\n",
       "Progress made                         0.335517\n",
       "Law                                   0.287170\n",
       "Name: final_status_3, dtype: float64"
      ]
     },
     "execution_count": 12,
     "metadata": {},
     "output_type": "execute_result"
    }
   ],
   "source": [
    "train_samples['final_status_3'].value_counts(normalize = True)"
   ]
  },
  {
   "cell_type": "code",
   "execution_count": 13,
   "metadata": {
    "ExecuteTime": {
     "end_time": "2020-03-11T17:47:44.381397Z",
     "start_time": "2020-03-11T17:47:44.095875Z"
    }
   },
   "outputs": [],
   "source": [
    "x_train = train_samples.drop(\"final_status_3\", axis = 1)\n",
    "y_train = train_samples.final_status_3"
   ]
  },
  {
   "cell_type": "markdown",
   "metadata": {},
   "source": [
    "# Feature Selection"
   ]
  },
  {
   "cell_type": "code",
   "execution_count": 15,
   "metadata": {
    "ExecuteTime": {
     "end_time": "2020-03-11T17:52:34.642392Z",
     "start_time": "2020-03-11T17:52:34.639766Z"
    }
   },
   "outputs": [],
   "source": [
    "# lr = LogisticRegression()\n",
    "\n",
    "# rfe = RFECV(lr, step = 1, cv = 5, n_jobs = 4)\n",
    "\n",
    "# rfe.fit(x_train, y_train)\n",
    "\n",
    "# rfe.support_\n",
    "\n",
    "# rfe.ranking_\n",
    "\n",
    "# arr = rfe.support_\n",
    "# arr = np.where(arr)[0]\n",
    "\n",
    "# x_train_good = x_train.iloc[:, arr]\n",
    "\n",
    "# x_test_good = x_test.iloc[:, arr]"
   ]
  },
  {
   "cell_type": "code",
   "execution_count": 16,
   "metadata": {
    "ExecuteTime": {
     "end_time": "2020-03-11T17:52:48.176901Z",
     "start_time": "2020-03-11T17:52:37.919537Z"
    }
   },
   "outputs": [
    {
     "name": "stderr",
     "output_type": "stream",
     "text": [
      "/opt/anaconda3/lib/python3.7/site-packages/sklearn/linear_model/logistic.py:432: FutureWarning: Default solver will be changed to 'lbfgs' in 0.22. Specify a solver to silence this warning.\n",
      "  FutureWarning)\n",
      "/opt/anaconda3/lib/python3.7/site-packages/sklearn/linear_model/logistic.py:469: FutureWarning: Default multi_class will be changed to 'auto' in 0.22. Specify the multi_class option to silence this warning.\n",
      "  \"this warning.\", FutureWarning)\n"
     ]
    },
    {
     "name": "stdout",
     "output_type": "stream",
     "text": [
      "0.6481898305084746\n",
      "0.7121422222222222\n"
     ]
    }
   ],
   "source": [
    "lr = LogisticRegression()\n",
    "\n",
    "lr.fit(x_train, y_train)\n",
    "\n",
    "print(lr.score(x_train, y_train))\n",
    "\n",
    "print(lr.score(x_test, y_test))\n",
    "\n",
    "preds = lr.predict(x_test)"
   ]
  },
  {
   "cell_type": "code",
   "execution_count": 17,
   "metadata": {
    "ExecuteTime": {
     "end_time": "2020-03-11T17:52:48.955251Z",
     "start_time": "2020-03-11T17:52:48.178869Z"
    }
   },
   "outputs": [
    {
     "name": "stdout",
     "output_type": "stream",
     "text": [
      "('                                    precision    recall  f1-score   support\\n'\n",
      " '\\n'\n",
      " '                               Law       0.16      0.67      0.26       960\\n'\n",
      " '                     Progress made       0.35      0.51      0.42      3985\\n'\n",
      " 'Referred to committee/subcommittee       0.94      0.75      0.83     23180\\n'\n",
      " '\\n'\n",
      " '                          accuracy                           0.71     28125\\n'\n",
      " '                         macro avg       0.49      0.64      0.50     28125\\n'\n",
      " '                      weighted avg       0.83      0.71      0.76     '\n",
      " '28125\\n')\n"
     ]
    }
   ],
   "source": [
    "clm = classification_report(y_test, preds)\n",
    "pp.pprint(clm)"
   ]
  },
  {
   "cell_type": "markdown",
   "metadata": {
    "ExecuteTime": {
     "end_time": "2020-03-05T22:26:20.470612Z",
     "start_time": "2020-03-05T22:26:20.468307Z"
    }
   },
   "source": [
    "# Logistic Regression"
   ]
  },
  {
   "cell_type": "code",
   "execution_count": 20,
   "metadata": {
    "ExecuteTime": {
     "end_time": "2020-03-11T17:54:22.420136Z",
     "start_time": "2020-03-11T17:54:13.456049Z"
    }
   },
   "outputs": [
    {
     "name": "stderr",
     "output_type": "stream",
     "text": [
      "/opt/anaconda3/lib/python3.7/site-packages/sklearn/linear_model/logistic.py:432: FutureWarning: Default solver will be changed to 'lbfgs' in 0.22. Specify a solver to silence this warning.\n",
      "  FutureWarning)\n",
      "/opt/anaconda3/lib/python3.7/site-packages/sklearn/linear_model/logistic.py:469: FutureWarning: Default multi_class will be changed to 'auto' in 0.22. Specify the multi_class option to silence this warning.\n",
      "  \"this warning.\", FutureWarning)\n"
     ]
    },
    {
     "name": "stdout",
     "output_type": "stream",
     "text": [
      "0.6481898305084746\n"
     ]
    },
    {
     "data": {
      "text/plain": [
       "0.7121422222222222"
      ]
     },
     "execution_count": 20,
     "metadata": {},
     "output_type": "execute_result"
    }
   ],
   "source": [
    "lr = LogisticRegression()\n",
    "\n",
    "lr.fit(x_train, y_train)\n",
    "\n",
    "print(lr.score(x_train, y_train))\n",
    "\n",
    "lr.score(x_test, y_test)"
   ]
  },
  {
   "cell_type": "code",
   "execution_count": 21,
   "metadata": {
    "ExecuteTime": {
     "end_time": "2020-03-11T17:54:22.537089Z",
     "start_time": "2020-03-11T17:54:22.422356Z"
    }
   },
   "outputs": [],
   "source": [
    "preds = lr.predict(x_test)"
   ]
  },
  {
   "cell_type": "code",
   "execution_count": 22,
   "metadata": {
    "ExecuteTime": {
     "end_time": "2020-03-11T17:54:23.308697Z",
     "start_time": "2020-03-11T17:54:22.539430Z"
    }
   },
   "outputs": [
    {
     "name": "stdout",
     "output_type": "stream",
     "text": [
      "('                                    precision    recall  f1-score   support\\n'\n",
      " '\\n'\n",
      " '                               Law       0.16      0.67      0.26       960\\n'\n",
      " '                     Progress made       0.35      0.51      0.42      3985\\n'\n",
      " 'Referred to committee/subcommittee       0.94      0.75      0.83     23180\\n'\n",
      " '\\n'\n",
      " '                          accuracy                           0.71     28125\\n'\n",
      " '                         macro avg       0.49      0.64      0.50     28125\\n'\n",
      " '                      weighted avg       0.83      0.71      0.76     '\n",
      " '28125\\n')\n"
     ]
    }
   ],
   "source": [
    "clm = classification_report(y_test, preds)\n",
    "pp.pprint(clm)"
   ]
  },
  {
   "cell_type": "code",
   "execution_count": 23,
   "metadata": {
    "ExecuteTime": {
     "end_time": "2020-03-11T17:54:23.411136Z",
     "start_time": "2020-03-11T17:54:23.311938Z"
    }
   },
   "outputs": [
    {
     "data": {
      "text/plain": [
       "array([[  641,   162,   157],\n",
       "       [ 1054,  2043,   888],\n",
       "       [ 2246,  3589, 17345]])"
      ]
     },
     "execution_count": 23,
     "metadata": {},
     "output_type": "execute_result"
    }
   ],
   "source": [
    "cm = confusion_matrix(y_test, preds)\n",
    "cm"
   ]
  },
  {
   "cell_type": "code",
   "execution_count": 24,
   "metadata": {
    "ExecuteTime": {
     "end_time": "2020-03-11T17:54:23.518802Z",
     "start_time": "2020-03-11T17:54:23.412656Z"
    }
   },
   "outputs": [],
   "source": [
    "probas = lr.predict_proba(x_test)"
   ]
  },
  {
   "cell_type": "code",
   "execution_count": 25,
   "metadata": {
    "ExecuteTime": {
     "end_time": "2020-03-11T17:54:23.524657Z",
     "start_time": "2020-03-11T17:54:23.520460Z"
    }
   },
   "outputs": [
    {
     "data": {
      "text/plain": [
       "array([[0.16535535, 0.27106593, 0.56357872],\n",
       "       [0.00147938, 0.40399553, 0.59452509],\n",
       "       [0.04527624, 0.09133516, 0.8633886 ],\n",
       "       ...,\n",
       "       [0.01491125, 0.44740277, 0.53768598],\n",
       "       [0.42620776, 0.31951464, 0.2542776 ],\n",
       "       [0.02039165, 0.76238922, 0.21721913]])"
      ]
     },
     "execution_count": 25,
     "metadata": {},
     "output_type": "execute_result"
    }
   ],
   "source": [
    "probas"
   ]
  },
  {
   "cell_type": "code",
   "execution_count": 26,
   "metadata": {
    "ExecuteTime": {
     "end_time": "2020-03-11T17:54:23.739479Z",
     "start_time": "2020-03-11T17:54:23.526491Z"
    }
   },
   "outputs": [
    {
     "data": {
      "image/png": "[encoded data removed]",
      "text/plain": [
       "<Figure size 432x288 with 1 Axes>"
      ]
     },
     "metadata": {
      "needs_background": "light"
     },
     "output_type": "display_data"
    }
   ],
   "source": [
    "plt.hist(probas);"
   ]
  },
  {
   "cell_type": "code",
   "execution_count": 61,
   "metadata": {
    "ExecuteTime": {
     "end_time": "2020-03-11T19:30:34.928715Z",
     "start_time": "2020-03-11T19:30:34.664297Z"
    }
   },
   "outputs": [
    {
     "data": {
      "image/png": "[encoded data removed]",
      "text/plain": [
       "<Figure size 576x576 with 1 Axes>"
      ]
     },
     "metadata": {
      "needs_background": "light"
     },
     "output_type": "display_data"
    }
   ],
   "source": [
    "plt.figure(figsize= (8, 8))\n",
    "plt.title(\"Three Category Prediction: Predictions vs Actual\")\n",
    "plt.xticks(rotation = 25, horizontalalignment=\"right\") \n",
    "sns.countplot(y_test, color = \"turquoise\", alpha = .75, label = \"Actual\", orient=\"v\")\n",
    "sns.countplot(preds, color = \"blue\", alpha = .5, label = \"Predicted\", orient = \"v\")\n",
    "plt.legend();"
   ]
  },
  {
   "cell_type": "markdown",
   "metadata": {},
   "source": [
    "# Random Forest Model"
   ]
  },
  {
   "cell_type": "code",
   "execution_count": 29,
   "metadata": {
    "ExecuteTime": {
     "end_time": "2020-03-11T19:01:31.979892Z",
     "start_time": "2020-03-11T19:01:25.150933Z"
    }
   },
   "outputs": [
    {
     "name": "stderr",
     "output_type": "stream",
     "text": [
      "/opt/anaconda3/lib/python3.7/site-packages/sklearn/ensemble/forest.py:245: FutureWarning: The default value of n_estimators will change from 10 in version 0.20 to 100 in 0.22.\n",
      "  \"10 in version 0.20 to 100 in 0.22.\", FutureWarning)\n"
     ]
    },
    {
     "name": "stdout",
     "output_type": "stream",
     "text": [
      "0.9954115254237288\n"
     ]
    },
    {
     "data": {
      "text/plain": [
       "0.8406755555555555"
      ]
     },
     "execution_count": 29,
     "metadata": {},
     "output_type": "execute_result"
    }
   ],
   "source": [
    "rf = RandomForestClassifier()\n",
    "\n",
    "rf.fit(x_train, y_train)\n",
    "print(rf.score(x_train, y_train))\n",
    "\n",
    "rf.score(x_test, y_test)"
   ]
  },
  {
   "cell_type": "code",
   "execution_count": 30,
   "metadata": {
    "ExecuteTime": {
     "end_time": "2020-03-11T19:01:32.946102Z",
     "start_time": "2020-03-11T19:01:31.981927Z"
    }
   },
   "outputs": [
    {
     "name": "stdout",
     "output_type": "stream",
     "text": [
      "('                                    precision    recall  f1-score   support\\n'\n",
      " '\\n'\n",
      " '                               Law       0.40      0.33      0.36       960\\n'\n",
      " '                     Progress made       0.51      0.52      0.52      3985\\n'\n",
      " 'Referred to committee/subcommittee       0.91      0.92      0.92     23180\\n'\n",
      " '\\n'\n",
      " '                          accuracy                           0.84     28125\\n'\n",
      " '                         macro avg       0.61      0.59      0.60     28125\\n'\n",
      " '                      weighted avg       0.84      0.84      0.84     '\n",
      " '28125\\n')\n"
     ]
    }
   ],
   "source": [
    "preds = rf.predict(x_test)\n",
    "\n",
    "clm = classification_report(y_test, preds)\n",
    "pp.pprint(clm)"
   ]
  },
  {
   "cell_type": "code",
   "execution_count": 31,
   "metadata": {
    "ExecuteTime": {
     "end_time": "2020-03-11T19:01:33.053636Z",
     "start_time": "2020-03-11T19:01:32.949729Z"
    }
   },
   "outputs": [
    {
     "data": {
      "text/plain": [
       "array([[  313,   311,   336],\n",
       "       [  228,  2085,  1672],\n",
       "       [  236,  1698, 21246]])"
      ]
     },
     "execution_count": 31,
     "metadata": {},
     "output_type": "execute_result"
    }
   ],
   "source": [
    "cm = confusion_matrix(y_test, preds)\n",
    "cm"
   ]
  },
  {
   "cell_type": "code",
   "execution_count": 32,
   "metadata": {
    "ExecuteTime": {
     "end_time": "2020-03-11T19:01:33.232930Z",
     "start_time": "2020-03-11T19:01:33.056233Z"
    }
   },
   "outputs": [
    {
     "data": {
      "image/png": "[encoded data removed]",
      "text/plain": [
       "<Figure size 432x288 with 1 Axes>"
      ]
     },
     "metadata": {
      "needs_background": "light"
     },
     "output_type": "display_data"
    }
   ],
   "source": [
    "plt.xticks(rotation = 45)\n",
    "sns.countplot(y_test, color = \"crimson\", alpha = .5)\n",
    "sns.countplot(preds, color = \"slateblue\", alpha = .5);\n",
    "#the model is overpredicting referred to committee. Especially bad at referred to full chamber"
   ]
  },
  {
   "cell_type": "code",
   "execution_count": null,
   "metadata": {},
   "outputs": [],
   "source": []
  }
 ],
 "metadata": {
  "kernelspec": {
   "display_name": "Python 3",
   "language": "python",
   "name": "python3"
  }
 },
 "nbformat": 4,
 "nbformat_minor": 2
}
