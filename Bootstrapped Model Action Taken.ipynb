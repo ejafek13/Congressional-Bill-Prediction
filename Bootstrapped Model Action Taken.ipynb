{
 "cells": [
  {
   "cell_type": "code",
   "execution_count": 77,
   "metadata": {
    "ExecuteTime": {
     "end_time": "2020-03-11T19:35:41.165147Z",
     "start_time": "2020-03-11T19:35:41.160568Z"
    }
   },
   "outputs": [],
   "source": [
    "import pandas as pd \n",
    "import numpy as np \n",
    "from sklearn.utils import resample\n",
    "from sklearn.model_selection import train_test_split, GridSearchCV\n",
    "from sklearn.preprocessing import MinMaxScaler\n",
    "\n",
    "from sklearn.ensemble import RandomForestClassifier, AdaBoostClassifier\n",
    "from sklearn.linear_model import LogisticRegression, Lasso\n",
    "from sklearn.feature_selection import RFECV\n",
    "\n",
    "import tqdm\n",
    "import pprint as pp\n",
    "\n",
    "from sklearn.metrics import confusion_matrix, classification_report\n",
    "\n",
    "import matplotlib.pyplot as plt\n",
    "import seaborn as sns"
   ]
  },
  {
   "cell_type": "code",
   "execution_count": 78,
   "metadata": {
    "ExecuteTime": {
     "end_time": "2020-03-11T19:35:43.327206Z",
     "start_time": "2020-03-11T19:35:41.167599Z"
    }
   },
   "outputs": [],
   "source": [
    "df = pd.read_csv(\"./Data/final_dummies_add.csv\")"
   ]
  },
  {
   "cell_type": "code",
   "execution_count": 79,
   "metadata": {
    "ExecuteTime": {
     "end_time": "2020-03-11T19:35:43.383900Z",
     "start_time": "2020-03-11T19:35:43.329990Z"
    }
   },
   "outputs": [],
   "source": [
    "df.final_status_coms = df.final_status_coms.apply(lambda x:1 if x == \"Action taken on bill\" else 0)"
   ]
  },
  {
   "cell_type": "code",
   "execution_count": 80,
   "metadata": {
    "ExecuteTime": {
     "end_time": "2020-03-11T19:35:43.392301Z",
     "start_time": "2020-03-11T19:35:43.386965Z"
    }
   },
   "outputs": [
    {
     "data": {
      "text/plain": [
       "Index(['bill_id', 'title', 'sponsor_title', 'sponsor_name', 'sponsor_state',\n",
       "       'introduced_date', 'cosponsors', 'cosponsors_by_party', 'committees',\n",
       "       'summary', 'latest_major_action_date', 'congress', 'final_status_5',\n",
       "       'final_status_3', 'final_status_coms', 'division', 'new_sponsor_match',\n",
       "       'sponsor_party_rank', 'sponsor_senior_party_member', 'coms_match'],\n",
       "      dtype='object')"
      ]
     },
     "execution_count": 80,
     "metadata": {},
     "output_type": "execute_result"
    }
   ],
   "source": [
    "df.columns[:20]"
   ]
  },
  {
   "cell_type": "code",
   "execution_count": 81,
   "metadata": {
    "ExecuteTime": {
     "end_time": "2020-03-11T19:35:43.559329Z",
     "start_time": "2020-03-11T19:35:43.394921Z"
    }
   },
   "outputs": [],
   "source": [
    "x = df.select_dtypes([int, float, bool]).drop([\"final_status_coms\", \"law_Law\"], axis = 1)\n",
    "y = df.final_status_coms"
   ]
  },
  {
   "cell_type": "markdown",
   "metadata": {},
   "source": [
    "# Normalize Data"
   ]
  },
  {
   "cell_type": "code",
   "execution_count": 82,
   "metadata": {
    "ExecuteTime": {
     "end_time": "2020-03-11T19:35:44.917506Z",
     "start_time": "2020-03-11T19:35:43.561998Z"
    }
   },
   "outputs": [],
   "source": [
    "scaler = MinMaxScaler()\n",
    "\n",
    "x = scaler.fit_transform(x)"
   ]
  },
  {
   "cell_type": "code",
   "execution_count": 83,
   "metadata": {
    "ExecuteTime": {
     "end_time": "2020-03-11T19:35:45.039213Z",
     "start_time": "2020-03-11T19:35:44.919394Z"
    }
   },
   "outputs": [],
   "source": [
    "x = pd.DataFrame(x, columns = (df.select_dtypes([int, float, bool]).drop([\"final_status_coms\", \"law_Law\"], axis = 1).columns))"
   ]
  },
  {
   "cell_type": "markdown",
   "metadata": {},
   "source": [
    "# Bootstrap samples to make classes more equal"
   ]
  },
  {
   "cell_type": "code",
   "execution_count": 84,
   "metadata": {
    "ExecuteTime": {
     "end_time": "2020-03-11T19:35:45.141623Z",
     "start_time": "2020-03-11T19:35:45.043054Z"
    }
   },
   "outputs": [],
   "source": [
    "x_train, x_test, y_train, y_test = train_test_split(x, y)"
   ]
  },
  {
   "cell_type": "code",
   "execution_count": 85,
   "metadata": {
    "ExecuteTime": {
     "end_time": "2020-03-11T19:35:45.234226Z",
     "start_time": "2020-03-11T19:35:45.146838Z"
    }
   },
   "outputs": [
    {
     "data": {
      "text/html": [
       "<div>\n",
       "<style scoped>\n",
       "    .dataframe tbody tr th:only-of-type {\n",
       "        vertical-align: middle;\n",
       "    }\n",
       "\n",
       "    .dataframe tbody tr th {\n",
       "        vertical-align: top;\n",
       "    }\n",
       "\n",
       "    .dataframe thead th {\n",
       "        text-align: right;\n",
       "    }\n",
       "</style>\n",
       "<table border=\"1\" class=\"dataframe\">\n",
       "  <thead>\n",
       "    <tr style=\"text-align: right;\">\n",
       "      <th></th>\n",
       "      <th>cosponsors</th>\n",
       "      <th>congress</th>\n",
       "      <th>sponsor_party_rank</th>\n",
       "      <th>sponsor_senior_party_member</th>\n",
       "      <th>coms_match</th>\n",
       "      <th>bipartisan</th>\n",
       "      <th>summary_length</th>\n",
       "      <th>sponsor_majority</th>\n",
       "      <th>united_congress</th>\n",
       "      <th>sponsor_pres_party_match</th>\n",
       "      <th>...</th>\n",
       "      <th>clean_committees_Rules and Administration</th>\n",
       "      <th>clean_committees_Science</th>\n",
       "      <th>clean_committees_Science and Technology</th>\n",
       "      <th>clean_committees_Science, Space, and Technology</th>\n",
       "      <th>clean_committees_Small Business</th>\n",
       "      <th>clean_committees_Small Business and Entrepreneurship</th>\n",
       "      <th>clean_committees_Standards of Official Conduct</th>\n",
       "      <th>clean_committees_Transportation and Infrastructure</th>\n",
       "      <th>clean_committees_Ways and Means</th>\n",
       "      <th>final_status_coms</th>\n",
       "    </tr>\n",
       "  </thead>\n",
       "  <tbody>\n",
       "    <tr>\n",
       "      <th>64588</th>\n",
       "      <td>0.000000</td>\n",
       "      <td>0.7</td>\n",
       "      <td>0.027778</td>\n",
       "      <td>0.078125</td>\n",
       "      <td>0.0</td>\n",
       "      <td>0.0</td>\n",
       "      <td>0.000242</td>\n",
       "      <td>0.0</td>\n",
       "      <td>0.0</td>\n",
       "      <td>1.0</td>\n",
       "      <td>...</td>\n",
       "      <td>0.0</td>\n",
       "      <td>0.0</td>\n",
       "      <td>0.0</td>\n",
       "      <td>0.0</td>\n",
       "      <td>0.0</td>\n",
       "      <td>0.0</td>\n",
       "      <td>0.0</td>\n",
       "      <td>0.0</td>\n",
       "      <td>0.0</td>\n",
       "      <td>0</td>\n",
       "    </tr>\n",
       "    <tr>\n",
       "      <th>62395</th>\n",
       "      <td>0.000000</td>\n",
       "      <td>0.7</td>\n",
       "      <td>0.055556</td>\n",
       "      <td>0.046875</td>\n",
       "      <td>0.0</td>\n",
       "      <td>0.0</td>\n",
       "      <td>0.000357</td>\n",
       "      <td>0.0</td>\n",
       "      <td>0.0</td>\n",
       "      <td>1.0</td>\n",
       "      <td>...</td>\n",
       "      <td>0.0</td>\n",
       "      <td>0.0</td>\n",
       "      <td>0.0</td>\n",
       "      <td>0.0</td>\n",
       "      <td>0.0</td>\n",
       "      <td>0.0</td>\n",
       "      <td>0.0</td>\n",
       "      <td>0.0</td>\n",
       "      <td>0.0</td>\n",
       "      <td>0</td>\n",
       "    </tr>\n",
       "    <tr>\n",
       "      <th>5617</th>\n",
       "      <td>0.094907</td>\n",
       "      <td>1.0</td>\n",
       "      <td>0.388889</td>\n",
       "      <td>0.000000</td>\n",
       "      <td>0.0</td>\n",
       "      <td>1.0</td>\n",
       "      <td>0.003533</td>\n",
       "      <td>0.0</td>\n",
       "      <td>1.0</td>\n",
       "      <td>0.0</td>\n",
       "      <td>...</td>\n",
       "      <td>0.0</td>\n",
       "      <td>0.0</td>\n",
       "      <td>0.0</td>\n",
       "      <td>0.0</td>\n",
       "      <td>0.0</td>\n",
       "      <td>0.0</td>\n",
       "      <td>0.0</td>\n",
       "      <td>0.0</td>\n",
       "      <td>0.0</td>\n",
       "      <td>0</td>\n",
       "    </tr>\n",
       "    <tr>\n",
       "      <th>72149</th>\n",
       "      <td>0.018519</td>\n",
       "      <td>0.3</td>\n",
       "      <td>0.027778</td>\n",
       "      <td>0.000000</td>\n",
       "      <td>1.0</td>\n",
       "      <td>1.0</td>\n",
       "      <td>0.000804</td>\n",
       "      <td>1.0</td>\n",
       "      <td>1.0</td>\n",
       "      <td>1.0</td>\n",
       "      <td>...</td>\n",
       "      <td>0.0</td>\n",
       "      <td>0.0</td>\n",
       "      <td>0.0</td>\n",
       "      <td>0.0</td>\n",
       "      <td>0.0</td>\n",
       "      <td>0.0</td>\n",
       "      <td>0.0</td>\n",
       "      <td>0.0</td>\n",
       "      <td>1.0</td>\n",
       "      <td>0</td>\n",
       "    </tr>\n",
       "    <tr>\n",
       "      <th>23704</th>\n",
       "      <td>0.011574</td>\n",
       "      <td>0.4</td>\n",
       "      <td>0.388889</td>\n",
       "      <td>0.000000</td>\n",
       "      <td>0.0</td>\n",
       "      <td>0.0</td>\n",
       "      <td>0.001782</td>\n",
       "      <td>0.0</td>\n",
       "      <td>1.0</td>\n",
       "      <td>0.0</td>\n",
       "      <td>...</td>\n",
       "      <td>0.0</td>\n",
       "      <td>0.0</td>\n",
       "      <td>0.0</td>\n",
       "      <td>0.0</td>\n",
       "      <td>0.0</td>\n",
       "      <td>0.0</td>\n",
       "      <td>0.0</td>\n",
       "      <td>0.0</td>\n",
       "      <td>0.0</td>\n",
       "      <td>0</td>\n",
       "    </tr>\n",
       "    <tr>\n",
       "      <th>...</th>\n",
       "      <td>...</td>\n",
       "      <td>...</td>\n",
       "      <td>...</td>\n",
       "      <td>...</td>\n",
       "      <td>...</td>\n",
       "      <td>...</td>\n",
       "      <td>...</td>\n",
       "      <td>...</td>\n",
       "      <td>...</td>\n",
       "      <td>...</td>\n",
       "      <td>...</td>\n",
       "      <td>...</td>\n",
       "      <td>...</td>\n",
       "      <td>...</td>\n",
       "      <td>...</td>\n",
       "      <td>...</td>\n",
       "      <td>...</td>\n",
       "      <td>...</td>\n",
       "      <td>...</td>\n",
       "      <td>...</td>\n",
       "      <td>...</td>\n",
       "    </tr>\n",
       "    <tr>\n",
       "      <th>102525</th>\n",
       "      <td>0.027778</td>\n",
       "      <td>0.6</td>\n",
       "      <td>0.416667</td>\n",
       "      <td>0.000000</td>\n",
       "      <td>0.0</td>\n",
       "      <td>1.0</td>\n",
       "      <td>0.000334</td>\n",
       "      <td>1.0</td>\n",
       "      <td>1.0</td>\n",
       "      <td>0.0</td>\n",
       "      <td>...</td>\n",
       "      <td>0.0</td>\n",
       "      <td>0.0</td>\n",
       "      <td>0.0</td>\n",
       "      <td>0.0</td>\n",
       "      <td>0.0</td>\n",
       "      <td>0.0</td>\n",
       "      <td>0.0</td>\n",
       "      <td>0.0</td>\n",
       "      <td>0.0</td>\n",
       "      <td>1</td>\n",
       "    </tr>\n",
       "    <tr>\n",
       "      <th>53712</th>\n",
       "      <td>0.006944</td>\n",
       "      <td>0.8</td>\n",
       "      <td>0.583333</td>\n",
       "      <td>0.000000</td>\n",
       "      <td>0.0</td>\n",
       "      <td>0.0</td>\n",
       "      <td>0.003610</td>\n",
       "      <td>0.0</td>\n",
       "      <td>0.0</td>\n",
       "      <td>1.0</td>\n",
       "      <td>...</td>\n",
       "      <td>0.0</td>\n",
       "      <td>0.0</td>\n",
       "      <td>0.0</td>\n",
       "      <td>0.0</td>\n",
       "      <td>0.0</td>\n",
       "      <td>0.0</td>\n",
       "      <td>0.0</td>\n",
       "      <td>0.0</td>\n",
       "      <td>0.0</td>\n",
       "      <td>0</td>\n",
       "    </tr>\n",
       "    <tr>\n",
       "      <th>34575</th>\n",
       "      <td>0.245370</td>\n",
       "      <td>0.9</td>\n",
       "      <td>0.444444</td>\n",
       "      <td>0.000000</td>\n",
       "      <td>1.0</td>\n",
       "      <td>1.0</td>\n",
       "      <td>0.001424</td>\n",
       "      <td>1.0</td>\n",
       "      <td>1.0</td>\n",
       "      <td>0.0</td>\n",
       "      <td>...</td>\n",
       "      <td>0.0</td>\n",
       "      <td>0.0</td>\n",
       "      <td>0.0</td>\n",
       "      <td>0.0</td>\n",
       "      <td>0.0</td>\n",
       "      <td>0.0</td>\n",
       "      <td>0.0</td>\n",
       "      <td>0.0</td>\n",
       "      <td>0.0</td>\n",
       "      <td>0</td>\n",
       "    </tr>\n",
       "    <tr>\n",
       "      <th>111764</th>\n",
       "      <td>0.023148</td>\n",
       "      <td>0.1</td>\n",
       "      <td>0.111111</td>\n",
       "      <td>0.000000</td>\n",
       "      <td>0.0</td>\n",
       "      <td>1.0</td>\n",
       "      <td>0.000000</td>\n",
       "      <td>1.0</td>\n",
       "      <td>1.0</td>\n",
       "      <td>0.0</td>\n",
       "      <td>...</td>\n",
       "      <td>0.0</td>\n",
       "      <td>0.0</td>\n",
       "      <td>0.0</td>\n",
       "      <td>0.0</td>\n",
       "      <td>0.0</td>\n",
       "      <td>0.0</td>\n",
       "      <td>0.0</td>\n",
       "      <td>0.0</td>\n",
       "      <td>0.0</td>\n",
       "      <td>0</td>\n",
       "    </tr>\n",
       "    <tr>\n",
       "      <th>38172</th>\n",
       "      <td>0.006944</td>\n",
       "      <td>0.9</td>\n",
       "      <td>0.194444</td>\n",
       "      <td>0.000000</td>\n",
       "      <td>0.0</td>\n",
       "      <td>1.0</td>\n",
       "      <td>0.001690</td>\n",
       "      <td>1.0</td>\n",
       "      <td>1.0</td>\n",
       "      <td>0.0</td>\n",
       "      <td>...</td>\n",
       "      <td>0.0</td>\n",
       "      <td>0.0</td>\n",
       "      <td>0.0</td>\n",
       "      <td>0.0</td>\n",
       "      <td>0.0</td>\n",
       "      <td>0.0</td>\n",
       "      <td>0.0</td>\n",
       "      <td>0.0</td>\n",
       "      <td>0.0</td>\n",
       "      <td>0</td>\n",
       "    </tr>\n",
       "  </tbody>\n",
       "</table>\n",
       "<p>84375 rows × 105 columns</p>\n",
       "</div>"
      ],
      "text/plain": [
       "        cosponsors  congress  sponsor_party_rank  sponsor_senior_party_member  \\\n",
       "64588     0.000000       0.7            0.027778                     0.078125   \n",
       "62395     0.000000       0.7            0.055556                     0.046875   \n",
       "5617      0.094907       1.0            0.388889                     0.000000   \n",
       "72149     0.018519       0.3            0.027778                     0.000000   \n",
       "23704     0.011574       0.4            0.388889                     0.000000   \n",
       "...            ...       ...                 ...                          ...   \n",
       "102525    0.027778       0.6            0.416667                     0.000000   \n",
       "53712     0.006944       0.8            0.583333                     0.000000   \n",
       "34575     0.245370       0.9            0.444444                     0.000000   \n",
       "111764    0.023148       0.1            0.111111                     0.000000   \n",
       "38172     0.006944       0.9            0.194444                     0.000000   \n",
       "\n",
       "        coms_match  bipartisan  summary_length  sponsor_majority  \\\n",
       "64588          0.0         0.0        0.000242               0.0   \n",
       "62395          0.0         0.0        0.000357               0.0   \n",
       "5617           0.0         1.0        0.003533               0.0   \n",
       "72149          1.0         1.0        0.000804               1.0   \n",
       "23704          0.0         0.0        0.001782               0.0   \n",
       "...            ...         ...             ...               ...   \n",
       "102525         0.0         1.0        0.000334               1.0   \n",
       "53712          0.0         0.0        0.003610               0.0   \n",
       "34575          1.0         1.0        0.001424               1.0   \n",
       "111764         0.0         1.0        0.000000               1.0   \n",
       "38172          0.0         1.0        0.001690               1.0   \n",
       "\n",
       "        united_congress  sponsor_pres_party_match  ...  \\\n",
       "64588               0.0                       1.0  ...   \n",
       "62395               0.0                       1.0  ...   \n",
       "5617                1.0                       0.0  ...   \n",
       "72149               1.0                       1.0  ...   \n",
       "23704               1.0                       0.0  ...   \n",
       "...                 ...                       ...  ...   \n",
       "102525              1.0                       0.0  ...   \n",
       "53712               0.0                       1.0  ...   \n",
       "34575               1.0                       0.0  ...   \n",
       "111764              1.0                       0.0  ...   \n",
       "38172               1.0                       0.0  ...   \n",
       "\n",
       "        clean_committees_Rules and Administration  clean_committees_Science  \\\n",
       "64588                                         0.0                       0.0   \n",
       "62395                                         0.0                       0.0   \n",
       "5617                                          0.0                       0.0   \n",
       "72149                                         0.0                       0.0   \n",
       "23704                                         0.0                       0.0   \n",
       "...                                           ...                       ...   \n",
       "102525                                        0.0                       0.0   \n",
       "53712                                         0.0                       0.0   \n",
       "34575                                         0.0                       0.0   \n",
       "111764                                        0.0                       0.0   \n",
       "38172                                         0.0                       0.0   \n",
       "\n",
       "        clean_committees_Science and Technology  \\\n",
       "64588                                       0.0   \n",
       "62395                                       0.0   \n",
       "5617                                        0.0   \n",
       "72149                                       0.0   \n",
       "23704                                       0.0   \n",
       "...                                         ...   \n",
       "102525                                      0.0   \n",
       "53712                                       0.0   \n",
       "34575                                       0.0   \n",
       "111764                                      0.0   \n",
       "38172                                       0.0   \n",
       "\n",
       "        clean_committees_Science, Space, and Technology  \\\n",
       "64588                                               0.0   \n",
       "62395                                               0.0   \n",
       "5617                                                0.0   \n",
       "72149                                               0.0   \n",
       "23704                                               0.0   \n",
       "...                                                 ...   \n",
       "102525                                              0.0   \n",
       "53712                                               0.0   \n",
       "34575                                               0.0   \n",
       "111764                                              0.0   \n",
       "38172                                               0.0   \n",
       "\n",
       "        clean_committees_Small Business  \\\n",
       "64588                               0.0   \n",
       "62395                               0.0   \n",
       "5617                                0.0   \n",
       "72149                               0.0   \n",
       "23704                               0.0   \n",
       "...                                 ...   \n",
       "102525                              0.0   \n",
       "53712                               0.0   \n",
       "34575                               0.0   \n",
       "111764                              0.0   \n",
       "38172                               0.0   \n",
       "\n",
       "        clean_committees_Small Business and Entrepreneurship  \\\n",
       "64588                                                 0.0      \n",
       "62395                                                 0.0      \n",
       "5617                                                  0.0      \n",
       "72149                                                 0.0      \n",
       "23704                                                 0.0      \n",
       "...                                                   ...      \n",
       "102525                                                0.0      \n",
       "53712                                                 0.0      \n",
       "34575                                                 0.0      \n",
       "111764                                                0.0      \n",
       "38172                                                 0.0      \n",
       "\n",
       "        clean_committees_Standards of Official Conduct  \\\n",
       "64588                                              0.0   \n",
       "62395                                              0.0   \n",
       "5617                                               0.0   \n",
       "72149                                              0.0   \n",
       "23704                                              0.0   \n",
       "...                                                ...   \n",
       "102525                                             0.0   \n",
       "53712                                              0.0   \n",
       "34575                                              0.0   \n",
       "111764                                             0.0   \n",
       "38172                                              0.0   \n",
       "\n",
       "        clean_committees_Transportation and Infrastructure  \\\n",
       "64588                                                 0.0    \n",
       "62395                                                 0.0    \n",
       "5617                                                  0.0    \n",
       "72149                                                 0.0    \n",
       "23704                                                 0.0    \n",
       "...                                                   ...    \n",
       "102525                                                0.0    \n",
       "53712                                                 0.0    \n",
       "34575                                                 0.0    \n",
       "111764                                                0.0    \n",
       "38172                                                 0.0    \n",
       "\n",
       "        clean_committees_Ways and Means  final_status_coms  \n",
       "64588                               0.0                  0  \n",
       "62395                               0.0                  0  \n",
       "5617                                0.0                  0  \n",
       "72149                               1.0                  0  \n",
       "23704                               0.0                  0  \n",
       "...                                 ...                ...  \n",
       "102525                              0.0                  1  \n",
       "53712                               0.0                  0  \n",
       "34575                               0.0                  0  \n",
       "111764                              0.0                  0  \n",
       "38172                               0.0                  0  \n",
       "\n",
       "[84375 rows x 105 columns]"
      ]
     },
     "execution_count": 85,
     "metadata": {},
     "output_type": "execute_result"
    }
   ],
   "source": [
    "train = x_train.join(y_train)\n",
    "train"
   ]
  },
  {
   "cell_type": "code",
   "execution_count": 86,
   "metadata": {
    "ExecuteTime": {
     "end_time": "2020-03-11T19:35:45.242894Z",
     "start_time": "2020-03-11T19:35:45.236108Z"
    }
   },
   "outputs": [
    {
     "data": {
      "text/plain": [
       "0    0.823988\n",
       "1    0.176012\n",
       "Name: final_status_coms, dtype: float64"
      ]
     },
     "execution_count": 86,
     "metadata": {},
     "output_type": "execute_result"
    }
   ],
   "source": [
    "train.final_status_coms.value_counts(normalize = True)"
   ]
  },
  {
   "cell_type": "code",
   "execution_count": 87,
   "metadata": {
    "ExecuteTime": {
     "end_time": "2020-03-11T19:35:45.289174Z",
     "start_time": "2020-03-11T19:35:45.245181Z"
    }
   },
   "outputs": [],
   "source": [
    "sample = resample(train[train['final_status_coms'] == 1], replace = True, n_samples = 55_000, random_state = 13)"
   ]
  },
  {
   "cell_type": "code",
   "execution_count": 88,
   "metadata": {
    "ExecuteTime": {
     "end_time": "2020-03-11T19:35:45.371750Z",
     "start_time": "2020-03-11T19:35:45.291299Z"
    }
   },
   "outputs": [],
   "source": [
    "train_samples = pd.concat([train, sample])"
   ]
  },
  {
   "cell_type": "code",
   "execution_count": 89,
   "metadata": {
    "ExecuteTime": {
     "end_time": "2020-03-11T19:35:45.384563Z",
     "start_time": "2020-03-11T19:35:45.373876Z"
    }
   },
   "outputs": [
    {
     "data": {
      "text/plain": [
       "1    0.501173\n",
       "0    0.498827\n",
       "Name: final_status_coms, dtype: float64"
      ]
     },
     "execution_count": 89,
     "metadata": {},
     "output_type": "execute_result"
    }
   ],
   "source": [
    "train_samples['final_status_coms'].value_counts(normalize = True)"
   ]
  },
  {
   "cell_type": "code",
   "execution_count": 90,
   "metadata": {
    "ExecuteTime": {
     "end_time": "2020-03-11T19:35:45.460089Z",
     "start_time": "2020-03-11T19:35:45.387729Z"
    }
   },
   "outputs": [
    {
     "data": {
      "text/html": [
       "<div>\n",
       "<style scoped>\n",
       "    .dataframe tbody tr th:only-of-type {\n",
       "        vertical-align: middle;\n",
       "    }\n",
       "\n",
       "    .dataframe tbody tr th {\n",
       "        vertical-align: top;\n",
       "    }\n",
       "\n",
       "    .dataframe thead th {\n",
       "        text-align: right;\n",
       "    }\n",
       "</style>\n",
       "<table border=\"1\" class=\"dataframe\">\n",
       "  <thead>\n",
       "    <tr style=\"text-align: right;\">\n",
       "      <th></th>\n",
       "      <th>cosponsors</th>\n",
       "      <th>congress</th>\n",
       "      <th>sponsor_party_rank</th>\n",
       "      <th>sponsor_senior_party_member</th>\n",
       "      <th>coms_match</th>\n",
       "      <th>bipartisan</th>\n",
       "      <th>summary_length</th>\n",
       "      <th>sponsor_majority</th>\n",
       "      <th>united_congress</th>\n",
       "      <th>sponsor_pres_party_match</th>\n",
       "      <th>...</th>\n",
       "      <th>clean_committees_Rules and Administration</th>\n",
       "      <th>clean_committees_Science</th>\n",
       "      <th>clean_committees_Science and Technology</th>\n",
       "      <th>clean_committees_Science, Space, and Technology</th>\n",
       "      <th>clean_committees_Small Business</th>\n",
       "      <th>clean_committees_Small Business and Entrepreneurship</th>\n",
       "      <th>clean_committees_Standards of Official Conduct</th>\n",
       "      <th>clean_committees_Transportation and Infrastructure</th>\n",
       "      <th>clean_committees_Ways and Means</th>\n",
       "      <th>final_status_coms</th>\n",
       "    </tr>\n",
       "  </thead>\n",
       "  <tbody>\n",
       "    <tr>\n",
       "      <th>64588</th>\n",
       "      <td>0.000000</td>\n",
       "      <td>0.7</td>\n",
       "      <td>0.027778</td>\n",
       "      <td>0.078125</td>\n",
       "      <td>0.0</td>\n",
       "      <td>0.0</td>\n",
       "      <td>0.000242</td>\n",
       "      <td>0.0</td>\n",
       "      <td>0.0</td>\n",
       "      <td>1.0</td>\n",
       "      <td>...</td>\n",
       "      <td>0.0</td>\n",
       "      <td>0.0</td>\n",
       "      <td>0.0</td>\n",
       "      <td>0.0</td>\n",
       "      <td>0.0</td>\n",
       "      <td>0.0</td>\n",
       "      <td>0.0</td>\n",
       "      <td>0.0</td>\n",
       "      <td>0.0</td>\n",
       "      <td>0</td>\n",
       "    </tr>\n",
       "    <tr>\n",
       "      <th>62395</th>\n",
       "      <td>0.000000</td>\n",
       "      <td>0.7</td>\n",
       "      <td>0.055556</td>\n",
       "      <td>0.046875</td>\n",
       "      <td>0.0</td>\n",
       "      <td>0.0</td>\n",
       "      <td>0.000357</td>\n",
       "      <td>0.0</td>\n",
       "      <td>0.0</td>\n",
       "      <td>1.0</td>\n",
       "      <td>...</td>\n",
       "      <td>0.0</td>\n",
       "      <td>0.0</td>\n",
       "      <td>0.0</td>\n",
       "      <td>0.0</td>\n",
       "      <td>0.0</td>\n",
       "      <td>0.0</td>\n",
       "      <td>0.0</td>\n",
       "      <td>0.0</td>\n",
       "      <td>0.0</td>\n",
       "      <td>0</td>\n",
       "    </tr>\n",
       "    <tr>\n",
       "      <th>5617</th>\n",
       "      <td>0.094907</td>\n",
       "      <td>1.0</td>\n",
       "      <td>0.388889</td>\n",
       "      <td>0.000000</td>\n",
       "      <td>0.0</td>\n",
       "      <td>1.0</td>\n",
       "      <td>0.003533</td>\n",
       "      <td>0.0</td>\n",
       "      <td>1.0</td>\n",
       "      <td>0.0</td>\n",
       "      <td>...</td>\n",
       "      <td>0.0</td>\n",
       "      <td>0.0</td>\n",
       "      <td>0.0</td>\n",
       "      <td>0.0</td>\n",
       "      <td>0.0</td>\n",
       "      <td>0.0</td>\n",
       "      <td>0.0</td>\n",
       "      <td>0.0</td>\n",
       "      <td>0.0</td>\n",
       "      <td>0</td>\n",
       "    </tr>\n",
       "    <tr>\n",
       "      <th>72149</th>\n",
       "      <td>0.018519</td>\n",
       "      <td>0.3</td>\n",
       "      <td>0.027778</td>\n",
       "      <td>0.000000</td>\n",
       "      <td>1.0</td>\n",
       "      <td>1.0</td>\n",
       "      <td>0.000804</td>\n",
       "      <td>1.0</td>\n",
       "      <td>1.0</td>\n",
       "      <td>1.0</td>\n",
       "      <td>...</td>\n",
       "      <td>0.0</td>\n",
       "      <td>0.0</td>\n",
       "      <td>0.0</td>\n",
       "      <td>0.0</td>\n",
       "      <td>0.0</td>\n",
       "      <td>0.0</td>\n",
       "      <td>0.0</td>\n",
       "      <td>0.0</td>\n",
       "      <td>1.0</td>\n",
       "      <td>0</td>\n",
       "    </tr>\n",
       "    <tr>\n",
       "      <th>23704</th>\n",
       "      <td>0.011574</td>\n",
       "      <td>0.4</td>\n",
       "      <td>0.388889</td>\n",
       "      <td>0.000000</td>\n",
       "      <td>0.0</td>\n",
       "      <td>0.0</td>\n",
       "      <td>0.001782</td>\n",
       "      <td>0.0</td>\n",
       "      <td>1.0</td>\n",
       "      <td>0.0</td>\n",
       "      <td>...</td>\n",
       "      <td>0.0</td>\n",
       "      <td>0.0</td>\n",
       "      <td>0.0</td>\n",
       "      <td>0.0</td>\n",
       "      <td>0.0</td>\n",
       "      <td>0.0</td>\n",
       "      <td>0.0</td>\n",
       "      <td>0.0</td>\n",
       "      <td>0.0</td>\n",
       "      <td>0</td>\n",
       "    </tr>\n",
       "    <tr>\n",
       "      <th>...</th>\n",
       "      <td>...</td>\n",
       "      <td>...</td>\n",
       "      <td>...</td>\n",
       "      <td>...</td>\n",
       "      <td>...</td>\n",
       "      <td>...</td>\n",
       "      <td>...</td>\n",
       "      <td>...</td>\n",
       "      <td>...</td>\n",
       "      <td>...</td>\n",
       "      <td>...</td>\n",
       "      <td>...</td>\n",
       "      <td>...</td>\n",
       "      <td>...</td>\n",
       "      <td>...</td>\n",
       "      <td>...</td>\n",
       "      <td>...</td>\n",
       "      <td>...</td>\n",
       "      <td>...</td>\n",
       "      <td>...</td>\n",
       "      <td>...</td>\n",
       "    </tr>\n",
       "    <tr>\n",
       "      <th>21833</th>\n",
       "      <td>0.087963</td>\n",
       "      <td>0.4</td>\n",
       "      <td>0.166667</td>\n",
       "      <td>0.000000</td>\n",
       "      <td>0.0</td>\n",
       "      <td>1.0</td>\n",
       "      <td>0.000571</td>\n",
       "      <td>0.0</td>\n",
       "      <td>1.0</td>\n",
       "      <td>0.0</td>\n",
       "      <td>...</td>\n",
       "      <td>0.0</td>\n",
       "      <td>0.0</td>\n",
       "      <td>0.0</td>\n",
       "      <td>0.0</td>\n",
       "      <td>0.0</td>\n",
       "      <td>0.0</td>\n",
       "      <td>0.0</td>\n",
       "      <td>0.0</td>\n",
       "      <td>0.0</td>\n",
       "      <td>1</td>\n",
       "    </tr>\n",
       "    <tr>\n",
       "      <th>65833</th>\n",
       "      <td>0.002315</td>\n",
       "      <td>0.7</td>\n",
       "      <td>0.111111</td>\n",
       "      <td>0.000000</td>\n",
       "      <td>1.0</td>\n",
       "      <td>0.0</td>\n",
       "      <td>0.000618</td>\n",
       "      <td>1.0</td>\n",
       "      <td>0.0</td>\n",
       "      <td>0.0</td>\n",
       "      <td>...</td>\n",
       "      <td>0.0</td>\n",
       "      <td>0.0</td>\n",
       "      <td>0.0</td>\n",
       "      <td>0.0</td>\n",
       "      <td>0.0</td>\n",
       "      <td>0.0</td>\n",
       "      <td>0.0</td>\n",
       "      <td>0.0</td>\n",
       "      <td>0.0</td>\n",
       "      <td>1</td>\n",
       "    </tr>\n",
       "    <tr>\n",
       "      <th>23927</th>\n",
       "      <td>0.009259</td>\n",
       "      <td>0.4</td>\n",
       "      <td>0.277778</td>\n",
       "      <td>0.000000</td>\n",
       "      <td>1.0</td>\n",
       "      <td>1.0</td>\n",
       "      <td>0.003058</td>\n",
       "      <td>1.0</td>\n",
       "      <td>1.0</td>\n",
       "      <td>1.0</td>\n",
       "      <td>...</td>\n",
       "      <td>0.0</td>\n",
       "      <td>0.0</td>\n",
       "      <td>0.0</td>\n",
       "      <td>0.0</td>\n",
       "      <td>0.0</td>\n",
       "      <td>0.0</td>\n",
       "      <td>0.0</td>\n",
       "      <td>0.0</td>\n",
       "      <td>0.0</td>\n",
       "      <td>1</td>\n",
       "    </tr>\n",
       "    <tr>\n",
       "      <th>40257</th>\n",
       "      <td>0.000000</td>\n",
       "      <td>0.9</td>\n",
       "      <td>0.083333</td>\n",
       "      <td>0.031250</td>\n",
       "      <td>1.0</td>\n",
       "      <td>0.0</td>\n",
       "      <td>0.000696</td>\n",
       "      <td>1.0</td>\n",
       "      <td>1.0</td>\n",
       "      <td>0.0</td>\n",
       "      <td>...</td>\n",
       "      <td>0.0</td>\n",
       "      <td>0.0</td>\n",
       "      <td>0.0</td>\n",
       "      <td>0.0</td>\n",
       "      <td>0.0</td>\n",
       "      <td>0.0</td>\n",
       "      <td>0.0</td>\n",
       "      <td>0.0</td>\n",
       "      <td>0.0</td>\n",
       "      <td>1</td>\n",
       "    </tr>\n",
       "    <tr>\n",
       "      <th>86940</th>\n",
       "      <td>0.023148</td>\n",
       "      <td>0.5</td>\n",
       "      <td>0.055556</td>\n",
       "      <td>0.046875</td>\n",
       "      <td>1.0</td>\n",
       "      <td>1.0</td>\n",
       "      <td>0.004358</td>\n",
       "      <td>1.0</td>\n",
       "      <td>1.0</td>\n",
       "      <td>0.0</td>\n",
       "      <td>...</td>\n",
       "      <td>0.0</td>\n",
       "      <td>0.0</td>\n",
       "      <td>0.0</td>\n",
       "      <td>0.0</td>\n",
       "      <td>0.0</td>\n",
       "      <td>0.0</td>\n",
       "      <td>0.0</td>\n",
       "      <td>0.0</td>\n",
       "      <td>0.0</td>\n",
       "      <td>1</td>\n",
       "    </tr>\n",
       "  </tbody>\n",
       "</table>\n",
       "<p>139375 rows × 105 columns</p>\n",
       "</div>"
      ],
      "text/plain": [
       "       cosponsors  congress  sponsor_party_rank  sponsor_senior_party_member  \\\n",
       "64588    0.000000       0.7            0.027778                     0.078125   \n",
       "62395    0.000000       0.7            0.055556                     0.046875   \n",
       "5617     0.094907       1.0            0.388889                     0.000000   \n",
       "72149    0.018519       0.3            0.027778                     0.000000   \n",
       "23704    0.011574       0.4            0.388889                     0.000000   \n",
       "...           ...       ...                 ...                          ...   \n",
       "21833    0.087963       0.4            0.166667                     0.000000   \n",
       "65833    0.002315       0.7            0.111111                     0.000000   \n",
       "23927    0.009259       0.4            0.277778                     0.000000   \n",
       "40257    0.000000       0.9            0.083333                     0.031250   \n",
       "86940    0.023148       0.5            0.055556                     0.046875   \n",
       "\n",
       "       coms_match  bipartisan  summary_length  sponsor_majority  \\\n",
       "64588         0.0         0.0        0.000242               0.0   \n",
       "62395         0.0         0.0        0.000357               0.0   \n",
       "5617          0.0         1.0        0.003533               0.0   \n",
       "72149         1.0         1.0        0.000804               1.0   \n",
       "23704         0.0         0.0        0.001782               0.0   \n",
       "...           ...         ...             ...               ...   \n",
       "21833         0.0         1.0        0.000571               0.0   \n",
       "65833         1.0         0.0        0.000618               1.0   \n",
       "23927         1.0         1.0        0.003058               1.0   \n",
       "40257         1.0         0.0        0.000696               1.0   \n",
       "86940         1.0         1.0        0.004358               1.0   \n",
       "\n",
       "       united_congress  sponsor_pres_party_match  ...  \\\n",
       "64588              0.0                       1.0  ...   \n",
       "62395              0.0                       1.0  ...   \n",
       "5617               1.0                       0.0  ...   \n",
       "72149              1.0                       1.0  ...   \n",
       "23704              1.0                       0.0  ...   \n",
       "...                ...                       ...  ...   \n",
       "21833              1.0                       0.0  ...   \n",
       "65833              0.0                       0.0  ...   \n",
       "23927              1.0                       1.0  ...   \n",
       "40257              1.0                       0.0  ...   \n",
       "86940              1.0                       0.0  ...   \n",
       "\n",
       "       clean_committees_Rules and Administration  clean_committees_Science  \\\n",
       "64588                                        0.0                       0.0   \n",
       "62395                                        0.0                       0.0   \n",
       "5617                                         0.0                       0.0   \n",
       "72149                                        0.0                       0.0   \n",
       "23704                                        0.0                       0.0   \n",
       "...                                          ...                       ...   \n",
       "21833                                        0.0                       0.0   \n",
       "65833                                        0.0                       0.0   \n",
       "23927                                        0.0                       0.0   \n",
       "40257                                        0.0                       0.0   \n",
       "86940                                        0.0                       0.0   \n",
       "\n",
       "       clean_committees_Science and Technology  \\\n",
       "64588                                      0.0   \n",
       "62395                                      0.0   \n",
       "5617                                       0.0   \n",
       "72149                                      0.0   \n",
       "23704                                      0.0   \n",
       "...                                        ...   \n",
       "21833                                      0.0   \n",
       "65833                                      0.0   \n",
       "23927                                      0.0   \n",
       "40257                                      0.0   \n",
       "86940                                      0.0   \n",
       "\n",
       "       clean_committees_Science, Space, and Technology  \\\n",
       "64588                                              0.0   \n",
       "62395                                              0.0   \n",
       "5617                                               0.0   \n",
       "72149                                              0.0   \n",
       "23704                                              0.0   \n",
       "...                                                ...   \n",
       "21833                                              0.0   \n",
       "65833                                              0.0   \n",
       "23927                                              0.0   \n",
       "40257                                              0.0   \n",
       "86940                                              0.0   \n",
       "\n",
       "       clean_committees_Small Business  \\\n",
       "64588                              0.0   \n",
       "62395                              0.0   \n",
       "5617                               0.0   \n",
       "72149                              0.0   \n",
       "23704                              0.0   \n",
       "...                                ...   \n",
       "21833                              0.0   \n",
       "65833                              0.0   \n",
       "23927                              0.0   \n",
       "40257                              0.0   \n",
       "86940                              0.0   \n",
       "\n",
       "       clean_committees_Small Business and Entrepreneurship  \\\n",
       "64588                                                0.0      \n",
       "62395                                                0.0      \n",
       "5617                                                 0.0      \n",
       "72149                                                0.0      \n",
       "23704                                                0.0      \n",
       "...                                                  ...      \n",
       "21833                                                0.0      \n",
       "65833                                                0.0      \n",
       "23927                                                0.0      \n",
       "40257                                                0.0      \n",
       "86940                                                0.0      \n",
       "\n",
       "       clean_committees_Standards of Official Conduct  \\\n",
       "64588                                             0.0   \n",
       "62395                                             0.0   \n",
       "5617                                              0.0   \n",
       "72149                                             0.0   \n",
       "23704                                             0.0   \n",
       "...                                               ...   \n",
       "21833                                             0.0   \n",
       "65833                                             0.0   \n",
       "23927                                             0.0   \n",
       "40257                                             0.0   \n",
       "86940                                             0.0   \n",
       "\n",
       "       clean_committees_Transportation and Infrastructure  \\\n",
       "64588                                                0.0    \n",
       "62395                                                0.0    \n",
       "5617                                                 0.0    \n",
       "72149                                                0.0    \n",
       "23704                                                0.0    \n",
       "...                                                  ...    \n",
       "21833                                                0.0    \n",
       "65833                                                0.0    \n",
       "23927                                                0.0    \n",
       "40257                                                0.0    \n",
       "86940                                                0.0    \n",
       "\n",
       "       clean_committees_Ways and Means  final_status_coms  \n",
       "64588                              0.0                  0  \n",
       "62395                              0.0                  0  \n",
       "5617                               0.0                  0  \n",
       "72149                              1.0                  0  \n",
       "23704                              0.0                  0  \n",
       "...                                ...                ...  \n",
       "21833                              0.0                  1  \n",
       "65833                              0.0                  1  \n",
       "23927                              0.0                  1  \n",
       "40257                              0.0                  1  \n",
       "86940                              0.0                  1  \n",
       "\n",
       "[139375 rows x 105 columns]"
      ]
     },
     "execution_count": 90,
     "metadata": {},
     "output_type": "execute_result"
    }
   ],
   "source": [
    "train_samples"
   ]
  },
  {
   "cell_type": "code",
   "execution_count": 91,
   "metadata": {
    "ExecuteTime": {
     "end_time": "2020-03-11T19:35:45.542235Z",
     "start_time": "2020-03-11T19:35:45.462951Z"
    }
   },
   "outputs": [],
   "source": [
    "x_train = train_samples.drop(\"final_status_coms\", axis = 1)\n",
    "y_train = train_samples.final_status_coms"
   ]
  },
  {
   "cell_type": "markdown",
   "metadata": {},
   "source": [
    "# Feature Selection"
   ]
  },
  {
   "cell_type": "code",
   "execution_count": 92,
   "metadata": {
    "ExecuteTime": {
     "end_time": "2020-03-11T19:35:45.548659Z",
     "start_time": "2020-03-11T19:35:45.544994Z"
    }
   },
   "outputs": [],
   "source": [
    "# lr = LogisticRegression()\n",
    "\n",
    "# rfe = RFECV(lr, step = 1, cv = 5, n_jobs = 4)\n",
    "\n",
    "# rfe.fit(x_train, y_train)\n",
    "\n",
    "# rfe.support_\n",
    "\n",
    "# rfe.ranking_\n",
    "\n",
    "# arr = rfe.support_\n",
    "# arr = np.where(arr)[0]\n",
    "\n",
    "# x_train_good = x_train.iloc[:, arr]\n",
    "\n",
    "# x_test_good = x_test.iloc[:, arr]"
   ]
  },
  {
   "cell_type": "markdown",
   "metadata": {
    "ExecuteTime": {
     "end_time": "2020-03-05T22:26:20.470612Z",
     "start_time": "2020-03-05T22:26:20.468307Z"
    }
   },
   "source": [
    "# Logistic Regression"
   ]
  },
  {
   "cell_type": "code",
   "execution_count": 93,
   "metadata": {
    "ExecuteTime": {
     "end_time": "2020-03-11T19:35:48.035648Z",
     "start_time": "2020-03-11T19:35:45.551743Z"
    }
   },
   "outputs": [
    {
     "name": "stderr",
     "output_type": "stream",
     "text": [
      "/opt/anaconda3/lib/python3.7/site-packages/sklearn/linear_model/logistic.py:432: FutureWarning: Default solver will be changed to 'lbfgs' in 0.22. Specify a solver to silence this warning.\n",
      "  FutureWarning)\n"
     ]
    },
    {
     "name": "stdout",
     "output_type": "stream",
     "text": [
      "0.7720825112107623\n"
     ]
    },
    {
     "data": {
      "text/plain": [
       "0.7577244444444444"
      ]
     },
     "execution_count": 93,
     "metadata": {},
     "output_type": "execute_result"
    }
   ],
   "source": [
    "lr = LogisticRegression(penalty = \"l2\")\n",
    "\n",
    "lr.fit(x_train, y_train)\n",
    "\n",
    "print(lr.score(x_train, y_train))\n",
    "\n",
    "lr.score(x_test, y_test)"
   ]
  },
  {
   "cell_type": "code",
   "execution_count": 94,
   "metadata": {
    "ExecuteTime": {
     "end_time": "2020-03-11T19:35:48.044496Z",
     "start_time": "2020-03-11T19:35:48.037679Z"
    }
   },
   "outputs": [],
   "source": [
    "preds = lr.predict(x_test)"
   ]
  },
  {
   "cell_type": "code",
   "execution_count": 95,
   "metadata": {
    "ExecuteTime": {
     "end_time": "2020-03-11T19:35:48.051055Z",
     "start_time": "2020-03-11T19:35:48.046720Z"
    }
   },
   "outputs": [
    {
     "data": {
      "text/plain": [
       "array([1, 0, 0, ..., 1, 0, 0])"
      ]
     },
     "execution_count": 95,
     "metadata": {},
     "output_type": "execute_result"
    }
   ],
   "source": [
    "preds"
   ]
  },
  {
   "cell_type": "code",
   "execution_count": 96,
   "metadata": {
    "ExecuteTime": {
     "end_time": "2020-03-11T19:35:48.095128Z",
     "start_time": "2020-03-11T19:35:48.053100Z"
    }
   },
   "outputs": [
    {
     "name": "stdout",
     "output_type": "stream",
     "text": [
      "('              precision    recall  f1-score   support\\n'\n",
      " '\\n'\n",
      " '           0       0.94      0.75      0.84     23223\\n'\n",
      " '           1       0.40      0.78      0.53      4902\\n'\n",
      " '\\n'\n",
      " '    accuracy                           0.76     28125\\n'\n",
      " '   macro avg       0.67      0.76      0.68     28125\\n'\n",
      " 'weighted avg       0.85      0.76      0.78     28125\\n')\n"
     ]
    }
   ],
   "source": [
    "clm = classification_report(y_test, preds)\n",
    "pp.pprint(clm)"
   ]
  },
  {
   "cell_type": "code",
   "execution_count": 97,
   "metadata": {
    "ExecuteTime": {
     "end_time": "2020-03-11T19:35:48.141575Z",
     "start_time": "2020-03-11T19:35:48.097309Z"
    }
   },
   "outputs": [
    {
     "data": {
      "text/plain": [
       "array([[17509,  5714],\n",
       "       [ 1100,  3802]])"
      ]
     },
     "execution_count": 97,
     "metadata": {},
     "output_type": "execute_result"
    }
   ],
   "source": [
    "cm = confusion_matrix(y_test, preds)\n",
    "cm"
   ]
  },
  {
   "cell_type": "code",
   "execution_count": 98,
   "metadata": {
    "ExecuteTime": {
     "end_time": "2020-03-11T19:35:48.153953Z",
     "start_time": "2020-03-11T19:35:48.143731Z"
    }
   },
   "outputs": [],
   "source": [
    "probas = lr.predict_proba(x_test)"
   ]
  },
  {
   "cell_type": "code",
   "execution_count": 99,
   "metadata": {
    "ExecuteTime": {
     "end_time": "2020-03-11T19:35:48.391407Z",
     "start_time": "2020-03-11T19:35:48.162116Z"
    }
   },
   "outputs": [
    {
     "data": {
      "text/plain": [
       "([array([ 918., 2365., 2041., 2116., 2076., 2358., 2768., 3245., 4346.,\n",
       "         5892.]),\n",
       "  array([5892., 4346., 3245., 2768., 2358., 2076., 2116., 2041., 2365.,\n",
       "          918.])],\n",
       " array([1.94568806e-11, 1.00000000e-01, 2.00000000e-01, 3.00000000e-01,\n",
       "        4.00000000e-01, 5.00000000e-01, 6.00000000e-01, 7.00000000e-01,\n",
       "        8.00000000e-01, 9.00000000e-01, 1.00000000e+00]),\n",
       " <a list of 2 Lists of Patches objects>)"
      ]
     },
     "execution_count": 99,
     "metadata": {},
     "output_type": "execute_result"
    },
    {
     "data": {
      "image/png": "[encoded data removed]",
      "text/plain": [
       "<Figure size 432x288 with 1 Axes>"
      ]
     },
     "metadata": {
      "needs_background": "light"
     },
     "output_type": "display_data"
    }
   ],
   "source": [
    "plt.hist(probas)"
   ]
  },
  {
   "cell_type": "code",
   "execution_count": 100,
   "metadata": {
    "ExecuteTime": {
     "end_time": "2020-03-11T19:35:48.396978Z",
     "start_time": "2020-03-11T19:35:48.394311Z"
    }
   },
   "outputs": [],
   "source": [
    "import numpy as np"
   ]
  },
  {
   "cell_type": "code",
   "execution_count": 101,
   "metadata": {
    "ExecuteTime": {
     "end_time": "2020-03-11T19:35:48.402307Z",
     "start_time": "2020-03-11T19:35:48.399302Z"
    }
   },
   "outputs": [],
   "source": [
    "thresh = np.arange(0, 1.05, .05)"
   ]
  },
  {
   "cell_type": "code",
   "execution_count": 102,
   "metadata": {
    "ExecuteTime": {
     "end_time": "2020-03-11T19:35:48.452537Z",
     "start_time": "2020-03-11T19:35:48.403831Z"
    }
   },
   "outputs": [
    {
     "name": "stdout",
     "output_type": "stream",
     "text": [
      "0.0 -- precision: 0.17429333333333333, recall:1.0\n",
      "0.05 -- precision: 0.1938294585924195, recall:0.9983680130558955\n",
      "0.1 -- precision: 0.21863896010434938, recall:0.9916360669114647\n",
      "0.15000000000000002 -- precision: 0.24077982112350518, recall:0.9775601795185639\n",
      "0.2 -- precision: 0.2634315424610052, recall:0.9612403100775194\n",
      "0.25 -- precision: 0.2850787766450417, recall:0.9412484700122399\n",
      "0.30000000000000004 -- precision: 0.3071301734735692, recall:0.9173806609547124\n",
      "0.35000000000000003 -- precision: 0.3297694874127995, recall:0.8871889024887801\n",
      "0.4 -- precision: 0.3541350850597945, recall:0.8578131374949001\n",
      "0.45 -- precision: 0.3773638159751623, recall:0.8182374541003672\n",
      "0.5 -- precision: 0.3995376208490963, recall:0.7756017951856385\n",
      "0.55 -- precision: 0.42328605200945624, recall:0.7305181558547532\n",
      "0.6000000000000001 -- precision: 0.4520161290322581, recall:0.686046511627907\n",
      "0.65 -- precision: 0.48049701163888014, recall:0.6232150142798858\n",
      "0.7000000000000001 -- precision: 0.5129601803155522, recall:0.5571195430436556\n",
      "0.75 -- precision: 0.546731123388582, recall:0.4844961240310077\n",
      "0.8 -- precision: 0.5842217484008528, recall:0.3912688698490412\n",
      "0.8500000000000001 -- precision: 0.6359126984126984, recall:0.26152590779273766\n",
      "0.9 -- precision: 0.6928104575163399, recall:0.12974296205630356\n",
      "0.9500000000000001 -- precision: 0.7941176470588235, recall:0.044063647490820076\n",
      "1.0 -- precision: nan, recall:0.0\n"
     ]
    },
    {
     "name": "stderr",
     "output_type": "stream",
     "text": [
      "/opt/anaconda3/lib/python3.7/site-packages/ipykernel_launcher.py:9: RuntimeWarning: invalid value encountered in long_scalars\n",
      "  if __name__ == '__main__':\n"
     ]
    }
   ],
   "source": [
    "precisions = []\n",
    "recalls = []\n",
    "\n",
    "for t in thresh:\n",
    "    predict_pos = probas[:,1]>=t\n",
    "    trues = ((predict_pos == 1) & (y_test == 1)).sum()\n",
    "    falses = ((predict_pos == 1) & (y_test == 0)).sum()\n",
    "    false_neg = ((predict_pos == 0) & (y_test == 1)).sum()\n",
    "    precision = trues/(trues + falses)\n",
    "    precisions.append(precision)\n",
    "    recall = trues / (trues + false_neg)\n",
    "    recalls.append(recall)\n",
    "    \n",
    "    print(f\"{t} -- precision: {precision}, recall:{recall}\")"
   ]
  },
  {
   "cell_type": "code",
   "execution_count": 103,
   "metadata": {
    "ExecuteTime": {
     "end_time": "2020-03-11T19:35:48.642442Z",
     "start_time": "2020-03-11T19:35:48.455031Z"
    }
   },
   "outputs": [
    {
     "data": {
      "image/png": "[encoded data removed]",
      "text/plain": [
       "<Figure size 432x288 with 1 Axes>"
      ]
     },
     "metadata": {
      "needs_background": "light"
     },
     "output_type": "display_data"
    }
   ],
   "source": [
    "plt.plot([0, 1], [1, 0])\n",
    "plt.plot(recalls, precisions);"
   ]
  },
  {
   "cell_type": "markdown",
   "metadata": {},
   "source": [
    "# Random Forest Model"
   ]
  },
  {
   "cell_type": "code",
   "execution_count": 104,
   "metadata": {
    "ExecuteTime": {
     "end_time": "2020-03-11T19:36:04.169366Z",
     "start_time": "2020-03-11T19:35:48.644512Z"
    }
   },
   "outputs": [
    {
     "name": "stdout",
     "output_type": "stream",
     "text": [
      "0.8206636771300448\n"
     ]
    },
    {
     "data": {
      "text/plain": [
       "0.7950577777777778"
      ]
     },
     "execution_count": 104,
     "metadata": {},
     "output_type": "execute_result"
    }
   ],
   "source": [
    "rf = RandomForestClassifier(max_depth = 12, max_features = 10, n_estimators = 100)\n",
    "\n",
    "rf.fit(x_train, y_train)\n",
    "print(rf.score(x_train, y_train))\n",
    "\n",
    "rf.score(x_test, y_test)"
   ]
  },
  {
   "cell_type": "code",
   "execution_count": 105,
   "metadata": {
    "ExecuteTime": {
     "end_time": "2020-03-11T19:36:04.558333Z",
     "start_time": "2020-03-11T19:36:04.171276Z"
    }
   },
   "outputs": [
    {
     "name": "stdout",
     "output_type": "stream",
     "text": [
      "('              precision    recall  f1-score   support\\n'\n",
      " '\\n'\n",
      " '           0       0.95      0.80      0.87     23223\\n'\n",
      " '           1       0.45      0.78      0.57      4902\\n'\n",
      " '\\n'\n",
      " '    accuracy                           0.80     28125\\n'\n",
      " '   macro avg       0.70      0.79      0.72     28125\\n'\n",
      " 'weighted avg       0.86      0.80      0.81     28125\\n')\n"
     ]
    }
   ],
   "source": [
    "preds = rf.predict(x_test)\n",
    "\n",
    "clm = classification_report(y_test, preds)\n",
    "pp.pprint(clm)"
   ]
  },
  {
   "cell_type": "code",
   "execution_count": 106,
   "metadata": {
    "ExecuteTime": {
     "end_time": "2020-03-11T19:36:04.582945Z",
     "start_time": "2020-03-11T19:36:04.559922Z"
    }
   },
   "outputs": [
    {
     "data": {
      "text/plain": [
       "array([[18517,  4706],\n",
       "       [ 1058,  3844]])"
      ]
     },
     "execution_count": 106,
     "metadata": {},
     "output_type": "execute_result"
    }
   ],
   "source": [
    "cm = confusion_matrix(y_test, preds)\n",
    "cm"
   ]
  },
  {
   "cell_type": "code",
   "execution_count": 123,
   "metadata": {
    "ExecuteTime": {
     "end_time": "2020-03-11T19:41:00.631448Z",
     "start_time": "2020-03-11T19:41:00.388862Z"
    }
   },
   "outputs": [
    {
     "data": {
      "image/png": "[encoded data removed]",
      "text/plain": [
       "<Figure size 576x576 with 1 Axes>"
      ]
     },
     "metadata": {
      "needs_background": "light"
     },
     "output_type": "display_data"
    }
   ],
   "source": [
    "plt.figure(figsize= (8, 8))\n",
    "plt.title(\"Action Taken Model: Predictions vs Actual\")\n",
    "plt.xticks(horizontalalignment=\"right\") \n",
    "sns.countplot(y_test, color = \"turquoise\", alpha = .75, label = \"Actual\", orient=\"v\")\n",
    "sns.countplot(preds, color = \"blue\", alpha = .5, label = \"Predicted\", orient = \"v\")\n",
    "plt.legend();"
   ]
  },
  {
   "cell_type": "code",
   "execution_count": 108,
   "metadata": {
    "ExecuteTime": {
     "end_time": "2020-03-11T19:36:04.748505Z",
     "start_time": "2020-03-11T19:36:04.744359Z"
    }
   },
   "outputs": [
    {
     "data": {
      "text/plain": [
       "0.304"
      ]
     },
     "execution_count": 108,
     "metadata": {},
     "output_type": "execute_result"
    }
   ],
   "source": [
    "preds.sum()/len(preds)"
   ]
  },
  {
   "cell_type": "code",
   "execution_count": 109,
   "metadata": {
    "ExecuteTime": {
     "end_time": "2020-03-11T19:36:04.759108Z",
     "start_time": "2020-03-11T19:36:04.751511Z"
    }
   },
   "outputs": [
    {
     "data": {
      "text/plain": [
       "0    0.825707\n",
       "1    0.174293\n",
       "Name: final_status_coms, dtype: float64"
      ]
     },
     "execution_count": 109,
     "metadata": {},
     "output_type": "execute_result"
    }
   ],
   "source": [
    "y_test.value_counts(normalize = True)"
   ]
  },
  {
   "cell_type": "code",
   "execution_count": 110,
   "metadata": {
    "ExecuteTime": {
     "end_time": "2020-03-11T19:36:04.764837Z",
     "start_time": "2020-03-11T19:36:04.760719Z"
    }
   },
   "outputs": [
    {
     "data": {
      "text/plain": [
       "0.3008"
      ]
     },
     "execution_count": 110,
     "metadata": {},
     "output_type": "execute_result"
    }
   ],
   "source": [
    "(probas[:, 1] > .55).sum()/len(probas)"
   ]
  },
  {
   "cell_type": "code",
   "execution_count": 111,
   "metadata": {
    "ExecuteTime": {
     "end_time": "2020-03-11T19:36:04.769065Z",
     "start_time": "2020-03-11T19:36:04.766550Z"
    }
   },
   "outputs": [],
   "source": [
    "preds_48 = (probas[:, 1] > .45)"
   ]
  },
  {
   "cell_type": "code",
   "execution_count": 112,
   "metadata": {
    "ExecuteTime": {
     "end_time": "2020-03-11T19:36:04.809637Z",
     "start_time": "2020-03-11T19:36:04.770652Z"
    }
   },
   "outputs": [
    {
     "name": "stdout",
     "output_type": "stream",
     "text": [
      "('              precision    recall  f1-score   support\\n'\n",
      " '\\n'\n",
      " '           0       0.95      0.72      0.82     23223\\n'\n",
      " '           1       0.38      0.82      0.52      4902\\n'\n",
      " '\\n'\n",
      " '    accuracy                           0.73     28125\\n'\n",
      " '   macro avg       0.66      0.77      0.67     28125\\n'\n",
      " 'weighted avg       0.85      0.73      0.76     28125\\n')\n"
     ]
    }
   ],
   "source": [
    "clm = classification_report(y_test, preds_48)\n",
    "pp.pprint(clm)"
   ]
  },
  {
   "cell_type": "code",
   "execution_count": 113,
   "metadata": {
    "ExecuteTime": {
     "end_time": "2020-03-11T19:36:04.814458Z",
     "start_time": "2020-03-11T19:36:04.811943Z"
    }
   },
   "outputs": [],
   "source": [
    "# check ROC curve"
   ]
  },
  {
   "cell_type": "code",
   "execution_count": 115,
   "metadata": {
    "ExecuteTime": {
     "end_time": "2020-03-11T19:37:13.572044Z",
     "start_time": "2020-03-11T19:37:13.225545Z"
    }
   },
   "outputs": [],
   "source": [
    "probas = rf.predict_proba(x_test)"
   ]
  },
  {
   "cell_type": "code",
   "execution_count": 118,
   "metadata": {
    "ExecuteTime": {
     "end_time": "2020-03-11T19:38:38.735222Z",
     "start_time": "2020-03-11T19:38:38.409763Z"
    }
   },
   "outputs": [
    {
     "data": {
      "image/png": "[encoded data removed]",
      "text/plain": [
       "<Figure size 720x576 with 1 Axes>"
      ]
     },
     "metadata": {
      "needs_background": "light"
     },
     "output_type": "display_data"
    }
   ],
   "source": [
    "plt.figure(figsize = (10, 8))\n",
    "plt.title(\"Prediction Probabilites for Action Taken Model\")\n",
    "plt.xlabel(\"Probability\")\n",
    "plt.ylabel(\"Count\")\n",
    "plt.hist(probas[:, 1], bins = 50, color = \"coral\");"
   ]
  },
  {
   "cell_type": "code",
   "execution_count": 41,
   "metadata": {
    "ExecuteTime": {
     "end_time": "2020-03-11T17:47:23.522180Z",
     "start_time": "2020-03-11T17:47:23.477205Z"
    }
   },
   "outputs": [
    {
     "name": "stdout",
     "output_type": "stream",
     "text": [
      "0.0 -- precision: 0.17742222222222223, recall:1.0\n",
      "0.05 -- precision: 0.1849518161601186, recall:1.0\n",
      "0.1 -- precision: 0.19265239898014372, recall:0.9993987975951903\n",
      "0.15000000000000002 -- precision: 0.20462574973297182, recall:0.9981963927855712\n",
      "0.2 -- precision: 0.2228107186139414, recall:0.9947895791583167\n",
      "0.25 -- precision: 0.2453083777191498, recall:0.9875751503006012\n",
      "0.30000000000000004 -- precision: 0.268590026478376, recall:0.975751503006012\n",
      "0.35000000000000003 -- precision: 0.30375470134506277, recall:0.9549098196392786\n",
      "0.4 -- precision: 0.3524974986531209, recall:0.9178356713426854\n",
      "0.45 -- precision: 0.404997642621405, recall:0.8607214428857716\n",
      "0.5 -- precision: 0.4590125756870051, recall:0.7899799599198397\n",
      "0.55 -- precision: 0.527588813303099, recall:0.6993987975951904\n",
      "0.6000000000000001 -- precision: 0.6066652952067476, recall:0.5909819639278557\n",
      "0.65 -- precision: 0.6568265682656826, recall:0.4993987975951904\n",
      "0.7000000000000001 -- precision: 0.7223952924887505, recall:0.4182364729458918\n",
      "0.75 -- precision: 0.7915831663326653, recall:0.3166332665330661\n",
      "0.8 -- precision: 0.8310090237899918, recall:0.20300601202404808\n",
      "0.8500000000000001 -- precision: 0.904424778761062, recall:0.10240480961923848\n",
      "0.9 -- precision: 0.9646464646464646, recall:0.038276553106212426\n",
      "0.9500000000000001 -- precision: nan, recall:0.0\n",
      "1.0 -- precision: nan, recall:0.0\n"
     ]
    },
    {
     "name": "stderr",
     "output_type": "stream",
     "text": [
      "/opt/anaconda3/lib/python3.7/site-packages/ipykernel_launcher.py:9: RuntimeWarning: invalid value encountered in long_scalars\n",
      "  if __name__ == '__main__':\n"
     ]
    }
   ],
   "source": [
    "precisions = []\n",
    "recalls = []\n",
    "\n",
    "for t in thresh:\n",
    "    predict_pos = probas[:,1]>=t\n",
    "    trues = ((predict_pos == 1) & (y_test == 1)).sum()\n",
    "    falses = ((predict_pos == 1) & (y_test == 0)).sum()\n",
    "    false_neg = ((predict_pos == 0) & (y_test == 1)).sum()\n",
    "    precision = trues/(trues + falses)\n",
    "    precisions.append(precision)\n",
    "    recall = trues / (trues + false_neg)\n",
    "    recalls.append(recall)\n",
    "    \n",
    "    print(f\"{t} -- precision: {precision}, recall:{recall}\")"
   ]
  },
  {
   "cell_type": "code",
   "execution_count": 42,
   "metadata": {
    "ExecuteTime": {
     "end_time": "2020-03-11T17:47:23.699037Z",
     "start_time": "2020-03-11T17:47:23.524144Z"
    }
   },
   "outputs": [
    {
     "data": {
      "image/png": "[encoded data removed]",
      "text/plain": [
       "<Figure size 432x288 with 1 Axes>"
      ]
     },
     "metadata": {
      "needs_background": "light"
     },
     "output_type": "display_data"
    }
   ],
   "source": [
    "plt.plot([0, 1], [1, 0], color='gray')\n",
    "plt.plot(recalls, precisions, color='red');"
   ]
  },
  {
   "cell_type": "code",
   "execution_count": 43,
   "metadata": {
    "ExecuteTime": {
     "end_time": "2020-03-11T17:47:23.702887Z",
     "start_time": "2020-03-11T17:47:23.700703Z"
    }
   },
   "outputs": [],
   "source": [
    "#adjust threshold?"
   ]
  },
  {
   "cell_type": "code",
   "execution_count": null,
   "metadata": {},
   "outputs": [],
   "source": []
  },
  {
   "cell_type": "code",
   "execution_count": 44,
   "metadata": {
    "ExecuteTime": {
     "end_time": "2020-03-11T17:47:23.710452Z",
     "start_time": "2020-03-11T17:47:23.704870Z"
    }
   },
   "outputs": [],
   "source": [
    "threshold = 0.4\n",
    "\n",
    "probas [:,0] = (probas [:,0] < threshold).astype('int')\n",
    "probas [:,1] = (probas [:,1] >= threshold).astype('int')\n",
    "\n",
    "preds = probas[:,1]"
   ]
  },
  {
   "cell_type": "markdown",
   "metadata": {},
   "source": [
    "# Gridsearch RandomForest"
   ]
  },
  {
   "cell_type": "code",
   "execution_count": 45,
   "metadata": {
    "ExecuteTime": {
     "end_time": "2020-03-11T17:47:23.714586Z",
     "start_time": "2020-03-11T17:47:23.712534Z"
    }
   },
   "outputs": [],
   "source": [
    "# params = {\"n_estimators\": [100, 200, 300],\n",
    "#          \"max_depth\":[5, 8, 10, 12], \n",
    "#           \"max_features\":[10, 15, 20]\n",
    "#          }\n",
    "\n",
    "# grid_rf = GridSearchCV(rf, param_grid=params, n_jobs = 4)"
   ]
  },
  {
   "cell_type": "code",
   "execution_count": 46,
   "metadata": {
    "ExecuteTime": {
     "end_time": "2020-03-11T17:47:23.718381Z",
     "start_time": "2020-03-11T17:47:23.716201Z"
    }
   },
   "outputs": [],
   "source": [
    "#grid_rf.fit(x_train_good, y_train)"
   ]
  },
  {
   "cell_type": "code",
   "execution_count": 47,
   "metadata": {
    "ExecuteTime": {
     "end_time": "2020-03-11T17:47:23.722559Z",
     "start_time": "2020-03-11T17:47:23.720464Z"
    }
   },
   "outputs": [],
   "source": [
    "#grid_rf.best_score_"
   ]
  },
  {
   "cell_type": "code",
   "execution_count": 48,
   "metadata": {
    "ExecuteTime": {
     "end_time": "2020-03-11T17:47:23.726794Z",
     "start_time": "2020-03-11T17:47:23.724434Z"
    }
   },
   "outputs": [],
   "source": [
    "#grid_rf.best_params_"
   ]
  },
  {
   "cell_type": "markdown",
   "metadata": {},
   "source": [
    "# Adaboost model"
   ]
  },
  {
   "cell_type": "code",
   "execution_count": 49,
   "metadata": {
    "ExecuteTime": {
     "end_time": "2020-03-11T17:47:35.123236Z",
     "start_time": "2020-03-11T17:47:23.729678Z"
    }
   },
   "outputs": [
    {
     "name": "stdout",
     "output_type": "stream",
     "text": [
      "0.772132735426009\n"
     ]
    },
    {
     "data": {
      "text/plain": [
       "0.7677866666666666"
      ]
     },
     "execution_count": 49,
     "metadata": {},
     "output_type": "execute_result"
    }
   ],
   "source": [
    "ada = AdaBoostClassifier()\n",
    "\n",
    "ada.fit(x_train, y_train)\n",
    "\n",
    "print(ada.score(x_train, y_train))\n",
    "\n",
    "ada.score(x_test, y_test)"
   ]
  },
  {
   "cell_type": "code",
   "execution_count": 50,
   "metadata": {
    "ExecuteTime": {
     "end_time": "2020-03-11T17:47:35.488044Z",
     "start_time": "2020-03-11T17:47:35.124987Z"
    }
   },
   "outputs": [],
   "source": [
    "preds = ada.predict(x_test)"
   ]
  },
  {
   "cell_type": "code",
   "execution_count": 51,
   "metadata": {
    "ExecuteTime": {
     "end_time": "2020-03-11T17:47:35.524092Z",
     "start_time": "2020-03-11T17:47:35.490142Z"
    }
   },
   "outputs": [
    {
     "name": "stdout",
     "output_type": "stream",
     "text": [
      "('              precision    recall  f1-score   support\\n'\n",
      " '\\n'\n",
      " '           0       0.94      0.77      0.84     23135\\n'\n",
      " '           1       0.42      0.78      0.54      4990\\n'\n",
      " '\\n'\n",
      " '    accuracy                           0.77     28125\\n'\n",
      " '   macro avg       0.68      0.77      0.69     28125\\n'\n",
      " 'weighted avg       0.85      0.77      0.79     28125\\n')\n"
     ]
    }
   ],
   "source": [
    "clm = classification_report(y_test, preds)\n",
    "pp.pprint(clm)"
   ]
  },
  {
   "cell_type": "markdown",
   "metadata": {},
   "source": [
    "# Take it to the next level"
   ]
  },
  {
   "cell_type": "code",
   "execution_count": 52,
   "metadata": {
    "ExecuteTime": {
     "end_time": "2020-03-11T17:47:35.553855Z",
     "start_time": "2020-03-11T17:47:35.531254Z"
    }
   },
   "outputs": [],
   "source": [
    "mini = df[df[\"final_status_coms\"] == 1]"
   ]
  },
  {
   "cell_type": "code",
   "execution_count": 53,
   "metadata": {
    "ExecuteTime": {
     "end_time": "2020-03-11T17:47:35.563661Z",
     "start_time": "2020-03-11T17:47:35.556628Z"
    }
   },
   "outputs": [
    {
     "data": {
      "text/plain": [
       "Passed one chamber          6418\n",
       "Referred to full chamber    6093\n",
       "Law!                        3907\n",
       "Action in committee         3335\n",
       "Name: final_status_5, dtype: int64"
      ]
     },
     "execution_count": 53,
     "metadata": {},
     "output_type": "execute_result"
    }
   ],
   "source": [
    "mini[\"final_status_5\"].value_counts()"
   ]
  },
  {
   "cell_type": "code",
   "execution_count": 54,
   "metadata": {
    "ExecuteTime": {
     "end_time": "2020-03-11T17:47:35.569365Z",
     "start_time": "2020-03-11T17:47:35.565315Z"
    }
   },
   "outputs": [
    {
     "data": {
      "text/plain": [
       "Index(['bill_id', 'title', 'sponsor_title', 'sponsor_name', 'sponsor_state',\n",
       "       'introduced_date', 'cosponsors', 'cosponsors_by_party', 'committees',\n",
       "       'summary',\n",
       "       ...\n",
       "       'clean_committees_Rules and Administration', 'clean_committees_Science',\n",
       "       'clean_committees_Science and Technology',\n",
       "       'clean_committees_Science, Space, and Technology',\n",
       "       'clean_committees_Small Business',\n",
       "       'clean_committees_Small Business and Entrepreneurship',\n",
       "       'clean_committees_Standards of Official Conduct',\n",
       "       'clean_committees_Transportation and Infrastructure',\n",
       "       'clean_committees_Ways and Means', 'law_Law'],\n",
       "      dtype='object', length=123)"
      ]
     },
     "execution_count": 54,
     "metadata": {},
     "output_type": "execute_result"
    }
   ],
   "source": [
    "mini.columns"
   ]
  },
  {
   "cell_type": "code",
   "execution_count": 55,
   "metadata": {
    "ExecuteTime": {
     "end_time": "2020-03-11T17:47:35.575720Z",
     "start_time": "2020-03-11T17:47:35.570959Z"
    }
   },
   "outputs": [
    {
     "data": {
      "text/plain": [
       "0         0\n",
       "1         0\n",
       "2         1\n",
       "3         0\n",
       "4         0\n",
       "         ..\n",
       "112441    1\n",
       "112448    0\n",
       "112466    1\n",
       "112472    1\n",
       "112499    0\n",
       "Name: law_Law, Length: 19753, dtype: int64"
      ]
     },
     "execution_count": 55,
     "metadata": {},
     "output_type": "execute_result"
    }
   ],
   "source": [
    "mini['law_Law']"
   ]
  },
  {
   "cell_type": "code",
   "execution_count": 56,
   "metadata": {
    "ExecuteTime": {
     "end_time": "2020-03-11T17:47:35.640768Z",
     "start_time": "2020-03-11T17:47:35.577367Z"
    }
   },
   "outputs": [],
   "source": [
    "x = mini.select_dtypes([int, bool, float]).drop([\"law_Law\", \"final_status_coms\"], axis = 1)\n",
    "y = mini.final_status_5\n",
    "\n",
    "x_train, x_test, y_train, y_test = train_test_split(x, y)"
   ]
  },
  {
   "cell_type": "code",
   "execution_count": 57,
   "metadata": {
    "ExecuteTime": {
     "end_time": "2020-03-11T17:47:35.648731Z",
     "start_time": "2020-03-11T17:47:35.642920Z"
    }
   },
   "outputs": [
    {
     "data": {
      "text/plain": [
       "31274           Passed one chamber\n",
       "83033           Passed one chamber\n",
       "34005     Referred to full chamber\n",
       "94756     Referred to full chamber\n",
       "100139    Referred to full chamber\n",
       "                    ...           \n",
       "73417                         Law!\n",
       "18259           Passed one chamber\n",
       "74970           Passed one chamber\n",
       "54549           Passed one chamber\n",
       "17861                         Law!\n",
       "Name: final_status_5, Length: 14814, dtype: object"
      ]
     },
     "execution_count": 57,
     "metadata": {},
     "output_type": "execute_result"
    }
   ],
   "source": [
    "y_train"
   ]
  },
  {
   "cell_type": "code",
   "execution_count": 58,
   "metadata": {
    "ExecuteTime": {
     "end_time": "2020-03-11T17:47:35.659433Z",
     "start_time": "2020-03-11T17:47:35.650662Z"
    }
   },
   "outputs": [],
   "source": [
    "train = x_train.join(y_train)"
   ]
  },
  {
   "cell_type": "code",
   "execution_count": 59,
   "metadata": {
    "ExecuteTime": {
     "end_time": "2020-03-11T17:47:35.665495Z",
     "start_time": "2020-03-11T17:47:35.661274Z"
    }
   },
   "outputs": [
    {
     "data": {
      "text/plain": [
       "Index(['cosponsors', 'congress', 'sponsor_party_rank',\n",
       "       'sponsor_senior_party_member', 'coms_match', 'bipartisan',\n",
       "       'summary_length', 'sponsor_majority', 'united_congress',\n",
       "       'sponsor_pres_party_match',\n",
       "       ...\n",
       "       'clean_committees_Rules and Administration', 'clean_committees_Science',\n",
       "       'clean_committees_Science and Technology',\n",
       "       'clean_committees_Science, Space, and Technology',\n",
       "       'clean_committees_Small Business',\n",
       "       'clean_committees_Small Business and Entrepreneurship',\n",
       "       'clean_committees_Standards of Official Conduct',\n",
       "       'clean_committees_Transportation and Infrastructure',\n",
       "       'clean_committees_Ways and Means', 'final_status_5'],\n",
       "      dtype='object', length=105)"
      ]
     },
     "execution_count": 59,
     "metadata": {},
     "output_type": "execute_result"
    }
   ],
   "source": [
    "train.columns"
   ]
  },
  {
   "cell_type": "code",
   "execution_count": 60,
   "metadata": {
    "ExecuteTime": {
     "end_time": "2020-03-11T17:47:35.785907Z",
     "start_time": "2020-03-11T17:47:35.667383Z"
    }
   },
   "outputs": [],
   "source": [
    "statuses = [\"Passed one chamber\", \"Referred to full chamber\", \"Action in committee\", \"Law!\"]\n",
    "\n",
    "bootstrapped = []\n",
    "for status in statuses:\n",
    "    sample = resample(train[train['final_status_5'] == status], replace = True, n_samples = 50_000, random_state = 13)\n",
    "    bootstrapped.append(sample)"
   ]
  },
  {
   "cell_type": "code",
   "execution_count": 61,
   "metadata": {
    "ExecuteTime": {
     "end_time": "2020-03-11T17:47:35.965061Z",
     "start_time": "2020-03-11T17:47:35.787772Z"
    }
   },
   "outputs": [],
   "source": [
    "samples = pd.concat(bootstrapped)"
   ]
  },
  {
   "cell_type": "code",
   "execution_count": 62,
   "metadata": {
    "ExecuteTime": {
     "end_time": "2020-03-11T17:47:36.368712Z",
     "start_time": "2020-03-11T17:47:35.966338Z"
    }
   },
   "outputs": [],
   "source": [
    "train = pd.concat([train, samples])"
   ]
  },
  {
   "cell_type": "code",
   "execution_count": 63,
   "metadata": {
    "ExecuteTime": {
     "end_time": "2020-03-11T17:47:36.462508Z",
     "start_time": "2020-03-11T17:47:36.370696Z"
    }
   },
   "outputs": [
    {
     "data": {
      "text/html": [
       "<div>\n",
       "<style scoped>\n",
       "    .dataframe tbody tr th:only-of-type {\n",
       "        vertical-align: middle;\n",
       "    }\n",
       "\n",
       "    .dataframe tbody tr th {\n",
       "        vertical-align: top;\n",
       "    }\n",
       "\n",
       "    .dataframe thead th {\n",
       "        text-align: right;\n",
       "    }\n",
       "</style>\n",
       "<table border=\"1\" class=\"dataframe\">\n",
       "  <thead>\n",
       "    <tr style=\"text-align: right;\">\n",
       "      <th></th>\n",
       "      <th>cosponsors</th>\n",
       "      <th>congress</th>\n",
       "      <th>sponsor_party_rank</th>\n",
       "      <th>sponsor_senior_party_member</th>\n",
       "      <th>coms_match</th>\n",
       "      <th>bipartisan</th>\n",
       "      <th>summary_length</th>\n",
       "      <th>sponsor_majority</th>\n",
       "      <th>united_congress</th>\n",
       "      <th>sponsor_pres_party_match</th>\n",
       "      <th>...</th>\n",
       "      <th>clean_committees_Rules and Administration</th>\n",
       "      <th>clean_committees_Science</th>\n",
       "      <th>clean_committees_Science and Technology</th>\n",
       "      <th>clean_committees_Science, Space, and Technology</th>\n",
       "      <th>clean_committees_Small Business</th>\n",
       "      <th>clean_committees_Small Business and Entrepreneurship</th>\n",
       "      <th>clean_committees_Standards of Official Conduct</th>\n",
       "      <th>clean_committees_Transportation and Infrastructure</th>\n",
       "      <th>clean_committees_Ways and Means</th>\n",
       "      <th>final_status_5</th>\n",
       "    </tr>\n",
       "  </thead>\n",
       "  <tbody>\n",
       "    <tr>\n",
       "      <th>31274</th>\n",
       "      <td>6</td>\n",
       "      <td>109</td>\n",
       "      <td>7</td>\n",
       "      <td>0</td>\n",
       "      <td>0</td>\n",
       "      <td>True</td>\n",
       "      <td>2317</td>\n",
       "      <td>1</td>\n",
       "      <td>1</td>\n",
       "      <td>1</td>\n",
       "      <td>...</td>\n",
       "      <td>0</td>\n",
       "      <td>0</td>\n",
       "      <td>0</td>\n",
       "      <td>0</td>\n",
       "      <td>0</td>\n",
       "      <td>0</td>\n",
       "      <td>0</td>\n",
       "      <td>0</td>\n",
       "      <td>0</td>\n",
       "      <td>Passed one chamber</td>\n",
       "    </tr>\n",
       "    <tr>\n",
       "      <th>83033</th>\n",
       "      <td>1</td>\n",
       "      <td>110</td>\n",
       "      <td>1</td>\n",
       "      <td>5</td>\n",
       "      <td>0</td>\n",
       "      <td>False</td>\n",
       "      <td>1196</td>\n",
       "      <td>1</td>\n",
       "      <td>1</td>\n",
       "      <td>0</td>\n",
       "      <td>...</td>\n",
       "      <td>0</td>\n",
       "      <td>0</td>\n",
       "      <td>0</td>\n",
       "      <td>0</td>\n",
       "      <td>0</td>\n",
       "      <td>0</td>\n",
       "      <td>0</td>\n",
       "      <td>0</td>\n",
       "      <td>0</td>\n",
       "      <td>Passed one chamber</td>\n",
       "    </tr>\n",
       "    <tr>\n",
       "      <th>34005</th>\n",
       "      <td>3</td>\n",
       "      <td>114</td>\n",
       "      <td>2</td>\n",
       "      <td>10</td>\n",
       "      <td>1</td>\n",
       "      <td>False</td>\n",
       "      <td>6925</td>\n",
       "      <td>0</td>\n",
       "      <td>1</td>\n",
       "      <td>1</td>\n",
       "      <td>...</td>\n",
       "      <td>0</td>\n",
       "      <td>0</td>\n",
       "      <td>0</td>\n",
       "      <td>0</td>\n",
       "      <td>1</td>\n",
       "      <td>0</td>\n",
       "      <td>0</td>\n",
       "      <td>0</td>\n",
       "      <td>0</td>\n",
       "      <td>Referred to full chamber</td>\n",
       "    </tr>\n",
       "    <tr>\n",
       "      <th>94756</th>\n",
       "      <td>55</td>\n",
       "      <td>111</td>\n",
       "      <td>7</td>\n",
       "      <td>5</td>\n",
       "      <td>0</td>\n",
       "      <td>False</td>\n",
       "      <td>16181</td>\n",
       "      <td>1</td>\n",
       "      <td>1</td>\n",
       "      <td>0</td>\n",
       "      <td>...</td>\n",
       "      <td>0</td>\n",
       "      <td>0</td>\n",
       "      <td>0</td>\n",
       "      <td>0</td>\n",
       "      <td>0</td>\n",
       "      <td>0</td>\n",
       "      <td>0</td>\n",
       "      <td>0</td>\n",
       "      <td>0</td>\n",
       "      <td>Referred to full chamber</td>\n",
       "    </tr>\n",
       "    <tr>\n",
       "      <th>100139</th>\n",
       "      <td>58</td>\n",
       "      <td>111</td>\n",
       "      <td>20</td>\n",
       "      <td>0</td>\n",
       "      <td>0</td>\n",
       "      <td>True</td>\n",
       "      <td>84</td>\n",
       "      <td>1</td>\n",
       "      <td>1</td>\n",
       "      <td>0</td>\n",
       "      <td>...</td>\n",
       "      <td>0</td>\n",
       "      <td>0</td>\n",
       "      <td>0</td>\n",
       "      <td>0</td>\n",
       "      <td>0</td>\n",
       "      <td>0</td>\n",
       "      <td>0</td>\n",
       "      <td>0</td>\n",
       "      <td>0</td>\n",
       "      <td>Referred to full chamber</td>\n",
       "    </tr>\n",
       "    <tr>\n",
       "      <th>...</th>\n",
       "      <td>...</td>\n",
       "      <td>...</td>\n",
       "      <td>...</td>\n",
       "      <td>...</td>\n",
       "      <td>...</td>\n",
       "      <td>...</td>\n",
       "      <td>...</td>\n",
       "      <td>...</td>\n",
       "      <td>...</td>\n",
       "      <td>...</td>\n",
       "      <td>...</td>\n",
       "      <td>...</td>\n",
       "      <td>...</td>\n",
       "      <td>...</td>\n",
       "      <td>...</td>\n",
       "      <td>...</td>\n",
       "      <td>...</td>\n",
       "      <td>...</td>\n",
       "      <td>...</td>\n",
       "      <td>...</td>\n",
       "      <td>...</td>\n",
       "    </tr>\n",
       "    <tr>\n",
       "      <th>62196</th>\n",
       "      <td>1</td>\n",
       "      <td>112</td>\n",
       "      <td>4</td>\n",
       "      <td>0</td>\n",
       "      <td>0</td>\n",
       "      <td>False</td>\n",
       "      <td>279</td>\n",
       "      <td>1</td>\n",
       "      <td>0</td>\n",
       "      <td>0</td>\n",
       "      <td>...</td>\n",
       "      <td>0</td>\n",
       "      <td>0</td>\n",
       "      <td>0</td>\n",
       "      <td>0</td>\n",
       "      <td>0</td>\n",
       "      <td>0</td>\n",
       "      <td>0</td>\n",
       "      <td>0</td>\n",
       "      <td>0</td>\n",
       "      <td>Law!</td>\n",
       "    </tr>\n",
       "    <tr>\n",
       "      <th>54823</th>\n",
       "      <td>4</td>\n",
       "      <td>113</td>\n",
       "      <td>3</td>\n",
       "      <td>0</td>\n",
       "      <td>1</td>\n",
       "      <td>True</td>\n",
       "      <td>2471</td>\n",
       "      <td>1</td>\n",
       "      <td>0</td>\n",
       "      <td>0</td>\n",
       "      <td>...</td>\n",
       "      <td>0</td>\n",
       "      <td>0</td>\n",
       "      <td>0</td>\n",
       "      <td>0</td>\n",
       "      <td>0</td>\n",
       "      <td>0</td>\n",
       "      <td>0</td>\n",
       "      <td>0</td>\n",
       "      <td>0</td>\n",
       "      <td>Law!</td>\n",
       "    </tr>\n",
       "    <tr>\n",
       "      <th>84933</th>\n",
       "      <td>5</td>\n",
       "      <td>110</td>\n",
       "      <td>6</td>\n",
       "      <td>0</td>\n",
       "      <td>1</td>\n",
       "      <td>True</td>\n",
       "      <td>3610</td>\n",
       "      <td>1</td>\n",
       "      <td>1</td>\n",
       "      <td>0</td>\n",
       "      <td>...</td>\n",
       "      <td>0</td>\n",
       "      <td>0</td>\n",
       "      <td>0</td>\n",
       "      <td>0</td>\n",
       "      <td>0</td>\n",
       "      <td>0</td>\n",
       "      <td>0</td>\n",
       "      <td>0</td>\n",
       "      <td>0</td>\n",
       "      <td>Law!</td>\n",
       "    </tr>\n",
       "    <tr>\n",
       "      <th>108306</th>\n",
       "      <td>0</td>\n",
       "      <td>106</td>\n",
       "      <td>7</td>\n",
       "      <td>0</td>\n",
       "      <td>0</td>\n",
       "      <td>False</td>\n",
       "      <td>0</td>\n",
       "      <td>1</td>\n",
       "      <td>1</td>\n",
       "      <td>0</td>\n",
       "      <td>...</td>\n",
       "      <td>0</td>\n",
       "      <td>0</td>\n",
       "      <td>0</td>\n",
       "      <td>0</td>\n",
       "      <td>0</td>\n",
       "      <td>0</td>\n",
       "      <td>0</td>\n",
       "      <td>0</td>\n",
       "      <td>0</td>\n",
       "      <td>Law!</td>\n",
       "    </tr>\n",
       "    <tr>\n",
       "      <th>22983</th>\n",
       "      <td>0</td>\n",
       "      <td>109</td>\n",
       "      <td>7</td>\n",
       "      <td>0</td>\n",
       "      <td>1</td>\n",
       "      <td>False</td>\n",
       "      <td>8673</td>\n",
       "      <td>1</td>\n",
       "      <td>1</td>\n",
       "      <td>1</td>\n",
       "      <td>...</td>\n",
       "      <td>0</td>\n",
       "      <td>0</td>\n",
       "      <td>0</td>\n",
       "      <td>0</td>\n",
       "      <td>0</td>\n",
       "      <td>0</td>\n",
       "      <td>0</td>\n",
       "      <td>0</td>\n",
       "      <td>0</td>\n",
       "      <td>Law!</td>\n",
       "    </tr>\n",
       "  </tbody>\n",
       "</table>\n",
       "<p>214814 rows × 105 columns</p>\n",
       "</div>"
      ],
      "text/plain": [
       "        cosponsors  congress  sponsor_party_rank  sponsor_senior_party_member  \\\n",
       "31274            6       109                   7                            0   \n",
       "83033            1       110                   1                            5   \n",
       "34005            3       114                   2                           10   \n",
       "94756           55       111                   7                            5   \n",
       "100139          58       111                  20                            0   \n",
       "...            ...       ...                 ...                          ...   \n",
       "62196            1       112                   4                            0   \n",
       "54823            4       113                   3                            0   \n",
       "84933            5       110                   6                            0   \n",
       "108306           0       106                   7                            0   \n",
       "22983            0       109                   7                            0   \n",
       "\n",
       "        coms_match  bipartisan  summary_length  sponsor_majority  \\\n",
       "31274            0        True            2317                 1   \n",
       "83033            0       False            1196                 1   \n",
       "34005            1       False            6925                 0   \n",
       "94756            0       False           16181                 1   \n",
       "100139           0        True              84                 1   \n",
       "...            ...         ...             ...               ...   \n",
       "62196            0       False             279                 1   \n",
       "54823            1        True            2471                 1   \n",
       "84933            1        True            3610                 1   \n",
       "108306           0       False               0                 1   \n",
       "22983            1       False            8673                 1   \n",
       "\n",
       "        united_congress  sponsor_pres_party_match  ...  \\\n",
       "31274                 1                         1  ...   \n",
       "83033                 1                         0  ...   \n",
       "34005                 1                         1  ...   \n",
       "94756                 1                         0  ...   \n",
       "100139                1                         0  ...   \n",
       "...                 ...                       ...  ...   \n",
       "62196                 0                         0  ...   \n",
       "54823                 0                         0  ...   \n",
       "84933                 1                         0  ...   \n",
       "108306                1                         0  ...   \n",
       "22983                 1                         1  ...   \n",
       "\n",
       "        clean_committees_Rules and Administration  clean_committees_Science  \\\n",
       "31274                                           0                         0   \n",
       "83033                                           0                         0   \n",
       "34005                                           0                         0   \n",
       "94756                                           0                         0   \n",
       "100139                                          0                         0   \n",
       "...                                           ...                       ...   \n",
       "62196                                           0                         0   \n",
       "54823                                           0                         0   \n",
       "84933                                           0                         0   \n",
       "108306                                          0                         0   \n",
       "22983                                           0                         0   \n",
       "\n",
       "        clean_committees_Science and Technology  \\\n",
       "31274                                         0   \n",
       "83033                                         0   \n",
       "34005                                         0   \n",
       "94756                                         0   \n",
       "100139                                        0   \n",
       "...                                         ...   \n",
       "62196                                         0   \n",
       "54823                                         0   \n",
       "84933                                         0   \n",
       "108306                                        0   \n",
       "22983                                         0   \n",
       "\n",
       "        clean_committees_Science, Space, and Technology  \\\n",
       "31274                                                 0   \n",
       "83033                                                 0   \n",
       "34005                                                 0   \n",
       "94756                                                 0   \n",
       "100139                                                0   \n",
       "...                                                 ...   \n",
       "62196                                                 0   \n",
       "54823                                                 0   \n",
       "84933                                                 0   \n",
       "108306                                                0   \n",
       "22983                                                 0   \n",
       "\n",
       "        clean_committees_Small Business  \\\n",
       "31274                                 0   \n",
       "83033                                 0   \n",
       "34005                                 1   \n",
       "94756                                 0   \n",
       "100139                                0   \n",
       "...                                 ...   \n",
       "62196                                 0   \n",
       "54823                                 0   \n",
       "84933                                 0   \n",
       "108306                                0   \n",
       "22983                                 0   \n",
       "\n",
       "        clean_committees_Small Business and Entrepreneurship  \\\n",
       "31274                                                   0      \n",
       "83033                                                   0      \n",
       "34005                                                   0      \n",
       "94756                                                   0      \n",
       "100139                                                  0      \n",
       "...                                                   ...      \n",
       "62196                                                   0      \n",
       "54823                                                   0      \n",
       "84933                                                   0      \n",
       "108306                                                  0      \n",
       "22983                                                   0      \n",
       "\n",
       "        clean_committees_Standards of Official Conduct  \\\n",
       "31274                                                0   \n",
       "83033                                                0   \n",
       "34005                                                0   \n",
       "94756                                                0   \n",
       "100139                                               0   \n",
       "...                                                ...   \n",
       "62196                                                0   \n",
       "54823                                                0   \n",
       "84933                                                0   \n",
       "108306                                               0   \n",
       "22983                                                0   \n",
       "\n",
       "        clean_committees_Transportation and Infrastructure  \\\n",
       "31274                                                   0    \n",
       "83033                                                   0    \n",
       "34005                                                   0    \n",
       "94756                                                   0    \n",
       "100139                                                  0    \n",
       "...                                                   ...    \n",
       "62196                                                   0    \n",
       "54823                                                   0    \n",
       "84933                                                   0    \n",
       "108306                                                  0    \n",
       "22983                                                   0    \n",
       "\n",
       "        clean_committees_Ways and Means            final_status_5  \n",
       "31274                                 0        Passed one chamber  \n",
       "83033                                 0        Passed one chamber  \n",
       "34005                                 0  Referred to full chamber  \n",
       "94756                                 0  Referred to full chamber  \n",
       "100139                                0  Referred to full chamber  \n",
       "...                                 ...                       ...  \n",
       "62196                                 0                      Law!  \n",
       "54823                                 0                      Law!  \n",
       "84933                                 0                      Law!  \n",
       "108306                                0                      Law!  \n",
       "22983                                 0                      Law!  \n",
       "\n",
       "[214814 rows x 105 columns]"
      ]
     },
     "execution_count": 63,
     "metadata": {},
     "output_type": "execute_result"
    }
   ],
   "source": [
    "train"
   ]
  },
  {
   "cell_type": "code",
   "execution_count": 64,
   "metadata": {
    "ExecuteTime": {
     "end_time": "2020-03-11T17:47:36.781891Z",
     "start_time": "2020-03-11T17:47:36.464409Z"
    }
   },
   "outputs": [],
   "source": [
    "x_train = train.drop(\"final_status_5\", axis = 1)\n",
    "y_train = train.final_status_5"
   ]
  },
  {
   "cell_type": "code",
   "execution_count": 65,
   "metadata": {
    "ExecuteTime": {
     "end_time": "2020-03-11T17:47:51.544190Z",
     "start_time": "2020-03-11T17:47:36.783817Z"
    }
   },
   "outputs": [
    {
     "name": "stderr",
     "output_type": "stream",
     "text": [
      "/opt/anaconda3/lib/python3.7/site-packages/sklearn/linear_model/logistic.py:432: FutureWarning: Default solver will be changed to 'lbfgs' in 0.22. Specify a solver to silence this warning.\n",
      "  FutureWarning)\n",
      "/opt/anaconda3/lib/python3.7/site-packages/sklearn/linear_model/logistic.py:469: FutureWarning: Default multi_class will be changed to 'auto' in 0.22. Specify the multi_class option to silence this warning.\n",
      "  \"this warning.\", FutureWarning)\n"
     ]
    },
    {
     "name": "stdout",
     "output_type": "stream",
     "text": [
      "0.5799808206169058\n"
     ]
    },
    {
     "data": {
      "text/plain": [
       "0.5723830734966593"
      ]
     },
     "execution_count": 65,
     "metadata": {},
     "output_type": "execute_result"
    }
   ],
   "source": [
    "# Logistic Regression\n",
    "\n",
    "lr = LogisticRegression()\n",
    "\n",
    "lr.fit(x_train, y_train)\n",
    "\n",
    "print(lr.score(x_train, y_train))\n",
    "\n",
    "lr.score(x_test, y_test)"
   ]
  },
  {
   "cell_type": "code",
   "execution_count": 66,
   "metadata": {
    "ExecuteTime": {
     "end_time": "2020-03-11T17:47:51.778492Z",
     "start_time": "2020-03-11T17:47:51.547089Z"
    }
   },
   "outputs": [
    {
     "name": "stdout",
     "output_type": "stream",
     "text": [
      "('                          precision    recall  f1-score   support\\n'\n",
      " '\\n'\n",
      " '     Action in committee       0.50      0.66      0.57       867\\n'\n",
      " '                    Law!       0.42      0.57      0.49       947\\n'\n",
      " '      Passed one chamber       0.70      0.49      0.57      1637\\n'\n",
      " 'Referred to full chamber       0.67      0.62      0.64      1488\\n'\n",
      " '\\n'\n",
      " '                accuracy                           0.57      4939\\n'\n",
      " '               macro avg       0.57      0.58      0.57      4939\\n'\n",
      " '            weighted avg       0.60      0.57      0.58      4939\\n')\n"
     ]
    }
   ],
   "source": [
    "preds = lr.predict(x_test)\n",
    "\n",
    "preds\n",
    "\n",
    "clm = classification_report(y_test, preds)\n",
    "pp.pprint(clm)"
   ]
  },
  {
   "cell_type": "code",
   "execution_count": 67,
   "metadata": {
    "ExecuteTime": {
     "end_time": "2020-03-11T17:47:51.813431Z",
     "start_time": "2020-03-11T17:47:51.782836Z"
    }
   },
   "outputs": [
    {
     "data": {
      "text/plain": [
       "array([[571,  85,  59, 152],\n",
       "       [135, 544, 170,  98],\n",
       "       [171, 464, 794, 208],\n",
       "       [260, 201, 109, 918]])"
      ]
     },
     "execution_count": 67,
     "metadata": {},
     "output_type": "execute_result"
    }
   ],
   "source": [
    "cm = confusion_matrix(y_test, preds)\n",
    "cm"
   ]
  },
  {
   "cell_type": "markdown",
   "metadata": {},
   "source": [
    "# Random Forest Model"
   ]
  },
  {
   "cell_type": "code",
   "execution_count": 68,
   "metadata": {
    "ExecuteTime": {
     "end_time": "2020-03-11T17:47:58.990602Z",
     "start_time": "2020-03-11T17:47:51.816508Z"
    }
   },
   "outputs": [
    {
     "name": "stderr",
     "output_type": "stream",
     "text": [
      "/opt/anaconda3/lib/python3.7/site-packages/sklearn/ensemble/forest.py:245: FutureWarning: The default value of n_estimators will change from 10 in version 0.20 to 100 in 0.22.\n",
      "  \"10 in version 0.20 to 100 in 0.22.\", FutureWarning)\n"
     ]
    },
    {
     "name": "stdout",
     "output_type": "stream",
     "text": [
      "0.6802582699451618\n"
     ]
    },
    {
     "data": {
      "text/plain": [
       "0.623000607410407"
      ]
     },
     "execution_count": 68,
     "metadata": {},
     "output_type": "execute_result"
    }
   ],
   "source": [
    "rf = RandomForestClassifier(max_depth = 10)\n",
    "\n",
    "rf.fit(x_train, y_train)\n",
    "print(rf.score(x_train, y_train))\n",
    "\n",
    "rf.score(x_test, y_test)"
   ]
  },
  {
   "cell_type": "code",
   "execution_count": 69,
   "metadata": {
    "ExecuteTime": {
     "end_time": "2020-03-11T17:47:59.003438Z",
     "start_time": "2020-03-11T17:47:58.994003Z"
    }
   },
   "outputs": [],
   "source": [
    "#do a gridsearch "
   ]
  },
  {
   "cell_type": "code",
   "execution_count": 70,
   "metadata": {
    "ExecuteTime": {
     "end_time": "2020-03-11T17:47:59.225932Z",
     "start_time": "2020-03-11T17:47:59.005982Z"
    }
   },
   "outputs": [
    {
     "name": "stdout",
     "output_type": "stream",
     "text": [
      "('                          precision    recall  f1-score   support\\n'\n",
      " '\\n'\n",
      " '     Action in committee       0.54      0.66      0.59       867\\n'\n",
      " '                    Law!       0.47      0.46      0.47       947\\n'\n",
      " '      Passed one chamber       0.69      0.70      0.69      1637\\n'\n",
      " 'Referred to full chamber       0.71      0.62      0.66      1488\\n'\n",
      " '\\n'\n",
      " '                accuracy                           0.62      4939\\n'\n",
      " '               macro avg       0.60      0.61      0.60      4939\\n'\n",
      " '            weighted avg       0.63      0.62      0.62      4939\\n')\n"
     ]
    }
   ],
   "source": [
    "preds = rf.predict(x_test)\n",
    "\n",
    "clm = classification_report(y_test, preds)\n",
    "pp.pprint(clm)"
   ]
  },
  {
   "cell_type": "code",
   "execution_count": 71,
   "metadata": {
    "ExecuteTime": {
     "end_time": "2020-03-11T17:47:59.255248Z",
     "start_time": "2020-03-11T17:47:59.228404Z"
    }
   },
   "outputs": [
    {
     "data": {
      "text/plain": [
       "array([[ 569,   82,   96,  120],\n",
       "       [ 113,  439,  295,  100],\n",
       "       [  85,  251, 1152,  149],\n",
       "       [ 279,  155,  137,  917]])"
      ]
     },
     "execution_count": 71,
     "metadata": {},
     "output_type": "execute_result"
    }
   ],
   "source": [
    "cm = confusion_matrix(y_test, preds)\n",
    "cm"
   ]
  },
  {
   "cell_type": "code",
   "execution_count": 72,
   "metadata": {
    "ExecuteTime": {
     "end_time": "2020-03-11T17:47:59.498017Z",
     "start_time": "2020-03-11T17:47:59.258538Z"
    }
   },
   "outputs": [
    {
     "data": {
      "image/png": "[encoded data removed]",
      "text/plain": [
       "<Figure size 432x288 with 1 Axes>"
      ]
     },
     "metadata": {
      "needs_background": "light"
     },
     "output_type": "display_data"
    }
   ],
   "source": [
    "plt.xticks(rotation = 45)\n",
    "sns.countplot(y_test, color = \"crimson\", alpha = .5)\n",
    "sns.countplot(preds, color = \"slateblue\", alpha = .5);"
   ]
  },
  {
   "cell_type": "code",
   "execution_count": 75,
   "metadata": {
    "ExecuteTime": {
     "end_time": "2020-03-11T19:32:10.047183Z",
     "start_time": "2020-03-11T19:32:09.763344Z"
    }
   },
   "outputs": [
    {
     "data": {
      "image/png": "[encoded data removed]",
      "text/plain": [
       "<Figure size 576x576 with 1 Axes>"
      ]
     },
     "metadata": {
      "needs_background": "light"
     },
     "output_type": "display_data"
    }
   ],
   "source": [
    "plt.figure(figsize= (8, 8))\n",
    "plt.title(\"Four Category Prediction: Predictions vs Actual\")\n",
    "plt.xticks(rotation = 25, horizontalalignment=\"right\") \n",
    "sns.countplot(y_test, color = \"turquoise\", alpha = .75, label = \"Actual\", orient=\"v\")\n",
    "sns.countplot(preds, color = \"blue\", alpha = .5, label = \"Predicted\", orient = \"v\")\n",
    "plt.legend();"
   ]
  },
  {
   "cell_type": "code",
   "execution_count": null,
   "metadata": {},
   "outputs": [],
   "source": []
  }
 ],
 "metadata": {
  "kernelspec": {
   "display_name": "Python 3",
   "language": "python",
   "name": "python3"
  },
  "language_info": {
   "codemirror_mode": {
    "name": "ipython",
    "version": 3
   },
   "file_extension": ".py",
   "mimetype": "text/x-python",
   "name": "python",
   "nbconvert_exporter": "python",
   "pygments_lexer": "ipython3",
   "version": "3.7.4"
  }
 },
 "nbformat": 4,
 "nbformat_minor": 2
}
