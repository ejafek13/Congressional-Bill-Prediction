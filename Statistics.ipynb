{
 "cells": [
  {
   "cell_type": "code",
   "execution_count": 1,
   "metadata": {
    "ExecuteTime": {
     "end_time": "2020-03-11T01:18:53.195546Z",
     "start_time": "2020-03-11T01:18:50.429706Z"
    }
   },
   "outputs": [],
   "source": [
    "import pandas as pd\n",
    "import matplotlib.pyplot as plt\n",
    "import seaborn as sns\n",
    "import numpy as np\n",
    "from sklearn.preprocessing import StandardScaler\n",
    "\n",
    "import statsmodels.api as sm\n",
    "from sklearn.feature_selection import f_classif"
   ]
  },
  {
   "cell_type": "code",
   "execution_count": 2,
   "metadata": {
    "ExecuteTime": {
     "end_time": "2020-03-11T01:18:55.203587Z",
     "start_time": "2020-03-11T01:18:53.197672Z"
    }
   },
   "outputs": [
    {
     "data": {
      "text/html": [
       "<div>\n",
       "<style scoped>\n",
       "    .dataframe tbody tr th:only-of-type {\n",
       "        vertical-align: middle;\n",
       "    }\n",
       "\n",
       "    .dataframe tbody tr th {\n",
       "        vertical-align: top;\n",
       "    }\n",
       "\n",
       "    .dataframe thead th {\n",
       "        text-align: right;\n",
       "    }\n",
       "</style>\n",
       "<table border=\"1\" class=\"dataframe\">\n",
       "  <thead>\n",
       "    <tr style=\"text-align: right;\">\n",
       "      <th></th>\n",
       "      <th>bill_id</th>\n",
       "      <th>title</th>\n",
       "      <th>sponsor_title</th>\n",
       "      <th>sponsor_name</th>\n",
       "      <th>sponsor_state</th>\n",
       "      <th>introduced_date</th>\n",
       "      <th>cosponsors</th>\n",
       "      <th>cosponsors_by_party</th>\n",
       "      <th>committees</th>\n",
       "      <th>summary</th>\n",
       "      <th>...</th>\n",
       "      <th>clean_committees_Rules and Administration</th>\n",
       "      <th>clean_committees_Science</th>\n",
       "      <th>clean_committees_Science and Technology</th>\n",
       "      <th>clean_committees_Science, Space, and Technology</th>\n",
       "      <th>clean_committees_Small Business</th>\n",
       "      <th>clean_committees_Small Business and Entrepreneurship</th>\n",
       "      <th>clean_committees_Standards of Official Conduct</th>\n",
       "      <th>clean_committees_Transportation and Infrastructure</th>\n",
       "      <th>clean_committees_Ways and Means</th>\n",
       "      <th>law_Law</th>\n",
       "    </tr>\n",
       "  </thead>\n",
       "  <tbody>\n",
       "    <tr>\n",
       "      <th>0</th>\n",
       "      <td>s1-115</td>\n",
       "      <td>An original bill to provide for reconciliation...</td>\n",
       "      <td>Sen.</td>\n",
       "      <td>Michael B. Enzi</td>\n",
       "      <td>WY</td>\n",
       "      <td>2017-11-28</td>\n",
       "      <td>0</td>\n",
       "      <td>{}</td>\n",
       "      <td>['Budget']</td>\n",
       "      <td>(This measure has not been amended since it wa...</td>\n",
       "      <td>...</td>\n",
       "      <td>0</td>\n",
       "      <td>0</td>\n",
       "      <td>0</td>\n",
       "      <td>0</td>\n",
       "      <td>0</td>\n",
       "      <td>0</td>\n",
       "      <td>0</td>\n",
       "      <td>0</td>\n",
       "      <td>0</td>\n",
       "      <td>0</td>\n",
       "    </tr>\n",
       "    <tr>\n",
       "      <th>1</th>\n",
       "      <td>sconres3-115</td>\n",
       "      <td>A concurrent resolution setting forth the cong...</td>\n",
       "      <td>Sen.</td>\n",
       "      <td>Michael B. Enzi</td>\n",
       "      <td>WY</td>\n",
       "      <td>2017-01-03</td>\n",
       "      <td>0</td>\n",
       "      <td>{}</td>\n",
       "      <td>['Budget']</td>\n",
       "      <td>(This measure has not been amended since it wa...</td>\n",
       "      <td>...</td>\n",
       "      <td>0</td>\n",
       "      <td>0</td>\n",
       "      <td>0</td>\n",
       "      <td>0</td>\n",
       "      <td>0</td>\n",
       "      <td>0</td>\n",
       "      <td>0</td>\n",
       "      <td>0</td>\n",
       "      <td>0</td>\n",
       "      <td>0</td>\n",
       "    </tr>\n",
       "    <tr>\n",
       "      <th>2</th>\n",
       "      <td>s512-115</td>\n",
       "      <td>A bill to modernize the regulation of nuclear ...</td>\n",
       "      <td>Sen.</td>\n",
       "      <td>John Barrasso</td>\n",
       "      <td>WY</td>\n",
       "      <td>2017-03-02</td>\n",
       "      <td>18</td>\n",
       "      <td>{'D': 8, 'R': 10}</td>\n",
       "      <td>['Environment and Public Works']</td>\n",
       "      <td>Nuclear Energy Innovation and Modernization Ac...</td>\n",
       "      <td>...</td>\n",
       "      <td>0</td>\n",
       "      <td>0</td>\n",
       "      <td>0</td>\n",
       "      <td>0</td>\n",
       "      <td>0</td>\n",
       "      <td>0</td>\n",
       "      <td>0</td>\n",
       "      <td>0</td>\n",
       "      <td>0</td>\n",
       "      <td>1</td>\n",
       "    </tr>\n",
       "    <tr>\n",
       "      <th>3</th>\n",
       "      <td>hres694-115</td>\n",
       "      <td>Providing for consideration of the bill (H.R. ...</td>\n",
       "      <td>Rep.</td>\n",
       "      <td>Liz Cheney</td>\n",
       "      <td>WY</td>\n",
       "      <td>2018-01-16</td>\n",
       "      <td>0</td>\n",
       "      <td>{}</td>\n",
       "      <td>['Rules']</td>\n",
       "      <td>Sets forth the rule for consideration of the b...</td>\n",
       "      <td>...</td>\n",
       "      <td>0</td>\n",
       "      <td>0</td>\n",
       "      <td>0</td>\n",
       "      <td>0</td>\n",
       "      <td>0</td>\n",
       "      <td>0</td>\n",
       "      <td>0</td>\n",
       "      <td>0</td>\n",
       "      <td>0</td>\n",
       "      <td>0</td>\n",
       "    </tr>\n",
       "    <tr>\n",
       "      <th>4</th>\n",
       "      <td>s1250-115</td>\n",
       "      <td>A bill to amend the Indian Health Care Improve...</td>\n",
       "      <td>Sen.</td>\n",
       "      <td>John Barrasso</td>\n",
       "      <td>WY</td>\n",
       "      <td>2017-05-25</td>\n",
       "      <td>3</td>\n",
       "      <td>{'R': 3}</td>\n",
       "      <td>['Indian Affairs']</td>\n",
       "      <td>Restoring Accountability in the Indian Health ...</td>\n",
       "      <td>...</td>\n",
       "      <td>0</td>\n",
       "      <td>0</td>\n",
       "      <td>0</td>\n",
       "      <td>0</td>\n",
       "      <td>0</td>\n",
       "      <td>0</td>\n",
       "      <td>0</td>\n",
       "      <td>0</td>\n",
       "      <td>0</td>\n",
       "      <td>0</td>\n",
       "    </tr>\n",
       "    <tr>\n",
       "      <th>...</th>\n",
       "      <td>...</td>\n",
       "      <td>...</td>\n",
       "      <td>...</td>\n",
       "      <td>...</td>\n",
       "      <td>...</td>\n",
       "      <td>...</td>\n",
       "      <td>...</td>\n",
       "      <td>...</td>\n",
       "      <td>...</td>\n",
       "      <td>...</td>\n",
       "      <td>...</td>\n",
       "      <td>...</td>\n",
       "      <td>...</td>\n",
       "      <td>...</td>\n",
       "      <td>...</td>\n",
       "      <td>...</td>\n",
       "      <td>...</td>\n",
       "      <td>...</td>\n",
       "      <td>...</td>\n",
       "      <td>...</td>\n",
       "      <td>...</td>\n",
       "    </tr>\n",
       "    <tr>\n",
       "      <th>112495</th>\n",
       "      <td>hr1702-106</td>\n",
       "      <td>To amend title 18, United States Code, to ban ...</td>\n",
       "      <td>Rep.</td>\n",
       "      <td>Patsy T. Mink</td>\n",
       "      <td>HI</td>\n",
       "      <td>1999-05-05</td>\n",
       "      <td>13</td>\n",
       "      <td>{'D': 13}</td>\n",
       "      <td>['Judiciary']</td>\n",
       "      <td>Amends the Federal criminal code to make it un...</td>\n",
       "      <td>...</td>\n",
       "      <td>0</td>\n",
       "      <td>0</td>\n",
       "      <td>0</td>\n",
       "      <td>0</td>\n",
       "      <td>0</td>\n",
       "      <td>0</td>\n",
       "      <td>0</td>\n",
       "      <td>0</td>\n",
       "      <td>0</td>\n",
       "      <td>0</td>\n",
       "    </tr>\n",
       "    <tr>\n",
       "      <th>112496</th>\n",
       "      <td>hr1748-106</td>\n",
       "      <td>To amend title 5, United States Code, to incre...</td>\n",
       "      <td>Rep.</td>\n",
       "      <td>Patsy T. Mink</td>\n",
       "      <td>HI</td>\n",
       "      <td>1999-05-11</td>\n",
       "      <td>2</td>\n",
       "      <td>{'D': 2}</td>\n",
       "      <td>['Government Reform']</td>\n",
       "      <td>Amends Federal retirement provisions to increa...</td>\n",
       "      <td>...</td>\n",
       "      <td>0</td>\n",
       "      <td>0</td>\n",
       "      <td>0</td>\n",
       "      <td>0</td>\n",
       "      <td>0</td>\n",
       "      <td>0</td>\n",
       "      <td>0</td>\n",
       "      <td>0</td>\n",
       "      <td>0</td>\n",
       "      <td>0</td>\n",
       "    </tr>\n",
       "    <tr>\n",
       "      <th>112497</th>\n",
       "      <td>sres32-106</td>\n",
       "      <td>A resolution to express the sense of the Senat...</td>\n",
       "      <td>NaN</td>\n",
       "      <td>Daniel K. Inouye</td>\n",
       "      <td>HI</td>\n",
       "      <td>1999-02-04</td>\n",
       "      <td>0</td>\n",
       "      <td>{}</td>\n",
       "      <td>['Commerce, Science, and Transportation']</td>\n",
       "      <td>NaN</td>\n",
       "      <td>...</td>\n",
       "      <td>0</td>\n",
       "      <td>0</td>\n",
       "      <td>0</td>\n",
       "      <td>0</td>\n",
       "      <td>0</td>\n",
       "      <td>0</td>\n",
       "      <td>0</td>\n",
       "      <td>0</td>\n",
       "      <td>0</td>\n",
       "      <td>0</td>\n",
       "    </tr>\n",
       "    <tr>\n",
       "      <th>112498</th>\n",
       "      <td>hr3451-106</td>\n",
       "      <td>To amend the Internal Revenue Code of 1986 to ...</td>\n",
       "      <td>NaN</td>\n",
       "      <td>Neil Abercrombie</td>\n",
       "      <td>HI</td>\n",
       "      <td>1999-11-18</td>\n",
       "      <td>0</td>\n",
       "      <td>{}</td>\n",
       "      <td>['Ways and Means']</td>\n",
       "      <td>NaN</td>\n",
       "      <td>...</td>\n",
       "      <td>0</td>\n",
       "      <td>0</td>\n",
       "      <td>0</td>\n",
       "      <td>0</td>\n",
       "      <td>0</td>\n",
       "      <td>0</td>\n",
       "      <td>0</td>\n",
       "      <td>0</td>\n",
       "      <td>1</td>\n",
       "      <td>0</td>\n",
       "    </tr>\n",
       "    <tr>\n",
       "      <th>112499</th>\n",
       "      <td>hres415-106</td>\n",
       "      <td>Expressing the sense of the House of Represent...</td>\n",
       "      <td>Rep.</td>\n",
       "      <td>Patsy T. Mink</td>\n",
       "      <td>HI</td>\n",
       "      <td>2000-02-02</td>\n",
       "      <td>15</td>\n",
       "      <td>{'D': 12, 'R': 3}</td>\n",
       "      <td>['Resources']</td>\n",
       "      <td>Expresses the sense of the House of Representa...</td>\n",
       "      <td>...</td>\n",
       "      <td>0</td>\n",
       "      <td>0</td>\n",
       "      <td>0</td>\n",
       "      <td>0</td>\n",
       "      <td>0</td>\n",
       "      <td>0</td>\n",
       "      <td>0</td>\n",
       "      <td>0</td>\n",
       "      <td>0</td>\n",
       "      <td>0</td>\n",
       "    </tr>\n",
       "  </tbody>\n",
       "</table>\n",
       "<p>112500 rows × 123 columns</p>\n",
       "</div>"
      ],
      "text/plain": [
       "             bill_id                                              title  \\\n",
       "0             s1-115  An original bill to provide for reconciliation...   \n",
       "1       sconres3-115  A concurrent resolution setting forth the cong...   \n",
       "2           s512-115  A bill to modernize the regulation of nuclear ...   \n",
       "3        hres694-115  Providing for consideration of the bill (H.R. ...   \n",
       "4          s1250-115  A bill to amend the Indian Health Care Improve...   \n",
       "...              ...                                                ...   \n",
       "112495    hr1702-106  To amend title 18, United States Code, to ban ...   \n",
       "112496    hr1748-106  To amend title 5, United States Code, to incre...   \n",
       "112497    sres32-106  A resolution to express the sense of the Senat...   \n",
       "112498    hr3451-106  To amend the Internal Revenue Code of 1986 to ...   \n",
       "112499   hres415-106  Expressing the sense of the House of Represent...   \n",
       "\n",
       "       sponsor_title      sponsor_name sponsor_state introduced_date  \\\n",
       "0               Sen.   Michael B. Enzi            WY      2017-11-28   \n",
       "1               Sen.   Michael B. Enzi            WY      2017-01-03   \n",
       "2               Sen.     John Barrasso            WY      2017-03-02   \n",
       "3               Rep.        Liz Cheney            WY      2018-01-16   \n",
       "4               Sen.     John Barrasso            WY      2017-05-25   \n",
       "...              ...               ...           ...             ...   \n",
       "112495          Rep.     Patsy T. Mink            HI      1999-05-05   \n",
       "112496          Rep.     Patsy T. Mink            HI      1999-05-11   \n",
       "112497           NaN  Daniel K. Inouye            HI      1999-02-04   \n",
       "112498           NaN  Neil Abercrombie            HI      1999-11-18   \n",
       "112499          Rep.     Patsy T. Mink            HI      2000-02-02   \n",
       "\n",
       "        cosponsors cosponsors_by_party  \\\n",
       "0                0                  {}   \n",
       "1                0                  {}   \n",
       "2               18   {'D': 8, 'R': 10}   \n",
       "3                0                  {}   \n",
       "4                3            {'R': 3}   \n",
       "...            ...                 ...   \n",
       "112495          13           {'D': 13}   \n",
       "112496           2            {'D': 2}   \n",
       "112497           0                  {}   \n",
       "112498           0                  {}   \n",
       "112499          15   {'D': 12, 'R': 3}   \n",
       "\n",
       "                                       committees  \\\n",
       "0                                      ['Budget']   \n",
       "1                                      ['Budget']   \n",
       "2                ['Environment and Public Works']   \n",
       "3                                       ['Rules']   \n",
       "4                              ['Indian Affairs']   \n",
       "...                                           ...   \n",
       "112495                              ['Judiciary']   \n",
       "112496                      ['Government Reform']   \n",
       "112497  ['Commerce, Science, and Transportation']   \n",
       "112498                         ['Ways and Means']   \n",
       "112499                              ['Resources']   \n",
       "\n",
       "                                                  summary  ...  \\\n",
       "0       (This measure has not been amended since it wa...  ...   \n",
       "1       (This measure has not been amended since it wa...  ...   \n",
       "2       Nuclear Energy Innovation and Modernization Ac...  ...   \n",
       "3       Sets forth the rule for consideration of the b...  ...   \n",
       "4       Restoring Accountability in the Indian Health ...  ...   \n",
       "...                                                   ...  ...   \n",
       "112495  Amends the Federal criminal code to make it un...  ...   \n",
       "112496  Amends Federal retirement provisions to increa...  ...   \n",
       "112497                                                NaN  ...   \n",
       "112498                                                NaN  ...   \n",
       "112499  Expresses the sense of the House of Representa...  ...   \n",
       "\n",
       "       clean_committees_Rules and Administration  clean_committees_Science  \\\n",
       "0                                              0                         0   \n",
       "1                                              0                         0   \n",
       "2                                              0                         0   \n",
       "3                                              0                         0   \n",
       "4                                              0                         0   \n",
       "...                                          ...                       ...   \n",
       "112495                                         0                         0   \n",
       "112496                                         0                         0   \n",
       "112497                                         0                         0   \n",
       "112498                                         0                         0   \n",
       "112499                                         0                         0   \n",
       "\n",
       "       clean_committees_Science and Technology  \\\n",
       "0                                            0   \n",
       "1                                            0   \n",
       "2                                            0   \n",
       "3                                            0   \n",
       "4                                            0   \n",
       "...                                        ...   \n",
       "112495                                       0   \n",
       "112496                                       0   \n",
       "112497                                       0   \n",
       "112498                                       0   \n",
       "112499                                       0   \n",
       "\n",
       "       clean_committees_Science, Space, and Technology  \\\n",
       "0                                                    0   \n",
       "1                                                    0   \n",
       "2                                                    0   \n",
       "3                                                    0   \n",
       "4                                                    0   \n",
       "...                                                ...   \n",
       "112495                                               0   \n",
       "112496                                               0   \n",
       "112497                                               0   \n",
       "112498                                               0   \n",
       "112499                                               0   \n",
       "\n",
       "       clean_committees_Small Business  \\\n",
       "0                                    0   \n",
       "1                                    0   \n",
       "2                                    0   \n",
       "3                                    0   \n",
       "4                                    0   \n",
       "...                                ...   \n",
       "112495                               0   \n",
       "112496                               0   \n",
       "112497                               0   \n",
       "112498                               0   \n",
       "112499                               0   \n",
       "\n",
       "       clean_committees_Small Business and Entrepreneurship  \\\n",
       "0                                                       0     \n",
       "1                                                       0     \n",
       "2                                                       0     \n",
       "3                                                       0     \n",
       "4                                                       0     \n",
       "...                                                   ...     \n",
       "112495                                                  0     \n",
       "112496                                                  0     \n",
       "112497                                                  0     \n",
       "112498                                                  0     \n",
       "112499                                                  0     \n",
       "\n",
       "       clean_committees_Standards of Official Conduct  \\\n",
       "0                                                   0   \n",
       "1                                                   0   \n",
       "2                                                   0   \n",
       "3                                                   0   \n",
       "4                                                   0   \n",
       "...                                               ...   \n",
       "112495                                              0   \n",
       "112496                                              0   \n",
       "112497                                              0   \n",
       "112498                                              0   \n",
       "112499                                              0   \n",
       "\n",
       "        clean_committees_Transportation and Infrastructure  \\\n",
       "0                                                       0    \n",
       "1                                                       0    \n",
       "2                                                       0    \n",
       "3                                                       0    \n",
       "4                                                       0    \n",
       "...                                                   ...    \n",
       "112495                                                  0    \n",
       "112496                                                  0    \n",
       "112497                                                  0    \n",
       "112498                                                  0    \n",
       "112499                                                  0    \n",
       "\n",
       "        clean_committees_Ways and Means  law_Law  \n",
       "0                                     0        0  \n",
       "1                                     0        0  \n",
       "2                                     0        1  \n",
       "3                                     0        0  \n",
       "4                                     0        0  \n",
       "...                                 ...      ...  \n",
       "112495                                0        0  \n",
       "112496                                0        0  \n",
       "112497                                0        0  \n",
       "112498                                1        0  \n",
       "112499                                0        0  \n",
       "\n",
       "[112500 rows x 123 columns]"
      ]
     },
     "execution_count": 2,
     "metadata": {},
     "output_type": "execute_result"
    }
   ],
   "source": [
    "df = pd.read_csv(\"./Data/final_dummies_add.csv\")\n",
    "df"
   ]
  },
  {
   "cell_type": "code",
   "execution_count": 3,
   "metadata": {
    "ExecuteTime": {
     "end_time": "2020-03-11T01:18:55.267266Z",
     "start_time": "2020-03-11T01:18:55.206313Z"
    }
   },
   "outputs": [],
   "source": [
    "df.final_status_coms = df.final_status_coms.map(lambda x: 1 if x == \"Action taken on bill\" else 0)"
   ]
  },
  {
   "cell_type": "code",
   "execution_count": 4,
   "metadata": {
    "ExecuteTime": {
     "end_time": "2020-03-11T01:18:57.564652Z",
     "start_time": "2020-03-11T01:18:55.270225Z"
    }
   },
   "outputs": [],
   "source": [
    "corr = df.corr()"
   ]
  },
  {
   "cell_type": "code",
   "execution_count": 5,
   "metadata": {
    "ExecuteTime": {
     "end_time": "2020-03-11T01:18:57.568673Z",
     "start_time": "2020-03-11T01:18:57.566500Z"
    }
   },
   "outputs": [],
   "source": [
    "# Correlation with Law"
   ]
  },
  {
   "cell_type": "code",
   "execution_count": 6,
   "metadata": {
    "ExecuteTime": {
     "end_time": "2020-03-11T01:18:57.579565Z",
     "start_time": "2020-03-11T01:18:57.570589Z"
    }
   },
   "outputs": [
    {
     "data": {
      "text/plain": [
       "law_Law                                                    1.000000\n",
       "final_status_coms                                          0.411012\n",
       "clean_committees_Multiple                                  0.177496\n",
       "summary_length                                             0.118123\n",
       "bipartisan                                                 0.082906\n",
       "                                                             ...   \n",
       "primary_subject_Foreign trade and international finance   -0.041930\n",
       "primary_subject_Taxation                                  -0.046980\n",
       "clean_committees_Ways and Means                           -0.050848\n",
       "bill_type_hres                                            -0.055703\n",
       "clean_committees_Finance                                  -0.056812\n",
       "Name: law_Law, Length: 106, dtype: float64"
      ]
     },
     "execution_count": 6,
     "metadata": {},
     "output_type": "execute_result"
    }
   ],
   "source": [
    "corr['law_Law'].sort_values(ascending = False)"
   ]
  },
  {
   "cell_type": "code",
   "execution_count": 7,
   "metadata": {
    "ExecuteTime": {
     "end_time": "2020-03-11T01:18:57.583408Z",
     "start_time": "2020-03-11T01:18:57.581178Z"
    }
   },
   "outputs": [],
   "source": [
    "# Correlation with getting out of committee"
   ]
  },
  {
   "cell_type": "code",
   "execution_count": 32,
   "metadata": {
    "ExecuteTime": {
     "end_time": "2020-03-11T01:22:44.580800Z",
     "start_time": "2020-03-11T01:22:44.574832Z"
    }
   },
   "outputs": [
    {
     "data": {
      "text/plain": [
       "bill_type_sres                                            -0.056951\n",
       "region_Northeast                                          -0.057055\n",
       "bill_type_hr                                              -0.062368\n",
       "clean_committees_Judiciary                                -0.064513\n",
       "clean_committees_Energy and Commerce                      -0.066617\n",
       "primary_subject_Health                                    -0.081773\n",
       "primary_subject_Foreign trade and international finance   -0.107087\n",
       "primary_subject_Taxation                                  -0.107896\n",
       "clean_committees_Finance                                  -0.121490\n",
       "clean_committees_Ways and Means                           -0.138252\n",
       "Name: final_status_coms, dtype: float64"
      ]
     },
     "execution_count": 32,
     "metadata": {},
     "output_type": "execute_result"
    }
   ],
   "source": [
    "corr['final_status_coms'].sort_values(ascending = False).tail(10)"
   ]
  },
  {
   "cell_type": "code",
   "execution_count": 9,
   "metadata": {
    "ExecuteTime": {
     "end_time": "2020-03-11T01:18:57.600361Z",
     "start_time": "2020-03-11T01:18:57.595841Z"
    }
   },
   "outputs": [],
   "source": [
    "top_features = corr[abs(corr['final_status_coms']) >=.05].drop([\"law_Law\", \"final_status_coms\"], axis = 1).index"
   ]
  },
  {
   "cell_type": "code",
   "execution_count": 10,
   "metadata": {
    "ExecuteTime": {
     "end_time": "2020-03-11T01:18:57.608683Z",
     "start_time": "2020-03-11T01:18:57.602999Z"
    }
   },
   "outputs": [
    {
     "data": {
      "text/plain": [
       "Index(['cosponsors', 'final_status_coms', 'sponsor_party_rank', 'coms_match',\n",
       "       'bipartisan', 'summary_length', 'sponsor_majority',\n",
       "       'sponsor_pres_party_match', 'bill_type_hr', 'bill_type_sres',\n",
       "       'sponsor_party_R', 'region_Northeast', 'region_West',\n",
       "       'primary_subject_Commemorations', 'primary_subject_Congress',\n",
       "       'primary_subject_Education',\n",
       "       'primary_subject_Foreign trade and international finance',\n",
       "       'primary_subject_Health',\n",
       "       'primary_subject_Public Lands and Natural Resources',\n",
       "       'primary_subject_Public lands and natural resources',\n",
       "       'primary_subject_Taxation', 'clean_committees_Appropriations',\n",
       "       'clean_committees_Energy and Commerce',\n",
       "       'clean_committees_Energy and Natural Resources',\n",
       "       'clean_committees_Finance',\n",
       "       'clean_committees_Homeland Security and Governmental Affairs',\n",
       "       'clean_committees_Indian Affairs', 'clean_committees_Judiciary',\n",
       "       'clean_committees_Multiple', 'clean_committees_Rules',\n",
       "       'clean_committees_Ways and Means', 'law_Law'],\n",
       "      dtype='object')"
      ]
     },
     "execution_count": 10,
     "metadata": {},
     "output_type": "execute_result"
    }
   ],
   "source": [
    "top_features"
   ]
  },
  {
   "cell_type": "code",
   "execution_count": 11,
   "metadata": {
    "ExecuteTime": {
     "end_time": "2020-03-11T01:18:57.614643Z",
     "start_time": "2020-03-11T01:18:57.611438Z"
    }
   },
   "outputs": [],
   "source": [
    "#features with top correlation"
   ]
  },
  {
   "cell_type": "code",
   "execution_count": 12,
   "metadata": {
    "ExecuteTime": {
     "end_time": "2020-03-11T01:18:57.623614Z",
     "start_time": "2020-03-11T01:18:57.617937Z"
    }
   },
   "outputs": [],
   "source": [
    "top_features = corr[abs(corr['final_status_coms']) >=.05].drop([\"law_Law\", \"final_status_coms\"]).T.columns"
   ]
  },
  {
   "cell_type": "code",
   "execution_count": 13,
   "metadata": {
    "ExecuteTime": {
     "end_time": "2020-03-11T01:18:57.630790Z",
     "start_time": "2020-03-11T01:18:57.626306Z"
    }
   },
   "outputs": [
    {
     "data": {
      "text/plain": [
       "Index(['cosponsors', 'sponsor_party_rank', 'coms_match', 'bipartisan',\n",
       "       'summary_length', 'sponsor_majority', 'sponsor_pres_party_match',\n",
       "       'bill_type_hr', 'bill_type_sres', 'sponsor_party_R', 'region_Northeast',\n",
       "       'region_West', 'primary_subject_Commemorations',\n",
       "       'primary_subject_Congress', 'primary_subject_Education',\n",
       "       'primary_subject_Foreign trade and international finance',\n",
       "       'primary_subject_Health',\n",
       "       'primary_subject_Public Lands and Natural Resources',\n",
       "       'primary_subject_Public lands and natural resources',\n",
       "       'primary_subject_Taxation', 'clean_committees_Appropriations',\n",
       "       'clean_committees_Energy and Commerce',\n",
       "       'clean_committees_Energy and Natural Resources',\n",
       "       'clean_committees_Finance',\n",
       "       'clean_committees_Homeland Security and Governmental Affairs',\n",
       "       'clean_committees_Indian Affairs', 'clean_committees_Judiciary',\n",
       "       'clean_committees_Multiple', 'clean_committees_Rules',\n",
       "       'clean_committees_Ways and Means'],\n",
       "      dtype='object')"
      ]
     },
     "execution_count": 13,
     "metadata": {},
     "output_type": "execute_result"
    }
   ],
   "source": [
    "top_features"
   ]
  },
  {
   "cell_type": "markdown",
   "metadata": {
    "ExecuteTime": {
     "end_time": "2020-03-09T19:52:29.002560Z",
     "start_time": "2020-03-09T19:52:29.000259Z"
    }
   },
   "source": [
    "# Different distributions?"
   ]
  },
  {
   "cell_type": "code",
   "execution_count": 14,
   "metadata": {
    "ExecuteTime": {
     "end_time": "2020-03-11T01:18:57.635590Z",
     "start_time": "2020-03-11T01:18:57.632820Z"
    }
   },
   "outputs": [],
   "source": [
    "from scipy.stats import ks_2samp\n",
    "#is the distribution of bipartisan laws different from the distribution of non bipartisan"
   ]
  },
  {
   "cell_type": "markdown",
   "metadata": {
    "ExecuteTime": {
     "end_time": "2020-03-09T19:52:59.774455Z",
     "start_time": "2020-03-09T19:52:59.772263Z"
    }
   },
   "source": [
    "# Using f_classif to see p-values"
   ]
  },
  {
   "cell_type": "code",
   "execution_count": 15,
   "metadata": {
    "ExecuteTime": {
     "end_time": "2020-03-11T01:18:57.738280Z",
     "start_time": "2020-03-11T01:18:57.638337Z"
    }
   },
   "outputs": [],
   "source": [
    "x = df.select_dtypes(int, float).drop(columns = [\"law_Law\", \"final_status_coms\"], axis = 1)\n",
    "y = df.law_Law"
   ]
  },
  {
   "cell_type": "code",
   "execution_count": 16,
   "metadata": {
    "ExecuteTime": {
     "end_time": "2020-03-11T01:18:57.743989Z",
     "start_time": "2020-03-11T01:18:57.740925Z"
    }
   },
   "outputs": [],
   "source": [
    "import pprint as pp"
   ]
  },
  {
   "cell_type": "code",
   "execution_count": 17,
   "metadata": {
    "ExecuteTime": {
     "end_time": "2020-03-11T01:18:57.884724Z",
     "start_time": "2020-03-11T01:18:57.746435Z"
    }
   },
   "outputs": [],
   "source": [
    "values = (f_classif(x, y))"
   ]
  },
  {
   "cell_type": "code",
   "execution_count": 18,
   "metadata": {
    "ExecuteTime": {
     "end_time": "2020-03-11T01:18:57.900988Z",
     "start_time": "2020-03-11T01:18:57.887073Z"
    }
   },
   "outputs": [
    {
     "data": {
      "text/plain": [
       "(array([2.26169909e+02, 1.35867886e+02, 5.39005183e+01, 8.90216622e+01,\n",
       "        5.46524357e+01, 1.59191446e+03, 6.69817644e+02, 5.40980659e+01,\n",
       "        2.34717447e+01, 2.64540498e+02, 2.50867138e+02, 3.50154058e+02,\n",
       "        6.17371788e+00, 3.04203531e+01, 7.51149204e+01, 1.08261890e+02,\n",
       "        7.96374574e+00, 2.55315542e+00, 4.75784292e+02, 7.56486528e+01,\n",
       "        1.08736468e+01, 1.23291298e+01, 2.24894840e-01, 5.77524110e+00,\n",
       "        7.16324584e+02, 3.30371485e-04, 8.84161472e+01, 6.91988977e-02,\n",
       "        2.93219308e-01, 7.53870395e+01, 1.40647358e+01, 1.36829042e+01,\n",
       "        1.03343573e+01, 3.01132594e+00, 1.98132753e+02, 4.49967414e+02,\n",
       "        2.56078381e+02, 1.17997226e+02, 7.04172048e+00, 3.39176231e+00,\n",
       "        2.22258171e+01, 1.99621150e+01, 8.46482996e-01, 8.44941399e+01,\n",
       "        2.59801326e+00, 1.80084739e+02, 2.48841715e+02, 2.48085748e+00,\n",
       "        7.19568020e-02, 1.33663345e+01, 1.65828429e+01, 5.05495244e+02,\n",
       "        5.73884790e+01, 6.18966249e-01, 1.12115336e+01, 7.32433091e-02,\n",
       "        1.34102721e+01, 7.07470670e+00, 4.29179329e+01, 4.25272058e+01,\n",
       "        4.94808396e+01, 9.68375143e+00, 9.31912166e+00, 2.15878358e-01,\n",
       "        3.64268487e+02, 1.04301077e+01, 4.25687883e+01, 6.10330607e+00,\n",
       "        5.72779234e+00, 2.12265778e+00, 1.22425657e+00, 3.69656151e+00,\n",
       "        5.51626617e+01, 1.98249485e+00, 1.07936197e-01, 2.56046606e+02,\n",
       "        3.99488283e+00, 1.87187406e+00, 2.29231752e+00, 4.31780574e-01,\n",
       "        1.78147516e-01, 2.99531036e+01, 2.78010931e+01, 1.35407941e+02,\n",
       "        2.04440929e+00, 3.65953934e+03, 4.07428130e+00, 7.25248052e-01,\n",
       "        5.50380094e-01, 6.09488501e-01, 2.24856061e+00, 5.14324015e+01,\n",
       "        3.92441996e+01, 7.82576734e+01, 1.22764234e+01, 1.82674899e-01,\n",
       "        5.51236050e+00, 3.88020238e+00, 5.04705371e+00, 8.51079017e-01,\n",
       "        6.83696652e-01, 2.63595199e+00, 2.91623285e+02]),\n",
       " array([4.57497922e-051, 2.22314800e-031, 2.12318097e-013, 3.97603832e-021,\n",
       "        1.44838480e-013, 0.00000000e+000, 2.96376828e-147, 1.92018773e-013,\n",
       "        1.26930134e-006, 2.05481186e-059, 1.93432124e-056, 5.15645203e-078,\n",
       "        1.29676266e-002, 3.48621652e-008, 4.49847634e-018, 2.41836110e-025,\n",
       "        4.77319150e-003, 1.10077028e-001, 2.92318411e-105, 3.43357381e-018,\n",
       "        9.75724955e-004, 4.46118761e-004, 6.35336261e-001, 1.62550986e-002,\n",
       "        2.63257147e-157, 9.85498382e-001, 5.39861182e-021, 7.92507256e-001,\n",
       "        5.88165942e-001, 3.91967375e-018, 1.76712928e-004, 2.16518579e-004,\n",
       "        1.30613417e-003, 8.26873672e-002, 5.82827745e-045, 1.15069767e-099,\n",
       "        1.42247754e-057, 1.79176624e-027, 7.96436897e-003, 6.55255127e-002,\n",
       "        2.42682271e-006, 7.90687137e-006, 3.57551162e-001, 3.91660938e-020,\n",
       "        1.07000574e-001, 4.99494530e-041, 5.33471992e-056, 1.15242222e-001,\n",
       "        7.88509191e-001, 2.56298152e-004, 4.66022565e-005, 1.06949090e-111,\n",
       "        3.60414240e-014, 4.31433351e-001, 8.13171689e-004, 7.86672262e-001,\n",
       "        2.50364714e-004, 7.81906963e-003, 5.73298835e-011, 6.99996298e-011,\n",
       "        2.01455106e-012, 1.85951200e-003, 2.26827577e-003, 6.42199409e-001,\n",
       "        4.45283156e-081, 1.24013086e-003, 6.85277493e-011, 1.34943931e-002,\n",
       "        1.67000907e-002, 1.45137287e-001, 2.68529279e-001, 5.45272452e-002,\n",
       "        1.11736373e-013, 1.59130589e-001, 7.42506703e-001, 1.44529484e-057,\n",
       "        4.56410273e-002, 1.71263327e-001, 1.30018470e-001, 5.11117883e-001,\n",
       "        6.72970900e-001, 4.43564327e-008, 1.34697629e-007, 2.80187643e-031,\n",
       "        1.52769049e-001, 0.00000000e+000, 4.35431533e-002, 3.94429642e-001,\n",
       "        4.58163978e-001, 4.34982106e-001, 1.33741557e-001, 7.45589852e-013,\n",
       "        3.75324312e-010, 9.17094770e-019, 4.58894733e-004, 6.69085299e-001,\n",
       "        1.88842685e-002, 4.88611168e-002, 2.46697809e-002, 3.56249247e-001,\n",
       "        4.08318448e-001, 1.04472226e-001, 2.66291669e-065]))"
      ]
     },
     "execution_count": 18,
     "metadata": {},
     "output_type": "execute_result"
    }
   ],
   "source": [
    "values"
   ]
  },
  {
   "cell_type": "code",
   "execution_count": 19,
   "metadata": {
    "ExecuteTime": {
     "end_time": "2020-03-11T01:18:57.919004Z",
     "start_time": "2020-03-11T01:18:57.903320Z"
    }
   },
   "outputs": [
    {
     "data": {
      "text/html": [
       "<div>\n",
       "<style scoped>\n",
       "    .dataframe tbody tr th:only-of-type {\n",
       "        vertical-align: middle;\n",
       "    }\n",
       "\n",
       "    .dataframe tbody tr th {\n",
       "        vertical-align: top;\n",
       "    }\n",
       "\n",
       "    .dataframe thead th {\n",
       "        text-align: right;\n",
       "    }\n",
       "</style>\n",
       "<table border=\"1\" class=\"dataframe\">\n",
       "  <thead>\n",
       "    <tr style=\"text-align: right;\">\n",
       "      <th></th>\n",
       "      <th>0</th>\n",
       "      <th>1</th>\n",
       "    </tr>\n",
       "  </thead>\n",
       "  <tbody>\n",
       "    <tr>\n",
       "      <th>0</th>\n",
       "      <td>226.169909</td>\n",
       "      <td>4.574979e-51</td>\n",
       "    </tr>\n",
       "    <tr>\n",
       "      <th>1</th>\n",
       "      <td>135.867886</td>\n",
       "      <td>2.223148e-31</td>\n",
       "    </tr>\n",
       "    <tr>\n",
       "      <th>2</th>\n",
       "      <td>53.900518</td>\n",
       "      <td>2.123181e-13</td>\n",
       "    </tr>\n",
       "    <tr>\n",
       "      <th>3</th>\n",
       "      <td>89.021662</td>\n",
       "      <td>3.976038e-21</td>\n",
       "    </tr>\n",
       "    <tr>\n",
       "      <th>4</th>\n",
       "      <td>54.652436</td>\n",
       "      <td>1.448385e-13</td>\n",
       "    </tr>\n",
       "    <tr>\n",
       "      <th>...</th>\n",
       "      <td>...</td>\n",
       "      <td>...</td>\n",
       "    </tr>\n",
       "    <tr>\n",
       "      <th>98</th>\n",
       "      <td>5.047054</td>\n",
       "      <td>2.466978e-02</td>\n",
       "    </tr>\n",
       "    <tr>\n",
       "      <th>99</th>\n",
       "      <td>0.851079</td>\n",
       "      <td>3.562492e-01</td>\n",
       "    </tr>\n",
       "    <tr>\n",
       "      <th>100</th>\n",
       "      <td>0.683697</td>\n",
       "      <td>4.083184e-01</td>\n",
       "    </tr>\n",
       "    <tr>\n",
       "      <th>101</th>\n",
       "      <td>2.635952</td>\n",
       "      <td>1.044722e-01</td>\n",
       "    </tr>\n",
       "    <tr>\n",
       "      <th>102</th>\n",
       "      <td>291.623285</td>\n",
       "      <td>2.662917e-65</td>\n",
       "    </tr>\n",
       "  </tbody>\n",
       "</table>\n",
       "<p>103 rows × 2 columns</p>\n",
       "</div>"
      ],
      "text/plain": [
       "              0             1\n",
       "0    226.169909  4.574979e-51\n",
       "1    135.867886  2.223148e-31\n",
       "2     53.900518  2.123181e-13\n",
       "3     89.021662  3.976038e-21\n",
       "4     54.652436  1.448385e-13\n",
       "..          ...           ...\n",
       "98     5.047054  2.466978e-02\n",
       "99     0.851079  3.562492e-01\n",
       "100    0.683697  4.083184e-01\n",
       "101    2.635952  1.044722e-01\n",
       "102  291.623285  2.662917e-65\n",
       "\n",
       "[103 rows x 2 columns]"
      ]
     },
     "execution_count": 19,
     "metadata": {},
     "output_type": "execute_result"
    }
   ],
   "source": [
    "f_values = pd.DataFrame(values).T\n",
    "f_values"
   ]
  },
  {
   "cell_type": "code",
   "execution_count": 20,
   "metadata": {
    "ExecuteTime": {
     "end_time": "2020-03-11T01:18:57.925290Z",
     "start_time": "2020-03-11T01:18:57.921188Z"
    }
   },
   "outputs": [],
   "source": [
    "f_values.rename(columns = {0:\"fvalue\", 1:\"pvalue\" }, inplace = True)"
   ]
  },
  {
   "cell_type": "code",
   "execution_count": 21,
   "metadata": {
    "ExecuteTime": {
     "end_time": "2020-03-11T01:18:57.936108Z",
     "start_time": "2020-03-11T01:18:57.927150Z"
    }
   },
   "outputs": [
    {
     "data": {
      "text/html": [
       "<div>\n",
       "<style scoped>\n",
       "    .dataframe tbody tr th:only-of-type {\n",
       "        vertical-align: middle;\n",
       "    }\n",
       "\n",
       "    .dataframe tbody tr th {\n",
       "        vertical-align: top;\n",
       "    }\n",
       "\n",
       "    .dataframe thead th {\n",
       "        text-align: right;\n",
       "    }\n",
       "</style>\n",
       "<table border=\"1\" class=\"dataframe\">\n",
       "  <thead>\n",
       "    <tr style=\"text-align: right;\">\n",
       "      <th></th>\n",
       "      <th>fvalue</th>\n",
       "      <th>pvalue</th>\n",
       "    </tr>\n",
       "  </thead>\n",
       "  <tbody>\n",
       "    <tr>\n",
       "      <th>0</th>\n",
       "      <td>226.169909</td>\n",
       "      <td>4.574979e-51</td>\n",
       "    </tr>\n",
       "    <tr>\n",
       "      <th>1</th>\n",
       "      <td>135.867886</td>\n",
       "      <td>2.223148e-31</td>\n",
       "    </tr>\n",
       "    <tr>\n",
       "      <th>2</th>\n",
       "      <td>53.900518</td>\n",
       "      <td>2.123181e-13</td>\n",
       "    </tr>\n",
       "    <tr>\n",
       "      <th>3</th>\n",
       "      <td>89.021662</td>\n",
       "      <td>3.976038e-21</td>\n",
       "    </tr>\n",
       "    <tr>\n",
       "      <th>4</th>\n",
       "      <td>54.652436</td>\n",
       "      <td>1.448385e-13</td>\n",
       "    </tr>\n",
       "    <tr>\n",
       "      <th>...</th>\n",
       "      <td>...</td>\n",
       "      <td>...</td>\n",
       "    </tr>\n",
       "    <tr>\n",
       "      <th>98</th>\n",
       "      <td>5.047054</td>\n",
       "      <td>2.466978e-02</td>\n",
       "    </tr>\n",
       "    <tr>\n",
       "      <th>99</th>\n",
       "      <td>0.851079</td>\n",
       "      <td>3.562492e-01</td>\n",
       "    </tr>\n",
       "    <tr>\n",
       "      <th>100</th>\n",
       "      <td>0.683697</td>\n",
       "      <td>4.083184e-01</td>\n",
       "    </tr>\n",
       "    <tr>\n",
       "      <th>101</th>\n",
       "      <td>2.635952</td>\n",
       "      <td>1.044722e-01</td>\n",
       "    </tr>\n",
       "    <tr>\n",
       "      <th>102</th>\n",
       "      <td>291.623285</td>\n",
       "      <td>2.662917e-65</td>\n",
       "    </tr>\n",
       "  </tbody>\n",
       "</table>\n",
       "<p>103 rows × 2 columns</p>\n",
       "</div>"
      ],
      "text/plain": [
       "         fvalue        pvalue\n",
       "0    226.169909  4.574979e-51\n",
       "1    135.867886  2.223148e-31\n",
       "2     53.900518  2.123181e-13\n",
       "3     89.021662  3.976038e-21\n",
       "4     54.652436  1.448385e-13\n",
       "..          ...           ...\n",
       "98     5.047054  2.466978e-02\n",
       "99     0.851079  3.562492e-01\n",
       "100    0.683697  4.083184e-01\n",
       "101    2.635952  1.044722e-01\n",
       "102  291.623285  2.662917e-65\n",
       "\n",
       "[103 rows x 2 columns]"
      ]
     },
     "execution_count": 21,
     "metadata": {},
     "output_type": "execute_result"
    }
   ],
   "source": [
    "f_values"
   ]
  },
  {
   "cell_type": "code",
   "execution_count": 22,
   "metadata": {
    "ExecuteTime": {
     "end_time": "2020-03-11T01:18:57.952469Z",
     "start_time": "2020-03-11T01:18:57.938908Z"
    }
   },
   "outputs": [
    {
     "data": {
      "text/html": [
       "<div>\n",
       "<style scoped>\n",
       "    .dataframe tbody tr th:only-of-type {\n",
       "        vertical-align: middle;\n",
       "    }\n",
       "\n",
       "    .dataframe tbody tr th {\n",
       "        vertical-align: top;\n",
       "    }\n",
       "\n",
       "    .dataframe thead th {\n",
       "        text-align: right;\n",
       "    }\n",
       "</style>\n",
       "<table border=\"1\" class=\"dataframe\">\n",
       "  <thead>\n",
       "    <tr style=\"text-align: right;\">\n",
       "      <th></th>\n",
       "      <th>fvalue</th>\n",
       "      <th>pvalue</th>\n",
       "    </tr>\n",
       "  </thead>\n",
       "  <tbody>\n",
       "    <tr>\n",
       "      <th>0</th>\n",
       "      <td>226.169909</td>\n",
       "      <td>4.574979e-51</td>\n",
       "    </tr>\n",
       "    <tr>\n",
       "      <th>1</th>\n",
       "      <td>135.867886</td>\n",
       "      <td>2.223148e-31</td>\n",
       "    </tr>\n",
       "    <tr>\n",
       "      <th>2</th>\n",
       "      <td>53.900518</td>\n",
       "      <td>2.123181e-13</td>\n",
       "    </tr>\n",
       "    <tr>\n",
       "      <th>3</th>\n",
       "      <td>89.021662</td>\n",
       "      <td>3.976038e-21</td>\n",
       "    </tr>\n",
       "    <tr>\n",
       "      <th>4</th>\n",
       "      <td>54.652436</td>\n",
       "      <td>1.448385e-13</td>\n",
       "    </tr>\n",
       "    <tr>\n",
       "      <th>...</th>\n",
       "      <td>...</td>\n",
       "      <td>...</td>\n",
       "    </tr>\n",
       "    <tr>\n",
       "      <th>94</th>\n",
       "      <td>12.276423</td>\n",
       "      <td>4.588947e-04</td>\n",
       "    </tr>\n",
       "    <tr>\n",
       "      <th>96</th>\n",
       "      <td>5.512361</td>\n",
       "      <td>1.888427e-02</td>\n",
       "    </tr>\n",
       "    <tr>\n",
       "      <th>97</th>\n",
       "      <td>3.880202</td>\n",
       "      <td>4.886112e-02</td>\n",
       "    </tr>\n",
       "    <tr>\n",
       "      <th>98</th>\n",
       "      <td>5.047054</td>\n",
       "      <td>2.466978e-02</td>\n",
       "    </tr>\n",
       "    <tr>\n",
       "      <th>102</th>\n",
       "      <td>291.623285</td>\n",
       "      <td>2.662917e-65</td>\n",
       "    </tr>\n",
       "  </tbody>\n",
       "</table>\n",
       "<p>71 rows × 2 columns</p>\n",
       "</div>"
      ],
      "text/plain": [
       "         fvalue        pvalue\n",
       "0    226.169909  4.574979e-51\n",
       "1    135.867886  2.223148e-31\n",
       "2     53.900518  2.123181e-13\n",
       "3     89.021662  3.976038e-21\n",
       "4     54.652436  1.448385e-13\n",
       "..          ...           ...\n",
       "94    12.276423  4.588947e-04\n",
       "96     5.512361  1.888427e-02\n",
       "97     3.880202  4.886112e-02\n",
       "98     5.047054  2.466978e-02\n",
       "102  291.623285  2.662917e-65\n",
       "\n",
       "[71 rows x 2 columns]"
      ]
     },
     "execution_count": 22,
     "metadata": {},
     "output_type": "execute_result"
    }
   ],
   "source": [
    "f_values[f_values[\"pvalue\"]<=.05]"
   ]
  },
  {
   "cell_type": "markdown",
   "metadata": {
    "ExecuteTime": {
     "end_time": "2020-03-09T20:09:43.962064Z",
     "start_time": "2020-03-09T20:09:43.959786Z"
    }
   },
   "source": [
    "# Categorical Correlation"
   ]
  },
  {
   "cell_type": "code",
   "execution_count": 23,
   "metadata": {
    "ExecuteTime": {
     "end_time": "2020-03-11T01:18:57.961681Z",
     "start_time": "2020-03-11T01:18:57.959072Z"
    }
   },
   "outputs": [],
   "source": [
    "import scipy.stats as ss"
   ]
  },
  {
   "cell_type": "code",
   "execution_count": 24,
   "metadata": {
    "ExecuteTime": {
     "end_time": "2020-03-11T01:18:58.674631Z",
     "start_time": "2020-03-11T01:18:57.964173Z"
    }
   },
   "outputs": [],
   "source": [
    "confusion_matrix = pd.crosstab(df[\"sponsor_state\"], df[\"committees\"])"
   ]
  },
  {
   "cell_type": "code",
   "execution_count": 25,
   "metadata": {
    "ExecuteTime": {
     "end_time": "2020-03-11T01:18:58.679609Z",
     "start_time": "2020-03-11T01:18:58.677171Z"
    }
   },
   "outputs": [],
   "source": [
    "#Cramer's V"
   ]
  },
  {
   "cell_type": "code",
   "execution_count": 26,
   "metadata": {
    "ExecuteTime": {
     "end_time": "2020-03-11T01:18:58.862031Z",
     "start_time": "2020-03-11T01:18:58.681906Z"
    }
   },
   "outputs": [],
   "source": [
    "def cramers_stat(confusion_matrix):\n",
    "    chi2 = ss.chi2_contingency(confusion_matrix)[0]\n",
    "    n = confusion_matrix.sum()\n",
    "    return np.sqrt(chi2 / (n*(min(confusion_matrix.shape)-1)))\n",
    "\n",
    "result = cramers_stat(confusion_matrix)"
   ]
  },
  {
   "cell_type": "code",
   "execution_count": 27,
   "metadata": {
    "ExecuteTime": {
     "end_time": "2020-03-11T01:18:58.870988Z",
     "start_time": "2020-03-11T01:18:58.864388Z"
    }
   },
   "outputs": [
    {
     "data": {
      "text/plain": [
       "committees\n",
       "['  Administration', '  Agriculture', '  Appropriations', '  Budget', '  Education and the Workforce', '  Energy and Commerce', '  Financial Services', '  Judiciary', '  Natural Resources', '  Rules', '  Science, Space, and Technology', '  Transportation and Infrastructure', '  Ways and Means', 'Oversight and Government Reform']       62.058897\n",
       "['  Administration', '  Agriculture', '  Appropriations', '  Education and the Workforce', '  Energy and Commerce', '  Judiciary', '  Natural Resources', '  Oversight and Government Reform', '  Rules', '  Ways and Means', 'Budget']                                                                                                          62.058897\n",
       "['  Administration', '  Agriculture', '  Armed Services', '  Education and the Workforce', '  Energy and Commerce', '  Financial Services', '  Foreign Affairs', '  Natural Resources', '  Oversight and Government Reform', '  Science, Space, and Technology', '  Transportation and Infrastructure', '  Ways and Means', 'Appropriations']    62.058897\n",
       "['  Administration', '  Agriculture', '  Budget', '  Energy and Commerce', '  Financial Services', '  Foreign Affairs', '  Intelligence (Permanent Select)', '  Natural Resources', '  Oversight and Government Reform', '  Rules', '  Transportation and Infrastructure', 'Ways and Means']                                                     62.058897\n",
       "['  Administration', '  Agriculture', '  Budget', '  Energy and Commerce', '  Financial Services', '  Judiciary', '  Oversight and Government Reform', '  Rules', 'Ways and Means']                                                                                                                                                              62.058897\n",
       "                                                                                                                                                                                                                                                                                                                                                   ...    \n",
       "['Small Business and Entrepreneurship']                                                                                                                                                                                                                                                                                                           3.317188\n",
       "['Small Business']                                                                                                                                                                                                                                                                                                                                3.028164\n",
       "['Standards of Official Conduct']                                                                                                                                                                                                                                                                                                                14.237287\n",
       "['Transportation and Infrastructure']                                                                                                                                                                                                                                                                                                             1.149830\n",
       "['Ways and Means']                                                                                                                                                                                                                                                                                                                                0.561878\n",
       "Length: 2571, dtype: float64"
      ]
     },
     "execution_count": 27,
     "metadata": {},
     "output_type": "execute_result"
    }
   ],
   "source": [
    "result"
   ]
  },
  {
   "cell_type": "code",
   "execution_count": 28,
   "metadata": {
    "ExecuteTime": {
     "end_time": "2020-03-11T01:18:58.877839Z",
     "start_time": "2020-03-11T01:18:58.872961Z"
    }
   },
   "outputs": [
    {
     "data": {
      "text/plain": [
       "Index(['region_West', 'primary_subject_Armed Forces and National Security',\n",
       "       'primary_subject_Armed forces and national security',\n",
       "       'primary_subject_Commemorations', 'primary_subject_Commerce',\n",
       "       'primary_subject_Congress', 'primary_subject_Crime and Law Enforcement',\n",
       "       'primary_subject_Crime and law enforcement',\n",
       "       'primary_subject_Education', 'primary_subject_Energy',\n",
       "       'primary_subject_Environmental protection',\n",
       "       'primary_subject_Finance and Financial Sector',\n",
       "       'primary_subject_Finance and financial sector',\n",
       "       'primary_subject_Foreign trade and international finance',\n",
       "       'primary_subject_Government Operations and Politics',\n",
       "       'primary_subject_Government operations and politics',\n",
       "       'primary_subject_Health', 'primary_subject_Immigration',\n",
       "       'primary_subject_International Affairs',\n",
       "       'primary_subject_International affairs',\n",
       "       'primary_subject_Labor and employment', 'primary_subject_Law',\n",
       "       'primary_subject_Other',\n",
       "       'primary_subject_Public Lands and Natural Resources',\n",
       "       'primary_subject_Public lands and natural resources',\n",
       "       'primary_subject_Taxation',\n",
       "       'primary_subject_Transportation and public works',\n",
       "       'clean_committees_Aging', 'clean_committees_Agriculture',\n",
       "       'clean_committees_Agriculture, Nutrition, and Forestry'],\n",
       "      dtype='object')"
      ]
     },
     "execution_count": 28,
     "metadata": {},
     "output_type": "execute_result"
    }
   ],
   "source": [
    "df.columns[40:70]"
   ]
  },
  {
   "cell_type": "code",
   "execution_count": 29,
   "metadata": {
    "ExecuteTime": {
     "end_time": "2020-03-11T01:18:58.906151Z",
     "start_time": "2020-03-11T01:18:58.879603Z"
    }
   },
   "outputs": [
    {
     "data": {
      "text/plain": [
       "primary_subject_Armed forces and national security\n",
       "0    0.005393\n",
       "1    0.026553\n",
       "dtype: float64"
      ]
     },
     "execution_count": 29,
     "metadata": {},
     "output_type": "execute_result"
    }
   ],
   "source": [
    "confusion_matrix = pd.crosstab( df[\"region_South\"], df[\"primary_subject_Armed forces and national security\"])\n",
    "\n",
    "def cramers_stat(confusion_matrix):\n",
    "    chi2 = ss.chi2_contingency(confusion_matrix)[0]\n",
    "    n = confusion_matrix.sum()\n",
    "    return np.sqrt(chi2 / (n*(min(confusion_matrix.shape)-1)))\n",
    "\n",
    "result = cramers_stat(confusion_matrix)\n",
    "result"
   ]
  },
  {
   "cell_type": "code",
   "execution_count": 30,
   "metadata": {
    "ExecuteTime": {
     "end_time": "2020-03-11T01:18:58.938343Z",
     "start_time": "2020-03-11T01:18:58.909378Z"
    }
   },
   "outputs": [
    {
     "data": {
      "text/plain": [
       "primary_subject_International affairs\n",
       "0    0.030355\n",
       "1    0.150885\n",
       "dtype: float64"
      ]
     },
     "execution_count": 30,
     "metadata": {},
     "output_type": "execute_result"
    }
   ],
   "source": [
    "confusion_matrix = pd.crosstab(df[\"region_Northeast\"], df[\"primary_subject_International affairs\"])\n",
    "\n",
    "def cramers_stat(confusion_matrix):\n",
    "    chi2 = ss.chi2_contingency(confusion_matrix)[0]\n",
    "    n = confusion_matrix.sum()\n",
    "    return np.sqrt(chi2 / (n*(min(confusion_matrix.shape)-1)))\n",
    "\n",
    "result = cramers_stat(confusion_matrix)\n",
    "result"
   ]
  },
  {
   "cell_type": "code",
   "execution_count": null,
   "metadata": {},
   "outputs": [],
   "source": []
  }
 ],
 "metadata": {
  "kernelspec": {
   "display_name": "Python 3",
   "language": "python",
   "name": "python3"
  },
  "language_info": {
   "codemirror_mode": {
    "name": "ipython",
    "version": 3
   },
   "file_extension": ".py",
   "mimetype": "text/x-python",
   "name": "python",
   "nbconvert_exporter": "python",
   "pygments_lexer": "ipython3",
   "version": "3.7.4"
  }
 },
 "nbformat": 4,
 "nbformat_minor": 2
}
